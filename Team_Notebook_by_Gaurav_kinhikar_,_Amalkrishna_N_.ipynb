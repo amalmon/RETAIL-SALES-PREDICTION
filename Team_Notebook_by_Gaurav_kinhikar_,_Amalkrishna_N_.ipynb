{
  "nbformat": 4,
  "nbformat_minor": 0,
  "metadata": {
    "colab": {
      "provenance": [],
      "authorship_tag": "ABX9TyP+X3ij1M/EMSVOXwI6oNSg",
      "include_colab_link": true
    },
    "kernelspec": {
      "name": "python3",
      "display_name": "Python 3"
    },
    "language_info": {
      "name": "python"
    }
  },
  "cells": [
    {
      "cell_type": "markdown",
      "metadata": {
        "id": "view-in-github",
        "colab_type": "text"
      },
      "source": [
        "<a href=\"https://colab.research.google.com/github/amalmon/RETAIL-SALES-PREDICTION/blob/main/Team_Notebook_by_Gaurav_kinhikar_%2C_Amalkrishna_N_.ipynb\" target=\"_parent\"><img src=\"https://colab.research.google.com/assets/colab-badge.svg\" alt=\"Open In Colab\"/></a>"
      ]
    },
    {
      "cell_type": "code",
      "execution_count": null,
      "metadata": {
        "id": "n66P2ILlAcMV"
      },
      "outputs": [],
      "source": []
    },
    {
      "cell_type": "markdown",
      "source": [],
      "metadata": {
        "id": "CEzTetoKkNTl"
      }
    },
    {
      "cell_type": "markdown",
      "source": [
        "Problem Description\n",
        "Rossmann operates over 3,000 drug stores in 7 European countries. Currently, Rossmann store managers are tasked with predicting their daily sales for up to six weeks in advance. Store sales are influenced by many factors, including promotions, competition, school and state holidays, seasonality, and locality. With thousands of individual managers predicting sales based on their unique circumstances, the accuracy of results can be quite varied.\n",
        "You are provided with historical sales data for 1,115 Rossmann stores. The task is to forecast the \"Sales\" column for the test set. Note that some stores in the dataset were temporarily closed for refurbishment."
      ],
      "metadata": {
        "id": "wqcmk95BkNN2"
      }
    },
    {
      "cell_type": "markdown",
      "source": [],
      "metadata": {
        "id": "Ous1mbVXkNKy"
      }
    },
    {
      "cell_type": "code",
      "source": [
        "import numpy as np      # To use np.arrays\n",
        "import pandas as pd     # To use dataframes\n",
        "\n",
        "from pandas import datetime as dt\n",
        "from pandas import Series,DataFrame"
      ],
      "metadata": {
        "id": "lIMtCWnskaet",
        "colab": {
          "base_uri": "https://localhost:8080/"
        },
        "outputId": "0324a7df-ccff-4b97-e061-7e5efb8dac45"
      },
      "execution_count": null,
      "outputs": [
        {
          "output_type": "stream",
          "name": "stderr",
          "text": [
            "/usr/local/lib/python3.7/dist-packages/ipykernel_launcher.py:4: FutureWarning: The pandas.datetime class is deprecated and will be removed from pandas in a future version. Import from datetime module instead.\n",
            "  after removing the cwd from sys.path.\n"
          ]
        }
      ]
    },
    {
      "cell_type": "code",
      "source": [
        "import matplotlib.pyplot as plt  \n",
        "%matplotlib inline    \n",
        "import seaborn as sns\n",
        "sns.set_style(\"whitegrid\")\n",
        "\n",
        "from sklearn.model_selection import train_test_split\n",
        "from xgboost import XGBRegressor"
      ],
      "metadata": {
        "id": "Cm2dYW3Nkabm"
      },
      "execution_count": null,
      "outputs": []
    },
    {
      "cell_type": "code",
      "source": [
        "from sklearn.linear_model import LinearRegression\n",
        "from sklearn.linear_model import Ridge,Lasso\n",
        "from sklearn.preprocessing import PolynomialFeatures\n",
        "from sklearn.preprocessing import LabelEncoder\n",
        "from sklearn.preprocessing import OneHotEncoder\n",
        "\n",
        "from sklearn.tree import DecisionTreeRegressor\n",
        "from sklearn import model_selection\n",
        "from sklearn import metrics"
      ],
      "metadata": {
        "id": "KnYBaB71kj6W"
      },
      "execution_count": null,
      "outputs": []
    },
    {
      "cell_type": "code",
      "source": [
        "import warnings\n",
        "warnings.filterwarnings('ignore')"
      ],
      "metadata": {
        "id": "Tv_9pT-ekyhS"
      },
      "execution_count": null,
      "outputs": []
    },
    {
      "cell_type": "code",
      "source": [
        "from google.colab import drive\n",
        "drive.mount ('/content/drive')"
      ],
      "metadata": {
        "colab": {
          "base_uri": "https://localhost:8080/"
        },
        "id": "xYN2-9AIk1FH",
        "outputId": "672362f2-20e1-49b4-f305-518e01a2e28d"
      },
      "execution_count": null,
      "outputs": [
        {
          "output_type": "stream",
          "name": "stdout",
          "text": [
            "Mounted at /content/drive\n"
          ]
        }
      ]
    },
    {
      "cell_type": "code",
      "source": [
        "Data_df = pd.read_csv (\"/content/drive/MyDrive/Almabetter/capstone projects/Capstone project 2 ML regression /Rossmann Stores Data.csv\")"
      ],
      "metadata": {
        "id": "MHuabzgIk6Lj"
      },
      "execution_count": null,
      "outputs": []
    },
    {
      "cell_type": "code",
      "source": [
        "Data_df"
      ],
      "metadata": {
        "colab": {
          "base_uri": "https://localhost:8080/",
          "height": 424
        },
        "id": "ZzAuxjV2k8Pi",
        "outputId": "d84be1b7-862c-4845-9fc9-7372341773de"
      },
      "execution_count": null,
      "outputs": [
        {
          "output_type": "execute_result",
          "data": {
            "text/plain": [
              "         Store  DayOfWeek        Date  Sales  Customers  Open  Promo  \\\n",
              "0            1          5  2015-07-31   5263        555     1      1   \n",
              "1            2          5  2015-07-31   6064        625     1      1   \n",
              "2            3          5  2015-07-31   8314        821     1      1   \n",
              "3            4          5  2015-07-31  13995       1498     1      1   \n",
              "4            5          5  2015-07-31   4822        559     1      1   \n",
              "...        ...        ...         ...    ...        ...   ...    ...   \n",
              "1017204   1111          2  2013-01-01      0          0     0      0   \n",
              "1017205   1112          2  2013-01-01      0          0     0      0   \n",
              "1017206   1113          2  2013-01-01      0          0     0      0   \n",
              "1017207   1114          2  2013-01-01      0          0     0      0   \n",
              "1017208   1115          2  2013-01-01      0          0     0      0   \n",
              "\n",
              "        StateHoliday  SchoolHoliday  \n",
              "0                  0              1  \n",
              "1                  0              1  \n",
              "2                  0              1  \n",
              "3                  0              1  \n",
              "4                  0              1  \n",
              "...              ...            ...  \n",
              "1017204            a              1  \n",
              "1017205            a              1  \n",
              "1017206            a              1  \n",
              "1017207            a              1  \n",
              "1017208            a              1  \n",
              "\n",
              "[1017209 rows x 9 columns]"
            ],
            "text/html": [
              "\n",
              "  <div id=\"df-6916ca49-b23e-4ed7-b393-1a9c66dc89e9\">\n",
              "    <div class=\"colab-df-container\">\n",
              "      <div>\n",
              "<style scoped>\n",
              "    .dataframe tbody tr th:only-of-type {\n",
              "        vertical-align: middle;\n",
              "    }\n",
              "\n",
              "    .dataframe tbody tr th {\n",
              "        vertical-align: top;\n",
              "    }\n",
              "\n",
              "    .dataframe thead th {\n",
              "        text-align: right;\n",
              "    }\n",
              "</style>\n",
              "<table border=\"1\" class=\"dataframe\">\n",
              "  <thead>\n",
              "    <tr style=\"text-align: right;\">\n",
              "      <th></th>\n",
              "      <th>Store</th>\n",
              "      <th>DayOfWeek</th>\n",
              "      <th>Date</th>\n",
              "      <th>Sales</th>\n",
              "      <th>Customers</th>\n",
              "      <th>Open</th>\n",
              "      <th>Promo</th>\n",
              "      <th>StateHoliday</th>\n",
              "      <th>SchoolHoliday</th>\n",
              "    </tr>\n",
              "  </thead>\n",
              "  <tbody>\n",
              "    <tr>\n",
              "      <th>0</th>\n",
              "      <td>1</td>\n",
              "      <td>5</td>\n",
              "      <td>2015-07-31</td>\n",
              "      <td>5263</td>\n",
              "      <td>555</td>\n",
              "      <td>1</td>\n",
              "      <td>1</td>\n",
              "      <td>0</td>\n",
              "      <td>1</td>\n",
              "    </tr>\n",
              "    <tr>\n",
              "      <th>1</th>\n",
              "      <td>2</td>\n",
              "      <td>5</td>\n",
              "      <td>2015-07-31</td>\n",
              "      <td>6064</td>\n",
              "      <td>625</td>\n",
              "      <td>1</td>\n",
              "      <td>1</td>\n",
              "      <td>0</td>\n",
              "      <td>1</td>\n",
              "    </tr>\n",
              "    <tr>\n",
              "      <th>2</th>\n",
              "      <td>3</td>\n",
              "      <td>5</td>\n",
              "      <td>2015-07-31</td>\n",
              "      <td>8314</td>\n",
              "      <td>821</td>\n",
              "      <td>1</td>\n",
              "      <td>1</td>\n",
              "      <td>0</td>\n",
              "      <td>1</td>\n",
              "    </tr>\n",
              "    <tr>\n",
              "      <th>3</th>\n",
              "      <td>4</td>\n",
              "      <td>5</td>\n",
              "      <td>2015-07-31</td>\n",
              "      <td>13995</td>\n",
              "      <td>1498</td>\n",
              "      <td>1</td>\n",
              "      <td>1</td>\n",
              "      <td>0</td>\n",
              "      <td>1</td>\n",
              "    </tr>\n",
              "    <tr>\n",
              "      <th>4</th>\n",
              "      <td>5</td>\n",
              "      <td>5</td>\n",
              "      <td>2015-07-31</td>\n",
              "      <td>4822</td>\n",
              "      <td>559</td>\n",
              "      <td>1</td>\n",
              "      <td>1</td>\n",
              "      <td>0</td>\n",
              "      <td>1</td>\n",
              "    </tr>\n",
              "    <tr>\n",
              "      <th>...</th>\n",
              "      <td>...</td>\n",
              "      <td>...</td>\n",
              "      <td>...</td>\n",
              "      <td>...</td>\n",
              "      <td>...</td>\n",
              "      <td>...</td>\n",
              "      <td>...</td>\n",
              "      <td>...</td>\n",
              "      <td>...</td>\n",
              "    </tr>\n",
              "    <tr>\n",
              "      <th>1017204</th>\n",
              "      <td>1111</td>\n",
              "      <td>2</td>\n",
              "      <td>2013-01-01</td>\n",
              "      <td>0</td>\n",
              "      <td>0</td>\n",
              "      <td>0</td>\n",
              "      <td>0</td>\n",
              "      <td>a</td>\n",
              "      <td>1</td>\n",
              "    </tr>\n",
              "    <tr>\n",
              "      <th>1017205</th>\n",
              "      <td>1112</td>\n",
              "      <td>2</td>\n",
              "      <td>2013-01-01</td>\n",
              "      <td>0</td>\n",
              "      <td>0</td>\n",
              "      <td>0</td>\n",
              "      <td>0</td>\n",
              "      <td>a</td>\n",
              "      <td>1</td>\n",
              "    </tr>\n",
              "    <tr>\n",
              "      <th>1017206</th>\n",
              "      <td>1113</td>\n",
              "      <td>2</td>\n",
              "      <td>2013-01-01</td>\n",
              "      <td>0</td>\n",
              "      <td>0</td>\n",
              "      <td>0</td>\n",
              "      <td>0</td>\n",
              "      <td>a</td>\n",
              "      <td>1</td>\n",
              "    </tr>\n",
              "    <tr>\n",
              "      <th>1017207</th>\n",
              "      <td>1114</td>\n",
              "      <td>2</td>\n",
              "      <td>2013-01-01</td>\n",
              "      <td>0</td>\n",
              "      <td>0</td>\n",
              "      <td>0</td>\n",
              "      <td>0</td>\n",
              "      <td>a</td>\n",
              "      <td>1</td>\n",
              "    </tr>\n",
              "    <tr>\n",
              "      <th>1017208</th>\n",
              "      <td>1115</td>\n",
              "      <td>2</td>\n",
              "      <td>2013-01-01</td>\n",
              "      <td>0</td>\n",
              "      <td>0</td>\n",
              "      <td>0</td>\n",
              "      <td>0</td>\n",
              "      <td>a</td>\n",
              "      <td>1</td>\n",
              "    </tr>\n",
              "  </tbody>\n",
              "</table>\n",
              "<p>1017209 rows × 9 columns</p>\n",
              "</div>\n",
              "      <button class=\"colab-df-convert\" onclick=\"convertToInteractive('df-6916ca49-b23e-4ed7-b393-1a9c66dc89e9')\"\n",
              "              title=\"Convert this dataframe to an interactive table.\"\n",
              "              style=\"display:none;\">\n",
              "        \n",
              "  <svg xmlns=\"http://www.w3.org/2000/svg\" height=\"24px\"viewBox=\"0 0 24 24\"\n",
              "       width=\"24px\">\n",
              "    <path d=\"M0 0h24v24H0V0z\" fill=\"none\"/>\n",
              "    <path d=\"M18.56 5.44l.94 2.06.94-2.06 2.06-.94-2.06-.94-.94-2.06-.94 2.06-2.06.94zm-11 1L8.5 8.5l.94-2.06 2.06-.94-2.06-.94L8.5 2.5l-.94 2.06-2.06.94zm10 10l.94 2.06.94-2.06 2.06-.94-2.06-.94-.94-2.06-.94 2.06-2.06.94z\"/><path d=\"M17.41 7.96l-1.37-1.37c-.4-.4-.92-.59-1.43-.59-.52 0-1.04.2-1.43.59L10.3 9.45l-7.72 7.72c-.78.78-.78 2.05 0 2.83L4 21.41c.39.39.9.59 1.41.59.51 0 1.02-.2 1.41-.59l7.78-7.78 2.81-2.81c.8-.78.8-2.07 0-2.86zM5.41 20L4 18.59l7.72-7.72 1.47 1.35L5.41 20z\"/>\n",
              "  </svg>\n",
              "      </button>\n",
              "      \n",
              "  <style>\n",
              "    .colab-df-container {\n",
              "      display:flex;\n",
              "      flex-wrap:wrap;\n",
              "      gap: 12px;\n",
              "    }\n",
              "\n",
              "    .colab-df-convert {\n",
              "      background-color: #E8F0FE;\n",
              "      border: none;\n",
              "      border-radius: 50%;\n",
              "      cursor: pointer;\n",
              "      display: none;\n",
              "      fill: #1967D2;\n",
              "      height: 32px;\n",
              "      padding: 0 0 0 0;\n",
              "      width: 32px;\n",
              "    }\n",
              "\n",
              "    .colab-df-convert:hover {\n",
              "      background-color: #E2EBFA;\n",
              "      box-shadow: 0px 1px 2px rgba(60, 64, 67, 0.3), 0px 1px 3px 1px rgba(60, 64, 67, 0.15);\n",
              "      fill: #174EA6;\n",
              "    }\n",
              "\n",
              "    [theme=dark] .colab-df-convert {\n",
              "      background-color: #3B4455;\n",
              "      fill: #D2E3FC;\n",
              "    }\n",
              "\n",
              "    [theme=dark] .colab-df-convert:hover {\n",
              "      background-color: #434B5C;\n",
              "      box-shadow: 0px 1px 3px 1px rgba(0, 0, 0, 0.15);\n",
              "      filter: drop-shadow(0px 1px 2px rgba(0, 0, 0, 0.3));\n",
              "      fill: #FFFFFF;\n",
              "    }\n",
              "  </style>\n",
              "\n",
              "      <script>\n",
              "        const buttonEl =\n",
              "          document.querySelector('#df-6916ca49-b23e-4ed7-b393-1a9c66dc89e9 button.colab-df-convert');\n",
              "        buttonEl.style.display =\n",
              "          google.colab.kernel.accessAllowed ? 'block' : 'none';\n",
              "\n",
              "        async function convertToInteractive(key) {\n",
              "          const element = document.querySelector('#df-6916ca49-b23e-4ed7-b393-1a9c66dc89e9');\n",
              "          const dataTable =\n",
              "            await google.colab.kernel.invokeFunction('convertToInteractive',\n",
              "                                                     [key], {});\n",
              "          if (!dataTable) return;\n",
              "\n",
              "          const docLinkHtml = 'Like what you see? Visit the ' +\n",
              "            '<a target=\"_blank\" href=https://colab.research.google.com/notebooks/data_table.ipynb>data table notebook</a>'\n",
              "            + ' to learn more about interactive tables.';\n",
              "          element.innerHTML = '';\n",
              "          dataTable['output_type'] = 'display_data';\n",
              "          await google.colab.output.renderOutput(dataTable, element);\n",
              "          const docLink = document.createElement('div');\n",
              "          docLink.innerHTML = docLinkHtml;\n",
              "          element.appendChild(docLink);\n",
              "        }\n",
              "      </script>\n",
              "    </div>\n",
              "  </div>\n",
              "  "
            ]
          },
          "metadata": {},
          "execution_count": 7
        }
      ]
    },
    {
      "cell_type": "code",
      "source": [
        "Data_df.describe()"
      ],
      "metadata": {
        "colab": {
          "base_uri": "https://localhost:8080/",
          "height": 300
        },
        "id": "Se7c7wr5lZ7E",
        "outputId": "3a952995-2311-45a0-a41c-f19f53a53ca2"
      },
      "execution_count": null,
      "outputs": [
        {
          "output_type": "execute_result",
          "data": {
            "text/plain": [
              "              Store     DayOfWeek         Sales     Customers          Open  \\\n",
              "count  1.017209e+06  1.017209e+06  1.017209e+06  1.017209e+06  1.017209e+06   \n",
              "mean   5.584297e+02  3.998341e+00  5.773819e+03  6.331459e+02  8.301067e-01   \n",
              "std    3.219087e+02  1.997391e+00  3.849926e+03  4.644117e+02  3.755392e-01   \n",
              "min    1.000000e+00  1.000000e+00  0.000000e+00  0.000000e+00  0.000000e+00   \n",
              "25%    2.800000e+02  2.000000e+00  3.727000e+03  4.050000e+02  1.000000e+00   \n",
              "50%    5.580000e+02  4.000000e+00  5.744000e+03  6.090000e+02  1.000000e+00   \n",
              "75%    8.380000e+02  6.000000e+00  7.856000e+03  8.370000e+02  1.000000e+00   \n",
              "max    1.115000e+03  7.000000e+00  4.155100e+04  7.388000e+03  1.000000e+00   \n",
              "\n",
              "              Promo  SchoolHoliday  \n",
              "count  1.017209e+06   1.017209e+06  \n",
              "mean   3.815145e-01   1.786467e-01  \n",
              "std    4.857586e-01   3.830564e-01  \n",
              "min    0.000000e+00   0.000000e+00  \n",
              "25%    0.000000e+00   0.000000e+00  \n",
              "50%    0.000000e+00   0.000000e+00  \n",
              "75%    1.000000e+00   0.000000e+00  \n",
              "max    1.000000e+00   1.000000e+00  "
            ],
            "text/html": [
              "\n",
              "  <div id=\"df-a9f86018-3b50-4e60-9fd1-4c6cdb17252f\">\n",
              "    <div class=\"colab-df-container\">\n",
              "      <div>\n",
              "<style scoped>\n",
              "    .dataframe tbody tr th:only-of-type {\n",
              "        vertical-align: middle;\n",
              "    }\n",
              "\n",
              "    .dataframe tbody tr th {\n",
              "        vertical-align: top;\n",
              "    }\n",
              "\n",
              "    .dataframe thead th {\n",
              "        text-align: right;\n",
              "    }\n",
              "</style>\n",
              "<table border=\"1\" class=\"dataframe\">\n",
              "  <thead>\n",
              "    <tr style=\"text-align: right;\">\n",
              "      <th></th>\n",
              "      <th>Store</th>\n",
              "      <th>DayOfWeek</th>\n",
              "      <th>Sales</th>\n",
              "      <th>Customers</th>\n",
              "      <th>Open</th>\n",
              "      <th>Promo</th>\n",
              "      <th>SchoolHoliday</th>\n",
              "    </tr>\n",
              "  </thead>\n",
              "  <tbody>\n",
              "    <tr>\n",
              "      <th>count</th>\n",
              "      <td>1.017209e+06</td>\n",
              "      <td>1.017209e+06</td>\n",
              "      <td>1.017209e+06</td>\n",
              "      <td>1.017209e+06</td>\n",
              "      <td>1.017209e+06</td>\n",
              "      <td>1.017209e+06</td>\n",
              "      <td>1.017209e+06</td>\n",
              "    </tr>\n",
              "    <tr>\n",
              "      <th>mean</th>\n",
              "      <td>5.584297e+02</td>\n",
              "      <td>3.998341e+00</td>\n",
              "      <td>5.773819e+03</td>\n",
              "      <td>6.331459e+02</td>\n",
              "      <td>8.301067e-01</td>\n",
              "      <td>3.815145e-01</td>\n",
              "      <td>1.786467e-01</td>\n",
              "    </tr>\n",
              "    <tr>\n",
              "      <th>std</th>\n",
              "      <td>3.219087e+02</td>\n",
              "      <td>1.997391e+00</td>\n",
              "      <td>3.849926e+03</td>\n",
              "      <td>4.644117e+02</td>\n",
              "      <td>3.755392e-01</td>\n",
              "      <td>4.857586e-01</td>\n",
              "      <td>3.830564e-01</td>\n",
              "    </tr>\n",
              "    <tr>\n",
              "      <th>min</th>\n",
              "      <td>1.000000e+00</td>\n",
              "      <td>1.000000e+00</td>\n",
              "      <td>0.000000e+00</td>\n",
              "      <td>0.000000e+00</td>\n",
              "      <td>0.000000e+00</td>\n",
              "      <td>0.000000e+00</td>\n",
              "      <td>0.000000e+00</td>\n",
              "    </tr>\n",
              "    <tr>\n",
              "      <th>25%</th>\n",
              "      <td>2.800000e+02</td>\n",
              "      <td>2.000000e+00</td>\n",
              "      <td>3.727000e+03</td>\n",
              "      <td>4.050000e+02</td>\n",
              "      <td>1.000000e+00</td>\n",
              "      <td>0.000000e+00</td>\n",
              "      <td>0.000000e+00</td>\n",
              "    </tr>\n",
              "    <tr>\n",
              "      <th>50%</th>\n",
              "      <td>5.580000e+02</td>\n",
              "      <td>4.000000e+00</td>\n",
              "      <td>5.744000e+03</td>\n",
              "      <td>6.090000e+02</td>\n",
              "      <td>1.000000e+00</td>\n",
              "      <td>0.000000e+00</td>\n",
              "      <td>0.000000e+00</td>\n",
              "    </tr>\n",
              "    <tr>\n",
              "      <th>75%</th>\n",
              "      <td>8.380000e+02</td>\n",
              "      <td>6.000000e+00</td>\n",
              "      <td>7.856000e+03</td>\n",
              "      <td>8.370000e+02</td>\n",
              "      <td>1.000000e+00</td>\n",
              "      <td>1.000000e+00</td>\n",
              "      <td>0.000000e+00</td>\n",
              "    </tr>\n",
              "    <tr>\n",
              "      <th>max</th>\n",
              "      <td>1.115000e+03</td>\n",
              "      <td>7.000000e+00</td>\n",
              "      <td>4.155100e+04</td>\n",
              "      <td>7.388000e+03</td>\n",
              "      <td>1.000000e+00</td>\n",
              "      <td>1.000000e+00</td>\n",
              "      <td>1.000000e+00</td>\n",
              "    </tr>\n",
              "  </tbody>\n",
              "</table>\n",
              "</div>\n",
              "      <button class=\"colab-df-convert\" onclick=\"convertToInteractive('df-a9f86018-3b50-4e60-9fd1-4c6cdb17252f')\"\n",
              "              title=\"Convert this dataframe to an interactive table.\"\n",
              "              style=\"display:none;\">\n",
              "        \n",
              "  <svg xmlns=\"http://www.w3.org/2000/svg\" height=\"24px\"viewBox=\"0 0 24 24\"\n",
              "       width=\"24px\">\n",
              "    <path d=\"M0 0h24v24H0V0z\" fill=\"none\"/>\n",
              "    <path d=\"M18.56 5.44l.94 2.06.94-2.06 2.06-.94-2.06-.94-.94-2.06-.94 2.06-2.06.94zm-11 1L8.5 8.5l.94-2.06 2.06-.94-2.06-.94L8.5 2.5l-.94 2.06-2.06.94zm10 10l.94 2.06.94-2.06 2.06-.94-2.06-.94-.94-2.06-.94 2.06-2.06.94z\"/><path d=\"M17.41 7.96l-1.37-1.37c-.4-.4-.92-.59-1.43-.59-.52 0-1.04.2-1.43.59L10.3 9.45l-7.72 7.72c-.78.78-.78 2.05 0 2.83L4 21.41c.39.39.9.59 1.41.59.51 0 1.02-.2 1.41-.59l7.78-7.78 2.81-2.81c.8-.78.8-2.07 0-2.86zM5.41 20L4 18.59l7.72-7.72 1.47 1.35L5.41 20z\"/>\n",
              "  </svg>\n",
              "      </button>\n",
              "      \n",
              "  <style>\n",
              "    .colab-df-container {\n",
              "      display:flex;\n",
              "      flex-wrap:wrap;\n",
              "      gap: 12px;\n",
              "    }\n",
              "\n",
              "    .colab-df-convert {\n",
              "      background-color: #E8F0FE;\n",
              "      border: none;\n",
              "      border-radius: 50%;\n",
              "      cursor: pointer;\n",
              "      display: none;\n",
              "      fill: #1967D2;\n",
              "      height: 32px;\n",
              "      padding: 0 0 0 0;\n",
              "      width: 32px;\n",
              "    }\n",
              "\n",
              "    .colab-df-convert:hover {\n",
              "      background-color: #E2EBFA;\n",
              "      box-shadow: 0px 1px 2px rgba(60, 64, 67, 0.3), 0px 1px 3px 1px rgba(60, 64, 67, 0.15);\n",
              "      fill: #174EA6;\n",
              "    }\n",
              "\n",
              "    [theme=dark] .colab-df-convert {\n",
              "      background-color: #3B4455;\n",
              "      fill: #D2E3FC;\n",
              "    }\n",
              "\n",
              "    [theme=dark] .colab-df-convert:hover {\n",
              "      background-color: #434B5C;\n",
              "      box-shadow: 0px 1px 3px 1px rgba(0, 0, 0, 0.15);\n",
              "      filter: drop-shadow(0px 1px 2px rgba(0, 0, 0, 0.3));\n",
              "      fill: #FFFFFF;\n",
              "    }\n",
              "  </style>\n",
              "\n",
              "      <script>\n",
              "        const buttonEl =\n",
              "          document.querySelector('#df-a9f86018-3b50-4e60-9fd1-4c6cdb17252f button.colab-df-convert');\n",
              "        buttonEl.style.display =\n",
              "          google.colab.kernel.accessAllowed ? 'block' : 'none';\n",
              "\n",
              "        async function convertToInteractive(key) {\n",
              "          const element = document.querySelector('#df-a9f86018-3b50-4e60-9fd1-4c6cdb17252f');\n",
              "          const dataTable =\n",
              "            await google.colab.kernel.invokeFunction('convertToInteractive',\n",
              "                                                     [key], {});\n",
              "          if (!dataTable) return;\n",
              "\n",
              "          const docLinkHtml = 'Like what you see? Visit the ' +\n",
              "            '<a target=\"_blank\" href=https://colab.research.google.com/notebooks/data_table.ipynb>data table notebook</a>'\n",
              "            + ' to learn more about interactive tables.';\n",
              "          element.innerHTML = '';\n",
              "          dataTable['output_type'] = 'display_data';\n",
              "          await google.colab.output.renderOutput(dataTable, element);\n",
              "          const docLink = document.createElement('div');\n",
              "          docLink.innerHTML = docLinkHtml;\n",
              "          element.appendChild(docLink);\n",
              "        }\n",
              "      </script>\n",
              "    </div>\n",
              "  </div>\n",
              "  "
            ]
          },
          "metadata": {},
          "execution_count": 8
        }
      ]
    },
    {
      "cell_type": "code",
      "source": [
        "Data_df.info()"
      ],
      "metadata": {
        "colab": {
          "base_uri": "https://localhost:8080/"
        },
        "id": "-DfwmLCeiXUG",
        "outputId": "7c34a72d-1347-4bec-986d-b44cd989d430"
      },
      "execution_count": null,
      "outputs": [
        {
          "output_type": "stream",
          "name": "stdout",
          "text": [
            "<class 'pandas.core.frame.DataFrame'>\n",
            "RangeIndex: 1017209 entries, 0 to 1017208\n",
            "Data columns (total 9 columns):\n",
            " #   Column         Non-Null Count    Dtype \n",
            "---  ------         --------------    ----- \n",
            " 0   Store          1017209 non-null  int64 \n",
            " 1   DayOfWeek      1017209 non-null  int64 \n",
            " 2   Date           1017209 non-null  object\n",
            " 3   Sales          1017209 non-null  int64 \n",
            " 4   Customers      1017209 non-null  int64 \n",
            " 5   Open           1017209 non-null  int64 \n",
            " 6   Promo          1017209 non-null  int64 \n",
            " 7   StateHoliday   1017209 non-null  object\n",
            " 8   SchoolHoliday  1017209 non-null  int64 \n",
            "dtypes: int64(7), object(2)\n",
            "memory usage: 69.8+ MB\n"
          ]
        }
      ]
    },
    {
      "cell_type": "code",
      "source": [
        "Data_df.isnull().sum()"
      ],
      "metadata": {
        "colab": {
          "base_uri": "https://localhost:8080/"
        },
        "id": "FCxtfRQjBCS_",
        "outputId": "a90ac79c-f288-4453-8c36-64164367817a"
      },
      "execution_count": null,
      "outputs": [
        {
          "output_type": "execute_result",
          "data": {
            "text/plain": [
              "Store            0\n",
              "DayOfWeek        0\n",
              "Date             0\n",
              "Sales            0\n",
              "Customers        0\n",
              "Open             0\n",
              "Promo            0\n",
              "StateHoliday     0\n",
              "SchoolHoliday    0\n",
              "dtype: int64"
            ]
          },
          "metadata": {},
          "execution_count": 10
        }
      ]
    },
    {
      "cell_type": "code",
      "source": [
        "store_df = pd.read_csv (\"/content/drive/MyDrive/Almabetter/capstone projects/Capstone project 2 ML regression /store.csv\")"
      ],
      "metadata": {
        "id": "_080cbXYlcoi"
      },
      "execution_count": null,
      "outputs": []
    },
    {
      "cell_type": "code",
      "source": [
        "store_df"
      ],
      "metadata": {
        "colab": {
          "base_uri": "https://localhost:8080/",
          "height": 424
        },
        "id": "ylirecJYlm0U",
        "outputId": "9be3261f-189d-48af-c86b-8f24eb8cd1f5"
      },
      "execution_count": null,
      "outputs": [
        {
          "output_type": "execute_result",
          "data": {
            "text/plain": [
              "      Store StoreType Assortment  CompetitionDistance  \\\n",
              "0         1         c          a               1270.0   \n",
              "1         2         a          a                570.0   \n",
              "2         3         a          a              14130.0   \n",
              "3         4         c          c                620.0   \n",
              "4         5         a          a              29910.0   \n",
              "...     ...       ...        ...                  ...   \n",
              "1110   1111         a          a               1900.0   \n",
              "1111   1112         c          c               1880.0   \n",
              "1112   1113         a          c               9260.0   \n",
              "1113   1114         a          c                870.0   \n",
              "1114   1115         d          c               5350.0   \n",
              "\n",
              "      CompetitionOpenSinceMonth  CompetitionOpenSinceYear  Promo2  \\\n",
              "0                           9.0                    2008.0       0   \n",
              "1                          11.0                    2007.0       1   \n",
              "2                          12.0                    2006.0       1   \n",
              "3                           9.0                    2009.0       0   \n",
              "4                           4.0                    2015.0       0   \n",
              "...                         ...                       ...     ...   \n",
              "1110                        6.0                    2014.0       1   \n",
              "1111                        4.0                    2006.0       0   \n",
              "1112                        NaN                       NaN       0   \n",
              "1113                        NaN                       NaN       0   \n",
              "1114                        NaN                       NaN       1   \n",
              "\n",
              "      Promo2SinceWeek  Promo2SinceYear     PromoInterval  \n",
              "0                 NaN              NaN               NaN  \n",
              "1                13.0           2010.0   Jan,Apr,Jul,Oct  \n",
              "2                14.0           2011.0   Jan,Apr,Jul,Oct  \n",
              "3                 NaN              NaN               NaN  \n",
              "4                 NaN              NaN               NaN  \n",
              "...               ...              ...               ...  \n",
              "1110             31.0           2013.0   Jan,Apr,Jul,Oct  \n",
              "1111              NaN              NaN               NaN  \n",
              "1112              NaN              NaN               NaN  \n",
              "1113              NaN              NaN               NaN  \n",
              "1114             22.0           2012.0  Mar,Jun,Sept,Dec  \n",
              "\n",
              "[1115 rows x 10 columns]"
            ],
            "text/html": [
              "\n",
              "  <div id=\"df-98c9b80e-202e-45ea-a57a-56dd28970223\">\n",
              "    <div class=\"colab-df-container\">\n",
              "      <div>\n",
              "<style scoped>\n",
              "    .dataframe tbody tr th:only-of-type {\n",
              "        vertical-align: middle;\n",
              "    }\n",
              "\n",
              "    .dataframe tbody tr th {\n",
              "        vertical-align: top;\n",
              "    }\n",
              "\n",
              "    .dataframe thead th {\n",
              "        text-align: right;\n",
              "    }\n",
              "</style>\n",
              "<table border=\"1\" class=\"dataframe\">\n",
              "  <thead>\n",
              "    <tr style=\"text-align: right;\">\n",
              "      <th></th>\n",
              "      <th>Store</th>\n",
              "      <th>StoreType</th>\n",
              "      <th>Assortment</th>\n",
              "      <th>CompetitionDistance</th>\n",
              "      <th>CompetitionOpenSinceMonth</th>\n",
              "      <th>CompetitionOpenSinceYear</th>\n",
              "      <th>Promo2</th>\n",
              "      <th>Promo2SinceWeek</th>\n",
              "      <th>Promo2SinceYear</th>\n",
              "      <th>PromoInterval</th>\n",
              "    </tr>\n",
              "  </thead>\n",
              "  <tbody>\n",
              "    <tr>\n",
              "      <th>0</th>\n",
              "      <td>1</td>\n",
              "      <td>c</td>\n",
              "      <td>a</td>\n",
              "      <td>1270.0</td>\n",
              "      <td>9.0</td>\n",
              "      <td>2008.0</td>\n",
              "      <td>0</td>\n",
              "      <td>NaN</td>\n",
              "      <td>NaN</td>\n",
              "      <td>NaN</td>\n",
              "    </tr>\n",
              "    <tr>\n",
              "      <th>1</th>\n",
              "      <td>2</td>\n",
              "      <td>a</td>\n",
              "      <td>a</td>\n",
              "      <td>570.0</td>\n",
              "      <td>11.0</td>\n",
              "      <td>2007.0</td>\n",
              "      <td>1</td>\n",
              "      <td>13.0</td>\n",
              "      <td>2010.0</td>\n",
              "      <td>Jan,Apr,Jul,Oct</td>\n",
              "    </tr>\n",
              "    <tr>\n",
              "      <th>2</th>\n",
              "      <td>3</td>\n",
              "      <td>a</td>\n",
              "      <td>a</td>\n",
              "      <td>14130.0</td>\n",
              "      <td>12.0</td>\n",
              "      <td>2006.0</td>\n",
              "      <td>1</td>\n",
              "      <td>14.0</td>\n",
              "      <td>2011.0</td>\n",
              "      <td>Jan,Apr,Jul,Oct</td>\n",
              "    </tr>\n",
              "    <tr>\n",
              "      <th>3</th>\n",
              "      <td>4</td>\n",
              "      <td>c</td>\n",
              "      <td>c</td>\n",
              "      <td>620.0</td>\n",
              "      <td>9.0</td>\n",
              "      <td>2009.0</td>\n",
              "      <td>0</td>\n",
              "      <td>NaN</td>\n",
              "      <td>NaN</td>\n",
              "      <td>NaN</td>\n",
              "    </tr>\n",
              "    <tr>\n",
              "      <th>4</th>\n",
              "      <td>5</td>\n",
              "      <td>a</td>\n",
              "      <td>a</td>\n",
              "      <td>29910.0</td>\n",
              "      <td>4.0</td>\n",
              "      <td>2015.0</td>\n",
              "      <td>0</td>\n",
              "      <td>NaN</td>\n",
              "      <td>NaN</td>\n",
              "      <td>NaN</td>\n",
              "    </tr>\n",
              "    <tr>\n",
              "      <th>...</th>\n",
              "      <td>...</td>\n",
              "      <td>...</td>\n",
              "      <td>...</td>\n",
              "      <td>...</td>\n",
              "      <td>...</td>\n",
              "      <td>...</td>\n",
              "      <td>...</td>\n",
              "      <td>...</td>\n",
              "      <td>...</td>\n",
              "      <td>...</td>\n",
              "    </tr>\n",
              "    <tr>\n",
              "      <th>1110</th>\n",
              "      <td>1111</td>\n",
              "      <td>a</td>\n",
              "      <td>a</td>\n",
              "      <td>1900.0</td>\n",
              "      <td>6.0</td>\n",
              "      <td>2014.0</td>\n",
              "      <td>1</td>\n",
              "      <td>31.0</td>\n",
              "      <td>2013.0</td>\n",
              "      <td>Jan,Apr,Jul,Oct</td>\n",
              "    </tr>\n",
              "    <tr>\n",
              "      <th>1111</th>\n",
              "      <td>1112</td>\n",
              "      <td>c</td>\n",
              "      <td>c</td>\n",
              "      <td>1880.0</td>\n",
              "      <td>4.0</td>\n",
              "      <td>2006.0</td>\n",
              "      <td>0</td>\n",
              "      <td>NaN</td>\n",
              "      <td>NaN</td>\n",
              "      <td>NaN</td>\n",
              "    </tr>\n",
              "    <tr>\n",
              "      <th>1112</th>\n",
              "      <td>1113</td>\n",
              "      <td>a</td>\n",
              "      <td>c</td>\n",
              "      <td>9260.0</td>\n",
              "      <td>NaN</td>\n",
              "      <td>NaN</td>\n",
              "      <td>0</td>\n",
              "      <td>NaN</td>\n",
              "      <td>NaN</td>\n",
              "      <td>NaN</td>\n",
              "    </tr>\n",
              "    <tr>\n",
              "      <th>1113</th>\n",
              "      <td>1114</td>\n",
              "      <td>a</td>\n",
              "      <td>c</td>\n",
              "      <td>870.0</td>\n",
              "      <td>NaN</td>\n",
              "      <td>NaN</td>\n",
              "      <td>0</td>\n",
              "      <td>NaN</td>\n",
              "      <td>NaN</td>\n",
              "      <td>NaN</td>\n",
              "    </tr>\n",
              "    <tr>\n",
              "      <th>1114</th>\n",
              "      <td>1115</td>\n",
              "      <td>d</td>\n",
              "      <td>c</td>\n",
              "      <td>5350.0</td>\n",
              "      <td>NaN</td>\n",
              "      <td>NaN</td>\n",
              "      <td>1</td>\n",
              "      <td>22.0</td>\n",
              "      <td>2012.0</td>\n",
              "      <td>Mar,Jun,Sept,Dec</td>\n",
              "    </tr>\n",
              "  </tbody>\n",
              "</table>\n",
              "<p>1115 rows × 10 columns</p>\n",
              "</div>\n",
              "      <button class=\"colab-df-convert\" onclick=\"convertToInteractive('df-98c9b80e-202e-45ea-a57a-56dd28970223')\"\n",
              "              title=\"Convert this dataframe to an interactive table.\"\n",
              "              style=\"display:none;\">\n",
              "        \n",
              "  <svg xmlns=\"http://www.w3.org/2000/svg\" height=\"24px\"viewBox=\"0 0 24 24\"\n",
              "       width=\"24px\">\n",
              "    <path d=\"M0 0h24v24H0V0z\" fill=\"none\"/>\n",
              "    <path d=\"M18.56 5.44l.94 2.06.94-2.06 2.06-.94-2.06-.94-.94-2.06-.94 2.06-2.06.94zm-11 1L8.5 8.5l.94-2.06 2.06-.94-2.06-.94L8.5 2.5l-.94 2.06-2.06.94zm10 10l.94 2.06.94-2.06 2.06-.94-2.06-.94-.94-2.06-.94 2.06-2.06.94z\"/><path d=\"M17.41 7.96l-1.37-1.37c-.4-.4-.92-.59-1.43-.59-.52 0-1.04.2-1.43.59L10.3 9.45l-7.72 7.72c-.78.78-.78 2.05 0 2.83L4 21.41c.39.39.9.59 1.41.59.51 0 1.02-.2 1.41-.59l7.78-7.78 2.81-2.81c.8-.78.8-2.07 0-2.86zM5.41 20L4 18.59l7.72-7.72 1.47 1.35L5.41 20z\"/>\n",
              "  </svg>\n",
              "      </button>\n",
              "      \n",
              "  <style>\n",
              "    .colab-df-container {\n",
              "      display:flex;\n",
              "      flex-wrap:wrap;\n",
              "      gap: 12px;\n",
              "    }\n",
              "\n",
              "    .colab-df-convert {\n",
              "      background-color: #E8F0FE;\n",
              "      border: none;\n",
              "      border-radius: 50%;\n",
              "      cursor: pointer;\n",
              "      display: none;\n",
              "      fill: #1967D2;\n",
              "      height: 32px;\n",
              "      padding: 0 0 0 0;\n",
              "      width: 32px;\n",
              "    }\n",
              "\n",
              "    .colab-df-convert:hover {\n",
              "      background-color: #E2EBFA;\n",
              "      box-shadow: 0px 1px 2px rgba(60, 64, 67, 0.3), 0px 1px 3px 1px rgba(60, 64, 67, 0.15);\n",
              "      fill: #174EA6;\n",
              "    }\n",
              "\n",
              "    [theme=dark] .colab-df-convert {\n",
              "      background-color: #3B4455;\n",
              "      fill: #D2E3FC;\n",
              "    }\n",
              "\n",
              "    [theme=dark] .colab-df-convert:hover {\n",
              "      background-color: #434B5C;\n",
              "      box-shadow: 0px 1px 3px 1px rgba(0, 0, 0, 0.15);\n",
              "      filter: drop-shadow(0px 1px 2px rgba(0, 0, 0, 0.3));\n",
              "      fill: #FFFFFF;\n",
              "    }\n",
              "  </style>\n",
              "\n",
              "      <script>\n",
              "        const buttonEl =\n",
              "          document.querySelector('#df-98c9b80e-202e-45ea-a57a-56dd28970223 button.colab-df-convert');\n",
              "        buttonEl.style.display =\n",
              "          google.colab.kernel.accessAllowed ? 'block' : 'none';\n",
              "\n",
              "        async function convertToInteractive(key) {\n",
              "          const element = document.querySelector('#df-98c9b80e-202e-45ea-a57a-56dd28970223');\n",
              "          const dataTable =\n",
              "            await google.colab.kernel.invokeFunction('convertToInteractive',\n",
              "                                                     [key], {});\n",
              "          if (!dataTable) return;\n",
              "\n",
              "          const docLinkHtml = 'Like what you see? Visit the ' +\n",
              "            '<a target=\"_blank\" href=https://colab.research.google.com/notebooks/data_table.ipynb>data table notebook</a>'\n",
              "            + ' to learn more about interactive tables.';\n",
              "          element.innerHTML = '';\n",
              "          dataTable['output_type'] = 'display_data';\n",
              "          await google.colab.output.renderOutput(dataTable, element);\n",
              "          const docLink = document.createElement('div');\n",
              "          docLink.innerHTML = docLinkHtml;\n",
              "          element.appendChild(docLink);\n",
              "        }\n",
              "      </script>\n",
              "    </div>\n",
              "  </div>\n",
              "  "
            ]
          },
          "metadata": {},
          "execution_count": 12
        }
      ]
    },
    {
      "cell_type": "code",
      "source": [
        "store_df.info()"
      ],
      "metadata": {
        "colab": {
          "base_uri": "https://localhost:8080/"
        },
        "id": "H0BtuFvclmx2",
        "outputId": "c154dd4e-fc3c-45f2-b51b-a46b61b068a0"
      },
      "execution_count": null,
      "outputs": [
        {
          "output_type": "stream",
          "name": "stdout",
          "text": [
            "<class 'pandas.core.frame.DataFrame'>\n",
            "RangeIndex: 1115 entries, 0 to 1114\n",
            "Data columns (total 10 columns):\n",
            " #   Column                     Non-Null Count  Dtype  \n",
            "---  ------                     --------------  -----  \n",
            " 0   Store                      1115 non-null   int64  \n",
            " 1   StoreType                  1115 non-null   object \n",
            " 2   Assortment                 1115 non-null   object \n",
            " 3   CompetitionDistance        1112 non-null   float64\n",
            " 4   CompetitionOpenSinceMonth  761 non-null    float64\n",
            " 5   CompetitionOpenSinceYear   761 non-null    float64\n",
            " 6   Promo2                     1115 non-null   int64  \n",
            " 7   Promo2SinceWeek            571 non-null    float64\n",
            " 8   Promo2SinceYear            571 non-null    float64\n",
            " 9   PromoInterval              571 non-null    object \n",
            "dtypes: float64(5), int64(2), object(3)\n",
            "memory usage: 87.2+ KB\n"
          ]
        }
      ]
    },
    {
      "cell_type": "code",
      "source": [
        "store_df.isnull().sum()"
      ],
      "metadata": {
        "colab": {
          "base_uri": "https://localhost:8080/"
        },
        "id": "yaEjXvKslmu_",
        "outputId": "a58be242-d075-4409-c317-3f57e46adb32"
      },
      "execution_count": null,
      "outputs": [
        {
          "output_type": "execute_result",
          "data": {
            "text/plain": [
              "Store                          0\n",
              "StoreType                      0\n",
              "Assortment                     0\n",
              "CompetitionDistance            3\n",
              "CompetitionOpenSinceMonth    354\n",
              "CompetitionOpenSinceYear     354\n",
              "Promo2                         0\n",
              "Promo2SinceWeek              544\n",
              "Promo2SinceYear              544\n",
              "PromoInterval                544\n",
              "dtype: int64"
            ]
          },
          "metadata": {},
          "execution_count": 14
        }
      ]
    },
    {
      "cell_type": "markdown",
      "source": [
        "# Lets fill null values"
      ],
      "metadata": {
        "id": "R6M1OWOHzgif"
      }
    },
    {
      "cell_type": "code",
      "source": [
        "store_df ['CompetitionDistance'].fillna(store_df['CompetitionDistance'].median(),inplace = True)\n",
        "store_df ['CompetitionOpenSinceMonth'].fillna(store_df['CompetitionOpenSinceMonth'].mode()[0],inplace = True)\n",
        "store_df ['CompetitionOpenSinceYear'].fillna(store_df['CompetitionOpenSinceYear'].mode()[0],inplace = True)\n",
        "store_df ['Promo2SinceWeek'].fillna(0, inplace =True)\n",
        "store_df ['Promo2SinceYear'].fillna(0, inplace =True)\n",
        "store_df ['PromoInterval'].fillna(0, inplace =True)"
      ],
      "metadata": {
        "id": "OxxACbxri0bS"
      },
      "execution_count": null,
      "outputs": []
    },
    {
      "cell_type": "code",
      "source": [
        "store_df.isnull().sum()"
      ],
      "metadata": {
        "colab": {
          "base_uri": "https://localhost:8080/"
        },
        "id": "w-H7dAMElmnj",
        "outputId": "b2958fa0-fcad-4587-f938-29d854fd9f2b"
      },
      "execution_count": null,
      "outputs": [
        {
          "output_type": "execute_result",
          "data": {
            "text/plain": [
              "Store                        0\n",
              "StoreType                    0\n",
              "Assortment                   0\n",
              "CompetitionDistance          0\n",
              "CompetitionOpenSinceMonth    0\n",
              "CompetitionOpenSinceYear     0\n",
              "Promo2                       0\n",
              "Promo2SinceWeek              0\n",
              "Promo2SinceYear              0\n",
              "PromoInterval                0\n",
              "dtype: int64"
            ]
          },
          "metadata": {},
          "execution_count": 16
        }
      ]
    },
    {
      "cell_type": "code",
      "source": [
        "store_df"
      ],
      "metadata": {
        "colab": {
          "base_uri": "https://localhost:8080/",
          "height": 424
        },
        "id": "2hppaH0Vlmk7",
        "outputId": "a648f6b1-2561-4bd6-d155-8acec93dc7e7"
      },
      "execution_count": null,
      "outputs": [
        {
          "output_type": "execute_result",
          "data": {
            "text/plain": [
              "      Store StoreType Assortment  CompetitionDistance  \\\n",
              "0         1         c          a               1270.0   \n",
              "1         2         a          a                570.0   \n",
              "2         3         a          a              14130.0   \n",
              "3         4         c          c                620.0   \n",
              "4         5         a          a              29910.0   \n",
              "...     ...       ...        ...                  ...   \n",
              "1110   1111         a          a               1900.0   \n",
              "1111   1112         c          c               1880.0   \n",
              "1112   1113         a          c               9260.0   \n",
              "1113   1114         a          c                870.0   \n",
              "1114   1115         d          c               5350.0   \n",
              "\n",
              "      CompetitionOpenSinceMonth  CompetitionOpenSinceYear  Promo2  \\\n",
              "0                           9.0                    2008.0       0   \n",
              "1                          11.0                    2007.0       1   \n",
              "2                          12.0                    2006.0       1   \n",
              "3                           9.0                    2009.0       0   \n",
              "4                           4.0                    2015.0       0   \n",
              "...                         ...                       ...     ...   \n",
              "1110                        6.0                    2014.0       1   \n",
              "1111                        4.0                    2006.0       0   \n",
              "1112                        9.0                    2013.0       0   \n",
              "1113                        9.0                    2013.0       0   \n",
              "1114                        9.0                    2013.0       1   \n",
              "\n",
              "      Promo2SinceWeek  Promo2SinceYear     PromoInterval  \n",
              "0                 0.0              0.0                 0  \n",
              "1                13.0           2010.0   Jan,Apr,Jul,Oct  \n",
              "2                14.0           2011.0   Jan,Apr,Jul,Oct  \n",
              "3                 0.0              0.0                 0  \n",
              "4                 0.0              0.0                 0  \n",
              "...               ...              ...               ...  \n",
              "1110             31.0           2013.0   Jan,Apr,Jul,Oct  \n",
              "1111              0.0              0.0                 0  \n",
              "1112              0.0              0.0                 0  \n",
              "1113              0.0              0.0                 0  \n",
              "1114             22.0           2012.0  Mar,Jun,Sept,Dec  \n",
              "\n",
              "[1115 rows x 10 columns]"
            ],
            "text/html": [
              "\n",
              "  <div id=\"df-50d820a1-6c20-4adf-a006-e3a05da5cd2a\">\n",
              "    <div class=\"colab-df-container\">\n",
              "      <div>\n",
              "<style scoped>\n",
              "    .dataframe tbody tr th:only-of-type {\n",
              "        vertical-align: middle;\n",
              "    }\n",
              "\n",
              "    .dataframe tbody tr th {\n",
              "        vertical-align: top;\n",
              "    }\n",
              "\n",
              "    .dataframe thead th {\n",
              "        text-align: right;\n",
              "    }\n",
              "</style>\n",
              "<table border=\"1\" class=\"dataframe\">\n",
              "  <thead>\n",
              "    <tr style=\"text-align: right;\">\n",
              "      <th></th>\n",
              "      <th>Store</th>\n",
              "      <th>StoreType</th>\n",
              "      <th>Assortment</th>\n",
              "      <th>CompetitionDistance</th>\n",
              "      <th>CompetitionOpenSinceMonth</th>\n",
              "      <th>CompetitionOpenSinceYear</th>\n",
              "      <th>Promo2</th>\n",
              "      <th>Promo2SinceWeek</th>\n",
              "      <th>Promo2SinceYear</th>\n",
              "      <th>PromoInterval</th>\n",
              "    </tr>\n",
              "  </thead>\n",
              "  <tbody>\n",
              "    <tr>\n",
              "      <th>0</th>\n",
              "      <td>1</td>\n",
              "      <td>c</td>\n",
              "      <td>a</td>\n",
              "      <td>1270.0</td>\n",
              "      <td>9.0</td>\n",
              "      <td>2008.0</td>\n",
              "      <td>0</td>\n",
              "      <td>0.0</td>\n",
              "      <td>0.0</td>\n",
              "      <td>0</td>\n",
              "    </tr>\n",
              "    <tr>\n",
              "      <th>1</th>\n",
              "      <td>2</td>\n",
              "      <td>a</td>\n",
              "      <td>a</td>\n",
              "      <td>570.0</td>\n",
              "      <td>11.0</td>\n",
              "      <td>2007.0</td>\n",
              "      <td>1</td>\n",
              "      <td>13.0</td>\n",
              "      <td>2010.0</td>\n",
              "      <td>Jan,Apr,Jul,Oct</td>\n",
              "    </tr>\n",
              "    <tr>\n",
              "      <th>2</th>\n",
              "      <td>3</td>\n",
              "      <td>a</td>\n",
              "      <td>a</td>\n",
              "      <td>14130.0</td>\n",
              "      <td>12.0</td>\n",
              "      <td>2006.0</td>\n",
              "      <td>1</td>\n",
              "      <td>14.0</td>\n",
              "      <td>2011.0</td>\n",
              "      <td>Jan,Apr,Jul,Oct</td>\n",
              "    </tr>\n",
              "    <tr>\n",
              "      <th>3</th>\n",
              "      <td>4</td>\n",
              "      <td>c</td>\n",
              "      <td>c</td>\n",
              "      <td>620.0</td>\n",
              "      <td>9.0</td>\n",
              "      <td>2009.0</td>\n",
              "      <td>0</td>\n",
              "      <td>0.0</td>\n",
              "      <td>0.0</td>\n",
              "      <td>0</td>\n",
              "    </tr>\n",
              "    <tr>\n",
              "      <th>4</th>\n",
              "      <td>5</td>\n",
              "      <td>a</td>\n",
              "      <td>a</td>\n",
              "      <td>29910.0</td>\n",
              "      <td>4.0</td>\n",
              "      <td>2015.0</td>\n",
              "      <td>0</td>\n",
              "      <td>0.0</td>\n",
              "      <td>0.0</td>\n",
              "      <td>0</td>\n",
              "    </tr>\n",
              "    <tr>\n",
              "      <th>...</th>\n",
              "      <td>...</td>\n",
              "      <td>...</td>\n",
              "      <td>...</td>\n",
              "      <td>...</td>\n",
              "      <td>...</td>\n",
              "      <td>...</td>\n",
              "      <td>...</td>\n",
              "      <td>...</td>\n",
              "      <td>...</td>\n",
              "      <td>...</td>\n",
              "    </tr>\n",
              "    <tr>\n",
              "      <th>1110</th>\n",
              "      <td>1111</td>\n",
              "      <td>a</td>\n",
              "      <td>a</td>\n",
              "      <td>1900.0</td>\n",
              "      <td>6.0</td>\n",
              "      <td>2014.0</td>\n",
              "      <td>1</td>\n",
              "      <td>31.0</td>\n",
              "      <td>2013.0</td>\n",
              "      <td>Jan,Apr,Jul,Oct</td>\n",
              "    </tr>\n",
              "    <tr>\n",
              "      <th>1111</th>\n",
              "      <td>1112</td>\n",
              "      <td>c</td>\n",
              "      <td>c</td>\n",
              "      <td>1880.0</td>\n",
              "      <td>4.0</td>\n",
              "      <td>2006.0</td>\n",
              "      <td>0</td>\n",
              "      <td>0.0</td>\n",
              "      <td>0.0</td>\n",
              "      <td>0</td>\n",
              "    </tr>\n",
              "    <tr>\n",
              "      <th>1112</th>\n",
              "      <td>1113</td>\n",
              "      <td>a</td>\n",
              "      <td>c</td>\n",
              "      <td>9260.0</td>\n",
              "      <td>9.0</td>\n",
              "      <td>2013.0</td>\n",
              "      <td>0</td>\n",
              "      <td>0.0</td>\n",
              "      <td>0.0</td>\n",
              "      <td>0</td>\n",
              "    </tr>\n",
              "    <tr>\n",
              "      <th>1113</th>\n",
              "      <td>1114</td>\n",
              "      <td>a</td>\n",
              "      <td>c</td>\n",
              "      <td>870.0</td>\n",
              "      <td>9.0</td>\n",
              "      <td>2013.0</td>\n",
              "      <td>0</td>\n",
              "      <td>0.0</td>\n",
              "      <td>0.0</td>\n",
              "      <td>0</td>\n",
              "    </tr>\n",
              "    <tr>\n",
              "      <th>1114</th>\n",
              "      <td>1115</td>\n",
              "      <td>d</td>\n",
              "      <td>c</td>\n",
              "      <td>5350.0</td>\n",
              "      <td>9.0</td>\n",
              "      <td>2013.0</td>\n",
              "      <td>1</td>\n",
              "      <td>22.0</td>\n",
              "      <td>2012.0</td>\n",
              "      <td>Mar,Jun,Sept,Dec</td>\n",
              "    </tr>\n",
              "  </tbody>\n",
              "</table>\n",
              "<p>1115 rows × 10 columns</p>\n",
              "</div>\n",
              "      <button class=\"colab-df-convert\" onclick=\"convertToInteractive('df-50d820a1-6c20-4adf-a006-e3a05da5cd2a')\"\n",
              "              title=\"Convert this dataframe to an interactive table.\"\n",
              "              style=\"display:none;\">\n",
              "        \n",
              "  <svg xmlns=\"http://www.w3.org/2000/svg\" height=\"24px\"viewBox=\"0 0 24 24\"\n",
              "       width=\"24px\">\n",
              "    <path d=\"M0 0h24v24H0V0z\" fill=\"none\"/>\n",
              "    <path d=\"M18.56 5.44l.94 2.06.94-2.06 2.06-.94-2.06-.94-.94-2.06-.94 2.06-2.06.94zm-11 1L8.5 8.5l.94-2.06 2.06-.94-2.06-.94L8.5 2.5l-.94 2.06-2.06.94zm10 10l.94 2.06.94-2.06 2.06-.94-2.06-.94-.94-2.06-.94 2.06-2.06.94z\"/><path d=\"M17.41 7.96l-1.37-1.37c-.4-.4-.92-.59-1.43-.59-.52 0-1.04.2-1.43.59L10.3 9.45l-7.72 7.72c-.78.78-.78 2.05 0 2.83L4 21.41c.39.39.9.59 1.41.59.51 0 1.02-.2 1.41-.59l7.78-7.78 2.81-2.81c.8-.78.8-2.07 0-2.86zM5.41 20L4 18.59l7.72-7.72 1.47 1.35L5.41 20z\"/>\n",
              "  </svg>\n",
              "      </button>\n",
              "      \n",
              "  <style>\n",
              "    .colab-df-container {\n",
              "      display:flex;\n",
              "      flex-wrap:wrap;\n",
              "      gap: 12px;\n",
              "    }\n",
              "\n",
              "    .colab-df-convert {\n",
              "      background-color: #E8F0FE;\n",
              "      border: none;\n",
              "      border-radius: 50%;\n",
              "      cursor: pointer;\n",
              "      display: none;\n",
              "      fill: #1967D2;\n",
              "      height: 32px;\n",
              "      padding: 0 0 0 0;\n",
              "      width: 32px;\n",
              "    }\n",
              "\n",
              "    .colab-df-convert:hover {\n",
              "      background-color: #E2EBFA;\n",
              "      box-shadow: 0px 1px 2px rgba(60, 64, 67, 0.3), 0px 1px 3px 1px rgba(60, 64, 67, 0.15);\n",
              "      fill: #174EA6;\n",
              "    }\n",
              "\n",
              "    [theme=dark] .colab-df-convert {\n",
              "      background-color: #3B4455;\n",
              "      fill: #D2E3FC;\n",
              "    }\n",
              "\n",
              "    [theme=dark] .colab-df-convert:hover {\n",
              "      background-color: #434B5C;\n",
              "      box-shadow: 0px 1px 3px 1px rgba(0, 0, 0, 0.15);\n",
              "      filter: drop-shadow(0px 1px 2px rgba(0, 0, 0, 0.3));\n",
              "      fill: #FFFFFF;\n",
              "    }\n",
              "  </style>\n",
              "\n",
              "      <script>\n",
              "        const buttonEl =\n",
              "          document.querySelector('#df-50d820a1-6c20-4adf-a006-e3a05da5cd2a button.colab-df-convert');\n",
              "        buttonEl.style.display =\n",
              "          google.colab.kernel.accessAllowed ? 'block' : 'none';\n",
              "\n",
              "        async function convertToInteractive(key) {\n",
              "          const element = document.querySelector('#df-50d820a1-6c20-4adf-a006-e3a05da5cd2a');\n",
              "          const dataTable =\n",
              "            await google.colab.kernel.invokeFunction('convertToInteractive',\n",
              "                                                     [key], {});\n",
              "          if (!dataTable) return;\n",
              "\n",
              "          const docLinkHtml = 'Like what you see? Visit the ' +\n",
              "            '<a target=\"_blank\" href=https://colab.research.google.com/notebooks/data_table.ipynb>data table notebook</a>'\n",
              "            + ' to learn more about interactive tables.';\n",
              "          element.innerHTML = '';\n",
              "          dataTable['output_type'] = 'display_data';\n",
              "          await google.colab.output.renderOutput(dataTable, element);\n",
              "          const docLink = document.createElement('div');\n",
              "          docLink.innerHTML = docLinkHtml;\n",
              "          element.appendChild(docLink);\n",
              "        }\n",
              "      </script>\n",
              "    </div>\n",
              "  </div>\n",
              "  "
            ]
          },
          "metadata": {},
          "execution_count": 17
        }
      ]
    },
    {
      "cell_type": "code",
      "source": [
        "Data_df"
      ],
      "metadata": {
        "colab": {
          "base_uri": "https://localhost:8080/",
          "height": 424
        },
        "id": "CyKksPKumsLW",
        "outputId": "077fb0c7-18ac-420d-faf2-83fcecec5053"
      },
      "execution_count": null,
      "outputs": [
        {
          "output_type": "execute_result",
          "data": {
            "text/plain": [
              "         Store  DayOfWeek        Date  Sales  Customers  Open  Promo  \\\n",
              "0            1          5  2015-07-31   5263        555     1      1   \n",
              "1            2          5  2015-07-31   6064        625     1      1   \n",
              "2            3          5  2015-07-31   8314        821     1      1   \n",
              "3            4          5  2015-07-31  13995       1498     1      1   \n",
              "4            5          5  2015-07-31   4822        559     1      1   \n",
              "...        ...        ...         ...    ...        ...   ...    ...   \n",
              "1017204   1111          2  2013-01-01      0          0     0      0   \n",
              "1017205   1112          2  2013-01-01      0          0     0      0   \n",
              "1017206   1113          2  2013-01-01      0          0     0      0   \n",
              "1017207   1114          2  2013-01-01      0          0     0      0   \n",
              "1017208   1115          2  2013-01-01      0          0     0      0   \n",
              "\n",
              "        StateHoliday  SchoolHoliday  \n",
              "0                  0              1  \n",
              "1                  0              1  \n",
              "2                  0              1  \n",
              "3                  0              1  \n",
              "4                  0              1  \n",
              "...              ...            ...  \n",
              "1017204            a              1  \n",
              "1017205            a              1  \n",
              "1017206            a              1  \n",
              "1017207            a              1  \n",
              "1017208            a              1  \n",
              "\n",
              "[1017209 rows x 9 columns]"
            ],
            "text/html": [
              "\n",
              "  <div id=\"df-6b186fc2-aeb4-4995-9dcd-f9c7c00975b5\">\n",
              "    <div class=\"colab-df-container\">\n",
              "      <div>\n",
              "<style scoped>\n",
              "    .dataframe tbody tr th:only-of-type {\n",
              "        vertical-align: middle;\n",
              "    }\n",
              "\n",
              "    .dataframe tbody tr th {\n",
              "        vertical-align: top;\n",
              "    }\n",
              "\n",
              "    .dataframe thead th {\n",
              "        text-align: right;\n",
              "    }\n",
              "</style>\n",
              "<table border=\"1\" class=\"dataframe\">\n",
              "  <thead>\n",
              "    <tr style=\"text-align: right;\">\n",
              "      <th></th>\n",
              "      <th>Store</th>\n",
              "      <th>DayOfWeek</th>\n",
              "      <th>Date</th>\n",
              "      <th>Sales</th>\n",
              "      <th>Customers</th>\n",
              "      <th>Open</th>\n",
              "      <th>Promo</th>\n",
              "      <th>StateHoliday</th>\n",
              "      <th>SchoolHoliday</th>\n",
              "    </tr>\n",
              "  </thead>\n",
              "  <tbody>\n",
              "    <tr>\n",
              "      <th>0</th>\n",
              "      <td>1</td>\n",
              "      <td>5</td>\n",
              "      <td>2015-07-31</td>\n",
              "      <td>5263</td>\n",
              "      <td>555</td>\n",
              "      <td>1</td>\n",
              "      <td>1</td>\n",
              "      <td>0</td>\n",
              "      <td>1</td>\n",
              "    </tr>\n",
              "    <tr>\n",
              "      <th>1</th>\n",
              "      <td>2</td>\n",
              "      <td>5</td>\n",
              "      <td>2015-07-31</td>\n",
              "      <td>6064</td>\n",
              "      <td>625</td>\n",
              "      <td>1</td>\n",
              "      <td>1</td>\n",
              "      <td>0</td>\n",
              "      <td>1</td>\n",
              "    </tr>\n",
              "    <tr>\n",
              "      <th>2</th>\n",
              "      <td>3</td>\n",
              "      <td>5</td>\n",
              "      <td>2015-07-31</td>\n",
              "      <td>8314</td>\n",
              "      <td>821</td>\n",
              "      <td>1</td>\n",
              "      <td>1</td>\n",
              "      <td>0</td>\n",
              "      <td>1</td>\n",
              "    </tr>\n",
              "    <tr>\n",
              "      <th>3</th>\n",
              "      <td>4</td>\n",
              "      <td>5</td>\n",
              "      <td>2015-07-31</td>\n",
              "      <td>13995</td>\n",
              "      <td>1498</td>\n",
              "      <td>1</td>\n",
              "      <td>1</td>\n",
              "      <td>0</td>\n",
              "      <td>1</td>\n",
              "    </tr>\n",
              "    <tr>\n",
              "      <th>4</th>\n",
              "      <td>5</td>\n",
              "      <td>5</td>\n",
              "      <td>2015-07-31</td>\n",
              "      <td>4822</td>\n",
              "      <td>559</td>\n",
              "      <td>1</td>\n",
              "      <td>1</td>\n",
              "      <td>0</td>\n",
              "      <td>1</td>\n",
              "    </tr>\n",
              "    <tr>\n",
              "      <th>...</th>\n",
              "      <td>...</td>\n",
              "      <td>...</td>\n",
              "      <td>...</td>\n",
              "      <td>...</td>\n",
              "      <td>...</td>\n",
              "      <td>...</td>\n",
              "      <td>...</td>\n",
              "      <td>...</td>\n",
              "      <td>...</td>\n",
              "    </tr>\n",
              "    <tr>\n",
              "      <th>1017204</th>\n",
              "      <td>1111</td>\n",
              "      <td>2</td>\n",
              "      <td>2013-01-01</td>\n",
              "      <td>0</td>\n",
              "      <td>0</td>\n",
              "      <td>0</td>\n",
              "      <td>0</td>\n",
              "      <td>a</td>\n",
              "      <td>1</td>\n",
              "    </tr>\n",
              "    <tr>\n",
              "      <th>1017205</th>\n",
              "      <td>1112</td>\n",
              "      <td>2</td>\n",
              "      <td>2013-01-01</td>\n",
              "      <td>0</td>\n",
              "      <td>0</td>\n",
              "      <td>0</td>\n",
              "      <td>0</td>\n",
              "      <td>a</td>\n",
              "      <td>1</td>\n",
              "    </tr>\n",
              "    <tr>\n",
              "      <th>1017206</th>\n",
              "      <td>1113</td>\n",
              "      <td>2</td>\n",
              "      <td>2013-01-01</td>\n",
              "      <td>0</td>\n",
              "      <td>0</td>\n",
              "      <td>0</td>\n",
              "      <td>0</td>\n",
              "      <td>a</td>\n",
              "      <td>1</td>\n",
              "    </tr>\n",
              "    <tr>\n",
              "      <th>1017207</th>\n",
              "      <td>1114</td>\n",
              "      <td>2</td>\n",
              "      <td>2013-01-01</td>\n",
              "      <td>0</td>\n",
              "      <td>0</td>\n",
              "      <td>0</td>\n",
              "      <td>0</td>\n",
              "      <td>a</td>\n",
              "      <td>1</td>\n",
              "    </tr>\n",
              "    <tr>\n",
              "      <th>1017208</th>\n",
              "      <td>1115</td>\n",
              "      <td>2</td>\n",
              "      <td>2013-01-01</td>\n",
              "      <td>0</td>\n",
              "      <td>0</td>\n",
              "      <td>0</td>\n",
              "      <td>0</td>\n",
              "      <td>a</td>\n",
              "      <td>1</td>\n",
              "    </tr>\n",
              "  </tbody>\n",
              "</table>\n",
              "<p>1017209 rows × 9 columns</p>\n",
              "</div>\n",
              "      <button class=\"colab-df-convert\" onclick=\"convertToInteractive('df-6b186fc2-aeb4-4995-9dcd-f9c7c00975b5')\"\n",
              "              title=\"Convert this dataframe to an interactive table.\"\n",
              "              style=\"display:none;\">\n",
              "        \n",
              "  <svg xmlns=\"http://www.w3.org/2000/svg\" height=\"24px\"viewBox=\"0 0 24 24\"\n",
              "       width=\"24px\">\n",
              "    <path d=\"M0 0h24v24H0V0z\" fill=\"none\"/>\n",
              "    <path d=\"M18.56 5.44l.94 2.06.94-2.06 2.06-.94-2.06-.94-.94-2.06-.94 2.06-2.06.94zm-11 1L8.5 8.5l.94-2.06 2.06-.94-2.06-.94L8.5 2.5l-.94 2.06-2.06.94zm10 10l.94 2.06.94-2.06 2.06-.94-2.06-.94-.94-2.06-.94 2.06-2.06.94z\"/><path d=\"M17.41 7.96l-1.37-1.37c-.4-.4-.92-.59-1.43-.59-.52 0-1.04.2-1.43.59L10.3 9.45l-7.72 7.72c-.78.78-.78 2.05 0 2.83L4 21.41c.39.39.9.59 1.41.59.51 0 1.02-.2 1.41-.59l7.78-7.78 2.81-2.81c.8-.78.8-2.07 0-2.86zM5.41 20L4 18.59l7.72-7.72 1.47 1.35L5.41 20z\"/>\n",
              "  </svg>\n",
              "      </button>\n",
              "      \n",
              "  <style>\n",
              "    .colab-df-container {\n",
              "      display:flex;\n",
              "      flex-wrap:wrap;\n",
              "      gap: 12px;\n",
              "    }\n",
              "\n",
              "    .colab-df-convert {\n",
              "      background-color: #E8F0FE;\n",
              "      border: none;\n",
              "      border-radius: 50%;\n",
              "      cursor: pointer;\n",
              "      display: none;\n",
              "      fill: #1967D2;\n",
              "      height: 32px;\n",
              "      padding: 0 0 0 0;\n",
              "      width: 32px;\n",
              "    }\n",
              "\n",
              "    .colab-df-convert:hover {\n",
              "      background-color: #E2EBFA;\n",
              "      box-shadow: 0px 1px 2px rgba(60, 64, 67, 0.3), 0px 1px 3px 1px rgba(60, 64, 67, 0.15);\n",
              "      fill: #174EA6;\n",
              "    }\n",
              "\n",
              "    [theme=dark] .colab-df-convert {\n",
              "      background-color: #3B4455;\n",
              "      fill: #D2E3FC;\n",
              "    }\n",
              "\n",
              "    [theme=dark] .colab-df-convert:hover {\n",
              "      background-color: #434B5C;\n",
              "      box-shadow: 0px 1px 3px 1px rgba(0, 0, 0, 0.15);\n",
              "      filter: drop-shadow(0px 1px 2px rgba(0, 0, 0, 0.3));\n",
              "      fill: #FFFFFF;\n",
              "    }\n",
              "  </style>\n",
              "\n",
              "      <script>\n",
              "        const buttonEl =\n",
              "          document.querySelector('#df-6b186fc2-aeb4-4995-9dcd-f9c7c00975b5 button.colab-df-convert');\n",
              "        buttonEl.style.display =\n",
              "          google.colab.kernel.accessAllowed ? 'block' : 'none';\n",
              "\n",
              "        async function convertToInteractive(key) {\n",
              "          const element = document.querySelector('#df-6b186fc2-aeb4-4995-9dcd-f9c7c00975b5');\n",
              "          const dataTable =\n",
              "            await google.colab.kernel.invokeFunction('convertToInteractive',\n",
              "                                                     [key], {});\n",
              "          if (!dataTable) return;\n",
              "\n",
              "          const docLinkHtml = 'Like what you see? Visit the ' +\n",
              "            '<a target=\"_blank\" href=https://colab.research.google.com/notebooks/data_table.ipynb>data table notebook</a>'\n",
              "            + ' to learn more about interactive tables.';\n",
              "          element.innerHTML = '';\n",
              "          dataTable['output_type'] = 'display_data';\n",
              "          await google.colab.output.renderOutput(dataTable, element);\n",
              "          const docLink = document.createElement('div');\n",
              "          docLink.innerHTML = docLinkHtml;\n",
              "          element.appendChild(docLink);\n",
              "        }\n",
              "      </script>\n",
              "    </div>\n",
              "  </div>\n",
              "  "
            ]
          },
          "metadata": {},
          "execution_count": 18
        }
      ]
    },
    {
      "cell_type": "code",
      "source": [
        "Data_df['Date'] =pd.to_datetime(Data_df['Date'])\n",
        "Data_df['Year'] =Data_df['Date'].dt.year\n",
        "Data_df['Month'] =Data_df['Date'].dt.month\n",
        "Data_df['Day'] = Data_df['Date'].dt.day\n",
        "Data_df['Week'] = Data_df['Date'].dt.week%4\n",
        "Data_df['WeekOfYear'] = Data_df['Date'].dt.week"
      ],
      "metadata": {
        "id": "0ivGo1VvmvVT"
      },
      "execution_count": null,
      "outputs": []
    },
    {
      "cell_type": "code",
      "source": [
        "Data_df.info()"
      ],
      "metadata": {
        "colab": {
          "base_uri": "https://localhost:8080/"
        },
        "id": "My0I-cKEmzNA",
        "outputId": "fad47712-1921-4bc6-c940-c6f0fb007914"
      },
      "execution_count": null,
      "outputs": [
        {
          "output_type": "stream",
          "name": "stdout",
          "text": [
            "<class 'pandas.core.frame.DataFrame'>\n",
            "RangeIndex: 1017209 entries, 0 to 1017208\n",
            "Data columns (total 14 columns):\n",
            " #   Column         Non-Null Count    Dtype         \n",
            "---  ------         --------------    -----         \n",
            " 0   Store          1017209 non-null  int64         \n",
            " 1   DayOfWeek      1017209 non-null  int64         \n",
            " 2   Date           1017209 non-null  datetime64[ns]\n",
            " 3   Sales          1017209 non-null  int64         \n",
            " 4   Customers      1017209 non-null  int64         \n",
            " 5   Open           1017209 non-null  int64         \n",
            " 6   Promo          1017209 non-null  int64         \n",
            " 7   StateHoliday   1017209 non-null  object        \n",
            " 8   SchoolHoliday  1017209 non-null  int64         \n",
            " 9   Year           1017209 non-null  int64         \n",
            " 10  Month          1017209 non-null  int64         \n",
            " 11  Day            1017209 non-null  int64         \n",
            " 12  Week           1017209 non-null  int64         \n",
            " 13  WeekOfYear     1017209 non-null  int64         \n",
            "dtypes: datetime64[ns](1), int64(12), object(1)\n",
            "memory usage: 108.6+ MB\n"
          ]
        }
      ]
    },
    {
      "cell_type": "markdown",
      "source": [
        "# Merging both the datasets"
      ],
      "metadata": {
        "id": "45VAZZlJ1pMo"
      }
    },
    {
      "cell_type": "code",
      "source": [
        "Data_df1 =Data_df.merge(store_df, how='outer' , on =['Store'])"
      ],
      "metadata": {
        "id": "roq4PFq3mzIY"
      },
      "execution_count": null,
      "outputs": []
    },
    {
      "cell_type": "code",
      "source": [
        "Data_df1.columns.value_counts()"
      ],
      "metadata": {
        "colab": {
          "base_uri": "https://localhost:8080/"
        },
        "id": "k2ideX9MmzCN",
        "outputId": "f56c7d64-7de9-4ed8-a3e5-1b909b992aec"
      },
      "execution_count": null,
      "outputs": [
        {
          "output_type": "execute_result",
          "data": {
            "text/plain": [
              "Store                        1\n",
              "Week                         1\n",
              "Promo2SinceYear              1\n",
              "Promo2SinceWeek              1\n",
              "Promo2                       1\n",
              "CompetitionOpenSinceYear     1\n",
              "CompetitionOpenSinceMonth    1\n",
              "CompetitionDistance          1\n",
              "Assortment                   1\n",
              "StoreType                    1\n",
              "WeekOfYear                   1\n",
              "Day                          1\n",
              "DayOfWeek                    1\n",
              "Month                        1\n",
              "Year                         1\n",
              "SchoolHoliday                1\n",
              "StateHoliday                 1\n",
              "Promo                        1\n",
              "Open                         1\n",
              "Customers                    1\n",
              "Sales                        1\n",
              "Date                         1\n",
              "PromoInterval                1\n",
              "dtype: int64"
            ]
          },
          "metadata": {},
          "execution_count": 22
        }
      ]
    },
    {
      "cell_type": "code",
      "source": [
        "Data_df1.columns.value_counts().sum()"
      ],
      "metadata": {
        "colab": {
          "base_uri": "https://localhost:8080/"
        },
        "id": "0NPYmvXgmy_3",
        "outputId": "44710fd1-2508-4535-9399-7d385d871fd0"
      },
      "execution_count": null,
      "outputs": [
        {
          "output_type": "execute_result",
          "data": {
            "text/plain": [
              "23"
            ]
          },
          "metadata": {},
          "execution_count": 23
        }
      ]
    },
    {
      "cell_type": "code",
      "source": [
        "Data_df1.columns"
      ],
      "metadata": {
        "colab": {
          "base_uri": "https://localhost:8080/"
        },
        "id": "4nUvpQJZmy9R",
        "outputId": "02bcb136-4904-449c-b0d9-0a468f9cca50"
      },
      "execution_count": null,
      "outputs": [
        {
          "output_type": "execute_result",
          "data": {
            "text/plain": [
              "Index(['Store', 'DayOfWeek', 'Date', 'Sales', 'Customers', 'Open', 'Promo',\n",
              "       'StateHoliday', 'SchoolHoliday', 'Year', 'Month', 'Day', 'Week',\n",
              "       'WeekOfYear', 'StoreType', 'Assortment', 'CompetitionDistance',\n",
              "       'CompetitionOpenSinceMonth', 'CompetitionOpenSinceYear', 'Promo2',\n",
              "       'Promo2SinceWeek', 'Promo2SinceYear', 'PromoInterval'],\n",
              "      dtype='object')"
            ]
          },
          "metadata": {},
          "execution_count": 24
        }
      ]
    },
    {
      "cell_type": "markdown",
      "source": [
        "# Drop Subsets Of Data Where Might Cause Bias"
      ],
      "metadata": {
        "id": "3GvAphJui10w"
      }
    },
    {
      "cell_type": "code",
      "source": [
        "# where stores are closed, they won't generate sales, so we will remove this part of the dataset\n",
        "Data_df1=Data_df1[Data_df1.Open!=0]"
      ],
      "metadata": {
        "id": "unIjgmCaqutK"
      },
      "execution_count": null,
      "outputs": []
    },
    {
      "cell_type": "code",
      "source": [
        "# Open isn't a variable anymore, so we'll drop it\n",
        "#del df['Open']\n",
        "Data_df1=Data_df1.drop('Open', axis=1)"
      ],
      "metadata": {
        "id": "VEmUxIa1quqi"
      },
      "execution_count": null,
      "outputs": []
    },
    {
      "cell_type": "code",
      "source": [
        "# see if there's any opened store with zero sales\n",
        "Data_df1[Data_df1.Sales==0]['Store'].sum()"
      ],
      "metadata": {
        "colab": {
          "base_uri": "https://localhost:8080/"
        },
        "id": "B1mGBWlxqun4",
        "outputId": "8a4fd13a-b0de-4618-e533-fbbfb0db5975"
      },
      "execution_count": null,
      "outputs": [
        {
          "output_type": "execute_result",
          "data": {
            "text/plain": [
              "31460"
            ]
          },
          "metadata": {},
          "execution_count": 27
        }
      ]
    },
    {
      "cell_type": "code",
      "source": [
        "# see the percentage of open stored with zero sales\n",
        "Data_df1[Data_df1.Sales==0]['Sales'].sum()/Data_df1.Sales.sum()"
      ],
      "metadata": {
        "colab": {
          "base_uri": "https://localhost:8080/"
        },
        "id": "xXWiEtEkqulO",
        "outputId": "03727bb8-a4e2-45e2-aa76-b8920621e8a3"
      },
      "execution_count": null,
      "outputs": [
        {
          "output_type": "execute_result",
          "data": {
            "text/plain": [
              "0.0"
            ]
          },
          "metadata": {},
          "execution_count": 28
        }
      ]
    },
    {
      "cell_type": "code",
      "source": [
        "# remove this part of data to avoid bias\n",
        "Data_df1=Data_df1[Data_df1.Sales!=0]"
      ],
      "metadata": {
        "id": "tZcKyNpsquiY"
      },
      "execution_count": null,
      "outputs": []
    },
    {
      "cell_type": "code",
      "source": [
        "Data_df1"
      ],
      "metadata": {
        "colab": {
          "base_uri": "https://localhost:8080/",
          "height": 661
        },
        "id": "gVqPIlUM0q-E",
        "outputId": "c6838181-6854-4864-d713-ee41f43eaf36"
      },
      "execution_count": null,
      "outputs": [
        {
          "output_type": "execute_result",
          "data": {
            "text/plain": [
              "         Store  DayOfWeek       Date  Sales  Customers  Promo StateHoliday  \\\n",
              "0            1          5 2015-07-31   5263        555      1            0   \n",
              "1            1          4 2015-07-30   5020        546      1            0   \n",
              "2            1          3 2015-07-29   4782        523      1            0   \n",
              "3            1          2 2015-07-28   5011        560      1            0   \n",
              "4            1          1 2015-07-27   6102        612      1            0   \n",
              "...        ...        ...        ...    ...        ...    ...          ...   \n",
              "1017202   1115          1 2013-01-07   6905        471      1            0   \n",
              "1017204   1115          6 2013-01-05   4771        339      0            0   \n",
              "1017205   1115          5 2013-01-04   4540        326      0            0   \n",
              "1017206   1115          4 2013-01-03   4297        300      0            0   \n",
              "1017207   1115          3 2013-01-02   3697        305      0            0   \n",
              "\n",
              "         SchoolHoliday  Year  Month  ...  WeekOfYear  StoreType  Assortment  \\\n",
              "0                    1  2015      7  ...          31          c           a   \n",
              "1                    1  2015      7  ...          31          c           a   \n",
              "2                    1  2015      7  ...          31          c           a   \n",
              "3                    1  2015      7  ...          31          c           a   \n",
              "4                    1  2015      7  ...          31          c           a   \n",
              "...                ...   ...    ...  ...         ...        ...         ...   \n",
              "1017202              1  2013      1  ...           2          d           c   \n",
              "1017204              1  2013      1  ...           1          d           c   \n",
              "1017205              1  2013      1  ...           1          d           c   \n",
              "1017206              1  2013      1  ...           1          d           c   \n",
              "1017207              1  2013      1  ...           1          d           c   \n",
              "\n",
              "        CompetitionDistance CompetitionOpenSinceMonth  \\\n",
              "0                    1270.0                       9.0   \n",
              "1                    1270.0                       9.0   \n",
              "2                    1270.0                       9.0   \n",
              "3                    1270.0                       9.0   \n",
              "4                    1270.0                       9.0   \n",
              "...                     ...                       ...   \n",
              "1017202              5350.0                       9.0   \n",
              "1017204              5350.0                       9.0   \n",
              "1017205              5350.0                       9.0   \n",
              "1017206              5350.0                       9.0   \n",
              "1017207              5350.0                       9.0   \n",
              "\n",
              "         CompetitionOpenSinceYear  Promo2  Promo2SinceWeek  Promo2SinceYear  \\\n",
              "0                          2008.0       0              0.0              0.0   \n",
              "1                          2008.0       0              0.0              0.0   \n",
              "2                          2008.0       0              0.0              0.0   \n",
              "3                          2008.0       0              0.0              0.0   \n",
              "4                          2008.0       0              0.0              0.0   \n",
              "...                           ...     ...              ...              ...   \n",
              "1017202                    2013.0       1             22.0           2012.0   \n",
              "1017204                    2013.0       1             22.0           2012.0   \n",
              "1017205                    2013.0       1             22.0           2012.0   \n",
              "1017206                    2013.0       1             22.0           2012.0   \n",
              "1017207                    2013.0       1             22.0           2012.0   \n",
              "\n",
              "            PromoInterval  \n",
              "0                       0  \n",
              "1                       0  \n",
              "2                       0  \n",
              "3                       0  \n",
              "4                       0  \n",
              "...                   ...  \n",
              "1017202  Mar,Jun,Sept,Dec  \n",
              "1017204  Mar,Jun,Sept,Dec  \n",
              "1017205  Mar,Jun,Sept,Dec  \n",
              "1017206  Mar,Jun,Sept,Dec  \n",
              "1017207  Mar,Jun,Sept,Dec  \n",
              "\n",
              "[844338 rows x 22 columns]"
            ],
            "text/html": [
              "\n",
              "  <div id=\"df-c61d3dd3-e1e5-4362-a0cc-b1726df97aa3\">\n",
              "    <div class=\"colab-df-container\">\n",
              "      <div>\n",
              "<style scoped>\n",
              "    .dataframe tbody tr th:only-of-type {\n",
              "        vertical-align: middle;\n",
              "    }\n",
              "\n",
              "    .dataframe tbody tr th {\n",
              "        vertical-align: top;\n",
              "    }\n",
              "\n",
              "    .dataframe thead th {\n",
              "        text-align: right;\n",
              "    }\n",
              "</style>\n",
              "<table border=\"1\" class=\"dataframe\">\n",
              "  <thead>\n",
              "    <tr style=\"text-align: right;\">\n",
              "      <th></th>\n",
              "      <th>Store</th>\n",
              "      <th>DayOfWeek</th>\n",
              "      <th>Date</th>\n",
              "      <th>Sales</th>\n",
              "      <th>Customers</th>\n",
              "      <th>Promo</th>\n",
              "      <th>StateHoliday</th>\n",
              "      <th>SchoolHoliday</th>\n",
              "      <th>Year</th>\n",
              "      <th>Month</th>\n",
              "      <th>...</th>\n",
              "      <th>WeekOfYear</th>\n",
              "      <th>StoreType</th>\n",
              "      <th>Assortment</th>\n",
              "      <th>CompetitionDistance</th>\n",
              "      <th>CompetitionOpenSinceMonth</th>\n",
              "      <th>CompetitionOpenSinceYear</th>\n",
              "      <th>Promo2</th>\n",
              "      <th>Promo2SinceWeek</th>\n",
              "      <th>Promo2SinceYear</th>\n",
              "      <th>PromoInterval</th>\n",
              "    </tr>\n",
              "  </thead>\n",
              "  <tbody>\n",
              "    <tr>\n",
              "      <th>0</th>\n",
              "      <td>1</td>\n",
              "      <td>5</td>\n",
              "      <td>2015-07-31</td>\n",
              "      <td>5263</td>\n",
              "      <td>555</td>\n",
              "      <td>1</td>\n",
              "      <td>0</td>\n",
              "      <td>1</td>\n",
              "      <td>2015</td>\n",
              "      <td>7</td>\n",
              "      <td>...</td>\n",
              "      <td>31</td>\n",
              "      <td>c</td>\n",
              "      <td>a</td>\n",
              "      <td>1270.0</td>\n",
              "      <td>9.0</td>\n",
              "      <td>2008.0</td>\n",
              "      <td>0</td>\n",
              "      <td>0.0</td>\n",
              "      <td>0.0</td>\n",
              "      <td>0</td>\n",
              "    </tr>\n",
              "    <tr>\n",
              "      <th>1</th>\n",
              "      <td>1</td>\n",
              "      <td>4</td>\n",
              "      <td>2015-07-30</td>\n",
              "      <td>5020</td>\n",
              "      <td>546</td>\n",
              "      <td>1</td>\n",
              "      <td>0</td>\n",
              "      <td>1</td>\n",
              "      <td>2015</td>\n",
              "      <td>7</td>\n",
              "      <td>...</td>\n",
              "      <td>31</td>\n",
              "      <td>c</td>\n",
              "      <td>a</td>\n",
              "      <td>1270.0</td>\n",
              "      <td>9.0</td>\n",
              "      <td>2008.0</td>\n",
              "      <td>0</td>\n",
              "      <td>0.0</td>\n",
              "      <td>0.0</td>\n",
              "      <td>0</td>\n",
              "    </tr>\n",
              "    <tr>\n",
              "      <th>2</th>\n",
              "      <td>1</td>\n",
              "      <td>3</td>\n",
              "      <td>2015-07-29</td>\n",
              "      <td>4782</td>\n",
              "      <td>523</td>\n",
              "      <td>1</td>\n",
              "      <td>0</td>\n",
              "      <td>1</td>\n",
              "      <td>2015</td>\n",
              "      <td>7</td>\n",
              "      <td>...</td>\n",
              "      <td>31</td>\n",
              "      <td>c</td>\n",
              "      <td>a</td>\n",
              "      <td>1270.0</td>\n",
              "      <td>9.0</td>\n",
              "      <td>2008.0</td>\n",
              "      <td>0</td>\n",
              "      <td>0.0</td>\n",
              "      <td>0.0</td>\n",
              "      <td>0</td>\n",
              "    </tr>\n",
              "    <tr>\n",
              "      <th>3</th>\n",
              "      <td>1</td>\n",
              "      <td>2</td>\n",
              "      <td>2015-07-28</td>\n",
              "      <td>5011</td>\n",
              "      <td>560</td>\n",
              "      <td>1</td>\n",
              "      <td>0</td>\n",
              "      <td>1</td>\n",
              "      <td>2015</td>\n",
              "      <td>7</td>\n",
              "      <td>...</td>\n",
              "      <td>31</td>\n",
              "      <td>c</td>\n",
              "      <td>a</td>\n",
              "      <td>1270.0</td>\n",
              "      <td>9.0</td>\n",
              "      <td>2008.0</td>\n",
              "      <td>0</td>\n",
              "      <td>0.0</td>\n",
              "      <td>0.0</td>\n",
              "      <td>0</td>\n",
              "    </tr>\n",
              "    <tr>\n",
              "      <th>4</th>\n",
              "      <td>1</td>\n",
              "      <td>1</td>\n",
              "      <td>2015-07-27</td>\n",
              "      <td>6102</td>\n",
              "      <td>612</td>\n",
              "      <td>1</td>\n",
              "      <td>0</td>\n",
              "      <td>1</td>\n",
              "      <td>2015</td>\n",
              "      <td>7</td>\n",
              "      <td>...</td>\n",
              "      <td>31</td>\n",
              "      <td>c</td>\n",
              "      <td>a</td>\n",
              "      <td>1270.0</td>\n",
              "      <td>9.0</td>\n",
              "      <td>2008.0</td>\n",
              "      <td>0</td>\n",
              "      <td>0.0</td>\n",
              "      <td>0.0</td>\n",
              "      <td>0</td>\n",
              "    </tr>\n",
              "    <tr>\n",
              "      <th>...</th>\n",
              "      <td>...</td>\n",
              "      <td>...</td>\n",
              "      <td>...</td>\n",
              "      <td>...</td>\n",
              "      <td>...</td>\n",
              "      <td>...</td>\n",
              "      <td>...</td>\n",
              "      <td>...</td>\n",
              "      <td>...</td>\n",
              "      <td>...</td>\n",
              "      <td>...</td>\n",
              "      <td>...</td>\n",
              "      <td>...</td>\n",
              "      <td>...</td>\n",
              "      <td>...</td>\n",
              "      <td>...</td>\n",
              "      <td>...</td>\n",
              "      <td>...</td>\n",
              "      <td>...</td>\n",
              "      <td>...</td>\n",
              "      <td>...</td>\n",
              "    </tr>\n",
              "    <tr>\n",
              "      <th>1017202</th>\n",
              "      <td>1115</td>\n",
              "      <td>1</td>\n",
              "      <td>2013-01-07</td>\n",
              "      <td>6905</td>\n",
              "      <td>471</td>\n",
              "      <td>1</td>\n",
              "      <td>0</td>\n",
              "      <td>1</td>\n",
              "      <td>2013</td>\n",
              "      <td>1</td>\n",
              "      <td>...</td>\n",
              "      <td>2</td>\n",
              "      <td>d</td>\n",
              "      <td>c</td>\n",
              "      <td>5350.0</td>\n",
              "      <td>9.0</td>\n",
              "      <td>2013.0</td>\n",
              "      <td>1</td>\n",
              "      <td>22.0</td>\n",
              "      <td>2012.0</td>\n",
              "      <td>Mar,Jun,Sept,Dec</td>\n",
              "    </tr>\n",
              "    <tr>\n",
              "      <th>1017204</th>\n",
              "      <td>1115</td>\n",
              "      <td>6</td>\n",
              "      <td>2013-01-05</td>\n",
              "      <td>4771</td>\n",
              "      <td>339</td>\n",
              "      <td>0</td>\n",
              "      <td>0</td>\n",
              "      <td>1</td>\n",
              "      <td>2013</td>\n",
              "      <td>1</td>\n",
              "      <td>...</td>\n",
              "      <td>1</td>\n",
              "      <td>d</td>\n",
              "      <td>c</td>\n",
              "      <td>5350.0</td>\n",
              "      <td>9.0</td>\n",
              "      <td>2013.0</td>\n",
              "      <td>1</td>\n",
              "      <td>22.0</td>\n",
              "      <td>2012.0</td>\n",
              "      <td>Mar,Jun,Sept,Dec</td>\n",
              "    </tr>\n",
              "    <tr>\n",
              "      <th>1017205</th>\n",
              "      <td>1115</td>\n",
              "      <td>5</td>\n",
              "      <td>2013-01-04</td>\n",
              "      <td>4540</td>\n",
              "      <td>326</td>\n",
              "      <td>0</td>\n",
              "      <td>0</td>\n",
              "      <td>1</td>\n",
              "      <td>2013</td>\n",
              "      <td>1</td>\n",
              "      <td>...</td>\n",
              "      <td>1</td>\n",
              "      <td>d</td>\n",
              "      <td>c</td>\n",
              "      <td>5350.0</td>\n",
              "      <td>9.0</td>\n",
              "      <td>2013.0</td>\n",
              "      <td>1</td>\n",
              "      <td>22.0</td>\n",
              "      <td>2012.0</td>\n",
              "      <td>Mar,Jun,Sept,Dec</td>\n",
              "    </tr>\n",
              "    <tr>\n",
              "      <th>1017206</th>\n",
              "      <td>1115</td>\n",
              "      <td>4</td>\n",
              "      <td>2013-01-03</td>\n",
              "      <td>4297</td>\n",
              "      <td>300</td>\n",
              "      <td>0</td>\n",
              "      <td>0</td>\n",
              "      <td>1</td>\n",
              "      <td>2013</td>\n",
              "      <td>1</td>\n",
              "      <td>...</td>\n",
              "      <td>1</td>\n",
              "      <td>d</td>\n",
              "      <td>c</td>\n",
              "      <td>5350.0</td>\n",
              "      <td>9.0</td>\n",
              "      <td>2013.0</td>\n",
              "      <td>1</td>\n",
              "      <td>22.0</td>\n",
              "      <td>2012.0</td>\n",
              "      <td>Mar,Jun,Sept,Dec</td>\n",
              "    </tr>\n",
              "    <tr>\n",
              "      <th>1017207</th>\n",
              "      <td>1115</td>\n",
              "      <td>3</td>\n",
              "      <td>2013-01-02</td>\n",
              "      <td>3697</td>\n",
              "      <td>305</td>\n",
              "      <td>0</td>\n",
              "      <td>0</td>\n",
              "      <td>1</td>\n",
              "      <td>2013</td>\n",
              "      <td>1</td>\n",
              "      <td>...</td>\n",
              "      <td>1</td>\n",
              "      <td>d</td>\n",
              "      <td>c</td>\n",
              "      <td>5350.0</td>\n",
              "      <td>9.0</td>\n",
              "      <td>2013.0</td>\n",
              "      <td>1</td>\n",
              "      <td>22.0</td>\n",
              "      <td>2012.0</td>\n",
              "      <td>Mar,Jun,Sept,Dec</td>\n",
              "    </tr>\n",
              "  </tbody>\n",
              "</table>\n",
              "<p>844338 rows × 22 columns</p>\n",
              "</div>\n",
              "      <button class=\"colab-df-convert\" onclick=\"convertToInteractive('df-c61d3dd3-e1e5-4362-a0cc-b1726df97aa3')\"\n",
              "              title=\"Convert this dataframe to an interactive table.\"\n",
              "              style=\"display:none;\">\n",
              "        \n",
              "  <svg xmlns=\"http://www.w3.org/2000/svg\" height=\"24px\"viewBox=\"0 0 24 24\"\n",
              "       width=\"24px\">\n",
              "    <path d=\"M0 0h24v24H0V0z\" fill=\"none\"/>\n",
              "    <path d=\"M18.56 5.44l.94 2.06.94-2.06 2.06-.94-2.06-.94-.94-2.06-.94 2.06-2.06.94zm-11 1L8.5 8.5l.94-2.06 2.06-.94-2.06-.94L8.5 2.5l-.94 2.06-2.06.94zm10 10l.94 2.06.94-2.06 2.06-.94-2.06-.94-.94-2.06-.94 2.06-2.06.94z\"/><path d=\"M17.41 7.96l-1.37-1.37c-.4-.4-.92-.59-1.43-.59-.52 0-1.04.2-1.43.59L10.3 9.45l-7.72 7.72c-.78.78-.78 2.05 0 2.83L4 21.41c.39.39.9.59 1.41.59.51 0 1.02-.2 1.41-.59l7.78-7.78 2.81-2.81c.8-.78.8-2.07 0-2.86zM5.41 20L4 18.59l7.72-7.72 1.47 1.35L5.41 20z\"/>\n",
              "  </svg>\n",
              "      </button>\n",
              "      \n",
              "  <style>\n",
              "    .colab-df-container {\n",
              "      display:flex;\n",
              "      flex-wrap:wrap;\n",
              "      gap: 12px;\n",
              "    }\n",
              "\n",
              "    .colab-df-convert {\n",
              "      background-color: #E8F0FE;\n",
              "      border: none;\n",
              "      border-radius: 50%;\n",
              "      cursor: pointer;\n",
              "      display: none;\n",
              "      fill: #1967D2;\n",
              "      height: 32px;\n",
              "      padding: 0 0 0 0;\n",
              "      width: 32px;\n",
              "    }\n",
              "\n",
              "    .colab-df-convert:hover {\n",
              "      background-color: #E2EBFA;\n",
              "      box-shadow: 0px 1px 2px rgba(60, 64, 67, 0.3), 0px 1px 3px 1px rgba(60, 64, 67, 0.15);\n",
              "      fill: #174EA6;\n",
              "    }\n",
              "\n",
              "    [theme=dark] .colab-df-convert {\n",
              "      background-color: #3B4455;\n",
              "      fill: #D2E3FC;\n",
              "    }\n",
              "\n",
              "    [theme=dark] .colab-df-convert:hover {\n",
              "      background-color: #434B5C;\n",
              "      box-shadow: 0px 1px 3px 1px rgba(0, 0, 0, 0.15);\n",
              "      filter: drop-shadow(0px 1px 2px rgba(0, 0, 0, 0.3));\n",
              "      fill: #FFFFFF;\n",
              "    }\n",
              "  </style>\n",
              "\n",
              "      <script>\n",
              "        const buttonEl =\n",
              "          document.querySelector('#df-c61d3dd3-e1e5-4362-a0cc-b1726df97aa3 button.colab-df-convert');\n",
              "        buttonEl.style.display =\n",
              "          google.colab.kernel.accessAllowed ? 'block' : 'none';\n",
              "\n",
              "        async function convertToInteractive(key) {\n",
              "          const element = document.querySelector('#df-c61d3dd3-e1e5-4362-a0cc-b1726df97aa3');\n",
              "          const dataTable =\n",
              "            await google.colab.kernel.invokeFunction('convertToInteractive',\n",
              "                                                     [key], {});\n",
              "          if (!dataTable) return;\n",
              "\n",
              "          const docLinkHtml = 'Like what you see? Visit the ' +\n",
              "            '<a target=\"_blank\" href=https://colab.research.google.com/notebooks/data_table.ipynb>data table notebook</a>'\n",
              "            + ' to learn more about interactive tables.';\n",
              "          element.innerHTML = '';\n",
              "          dataTable['output_type'] = 'display_data';\n",
              "          await google.colab.output.renderOutput(dataTable, element);\n",
              "          const docLink = document.createElement('div');\n",
              "          docLink.innerHTML = docLinkHtml;\n",
              "          element.appendChild(docLink);\n",
              "        }\n",
              "      </script>\n",
              "    </div>\n",
              "  </div>\n",
              "  "
            ]
          },
          "metadata": {},
          "execution_count": 30
        }
      ]
    },
    {
      "cell_type": "markdown",
      "source": [
        "# **Numerical features**"
      ],
      "metadata": {
        "id": "kJoTqbiOt_hQ"
      }
    },
    {
      "cell_type": "code",
      "source": [
        "Data_df1.value_counts('Sales').max()"
      ],
      "metadata": {
        "colab": {
          "base_uri": "https://localhost:8080/"
        },
        "id": "ztJrX3LgCvOp",
        "outputId": "2a1a3017-a7b6-42de-8ef9-25f47f123107"
      },
      "execution_count": null,
      "outputs": [
        {
          "output_type": "execute_result",
          "data": {
            "text/plain": [
              "215"
            ]
          },
          "metadata": {},
          "execution_count": 31
        }
      ]
    },
    {
      "cell_type": "code",
      "source": [
        "Data_df1.value_counts('Sales').min()"
      ],
      "metadata": {
        "colab": {
          "base_uri": "https://localhost:8080/"
        },
        "id": "EyL7NopwC_aS",
        "outputId": "c4884c9f-37d9-47e8-af4e-74d209c55edc"
      },
      "execution_count": null,
      "outputs": [
        {
          "output_type": "execute_result",
          "data": {
            "text/plain": [
              "1"
            ]
          },
          "metadata": {},
          "execution_count": 32
        }
      ]
    },
    {
      "cell_type": "code",
      "source": [
        "Data_df1.value_counts('Sales')"
      ],
      "metadata": {
        "colab": {
          "base_uri": "https://localhost:8080/"
        },
        "id": "jMjyVMHFDDvj",
        "outputId": "d8860c03-3a94-490e-a9aa-aeabdc51650a"
      },
      "execution_count": null,
      "outputs": [
        {
          "output_type": "execute_result",
          "data": {
            "text/plain": [
              "Sales\n",
              "5674     215\n",
              "5558     197\n",
              "5483     196\n",
              "6214     195\n",
              "6049     195\n",
              "        ... \n",
              "20188      1\n",
              "20190      1\n",
              "20195      1\n",
              "20200      1\n",
              "41551      1\n",
              "Length: 21733, dtype: int64"
            ]
          },
          "metadata": {},
          "execution_count": 33
        }
      ]
    },
    {
      "cell_type": "code",
      "source": [
        "plt.figure(figsize=(20,10))\n",
        "sns.distplot(Data_df1[\"Sales\"])\n",
        "plt.show()"
      ],
      "metadata": {
        "colab": {
          "base_uri": "https://localhost:8080/",
          "height": 606
        },
        "id": "EObK0bU-t_HN",
        "outputId": "55453416-edc9-4c94-f3ae-6978012a33a2"
      },
      "execution_count": null,
      "outputs": [
        {
          "output_type": "display_data",
          "data": {
            "text/plain": [
              "<Figure size 1440x720 with 1 Axes>"
            ],
            "image/png": "[encoded data removed]"
          },
          "metadata": {}
        }
      ]
    },
    {
      "cell_type": "markdown",
      "source": [
        "# Here is sales is basically (Turnover of any given day) is showing 215 days have the turnover about 5674 dollars  its the highest "
      ],
      "metadata": {
        "id": "dNt0fCkzOY2c"
      }
    },
    {
      "cell_type": "code",
      "source": [
        "Data_df1.value_counts('Customers').max()"
      ],
      "metadata": {
        "colab": {
          "base_uri": "https://localhost:8080/"
        },
        "id": "Fd6SchO-Q09U",
        "outputId": "9f1c9f41-2494-48da-875f-0324aa70e1a7"
      },
      "execution_count": null,
      "outputs": [
        {
          "output_type": "execute_result",
          "data": {
            "text/plain": [
              "2414"
            ]
          },
          "metadata": {},
          "execution_count": 35
        }
      ]
    },
    {
      "cell_type": "code",
      "source": [
        "Data_df1.value_counts('Customers')"
      ],
      "metadata": {
        "colab": {
          "base_uri": "https://localhost:8080/"
        },
        "id": "mBjCsdkBQDQw",
        "outputId": "7e26eca7-e271-4b93-aab3-fe07c0aaba7a"
      },
      "execution_count": null,
      "outputs": [
        {
          "output_type": "execute_result",
          "data": {
            "text/plain": [
              "Customers\n",
              "560     2414\n",
              "576     2363\n",
              "603     2337\n",
              "571     2330\n",
              "555     2328\n",
              "        ... \n",
              "3930       1\n",
              "3922       1\n",
              "3914       1\n",
              "3908       1\n",
              "7388       1\n",
              "Length: 4083, dtype: int64"
            ]
          },
          "metadata": {},
          "execution_count": 36
        }
      ]
    },
    {
      "cell_type": "code",
      "source": [
        "plt.figure(figsize=(20,10))\n",
        "sns.distplot(Data_df1[\"Customers\"])\n",
        "plt.show()"
      ],
      "metadata": {
        "colab": {
          "base_uri": "https://localhost:8080/",
          "height": 606
        },
        "id": "E5SEpYequQ9K",
        "outputId": "eb2322b5-1cea-4f8e-e8f9-71b1969e19db"
      },
      "execution_count": null,
      "outputs": [
        {
          "output_type": "display_data",
          "data": {
            "text/plain": [
              "<Figure size 1440x720 with 1 Axes>"
            ],
            "image/png": "[encoded data removed]"
          },
          "metadata": {}
        }
      ]
    },
    {
      "cell_type": "markdown",
      "source": [
        "# Customers showning is ( the number of customers on a given day) nearly about 560 customers a day is the highest "
      ],
      "metadata": {
        "id": "J58zC47SP3ec"
      }
    },
    {
      "cell_type": "code",
      "source": [
        "Data_df1.value_counts('CompetitionOpenSinceYear')"
      ],
      "metadata": {
        "colab": {
          "base_uri": "https://localhost:8080/"
        },
        "id": "8FMEuuRsK7At",
        "outputId": "9ace7e5c-ab6e-4de8-d181-8df03bb803b5"
      },
      "execution_count": null,
      "outputs": [
        {
          "output_type": "execute_result",
          "data": {
            "text/plain": [
              "CompetitionOpenSinceYear\n",
              "2013.0    331706\n",
              "2012.0     61716\n",
              "2014.0     52807\n",
              "2005.0     46703\n",
              "2010.0     42715\n",
              "2011.0     41363\n",
              "2009.0     40711\n",
              "2008.0     40195\n",
              "2007.0     36125\n",
              "2006.0     35543\n",
              "2015.0     28844\n",
              "2002.0     20736\n",
              "2004.0     16333\n",
              "2003.0     13832\n",
              "2001.0     12157\n",
              "2000.0      7631\n",
              "1999.0      6213\n",
              "1990.0      3885\n",
              "1994.0      1552\n",
              "1995.0      1404\n",
              "1961.0       779\n",
              "1998.0       766\n",
              "1900.0       622\n",
              "dtype: int64"
            ]
          },
          "metadata": {},
          "execution_count": 38
        }
      ]
    },
    {
      "cell_type": "code",
      "source": [
        "plt.figure(figsize=(20,10))\n",
        "sns.countplot(x='CompetitionOpenSinceYear',data =Data_df1)\n",
        "plt.show()"
      ],
      "metadata": {
        "colab": {
          "base_uri": "https://localhost:8080/",
          "height": 606
        },
        "id": "g_uD91Q0fyMl",
        "outputId": "572378fc-b226-4219-dfb1-0c2d3c68313e"
      },
      "execution_count": null,
      "outputs": [
        {
          "output_type": "display_data",
          "data": {
            "text/plain": [
              "<Figure size 1440x720 with 1 Axes>"
            ],
            "image/png": "[encoded data removed]"
          },
          "metadata": {}
        }
      ]
    },
    {
      "cell_type": "code",
      "source": [
        "Data_df1.value_counts('CompetitionOpenSinceMonth')"
      ],
      "metadata": {
        "colab": {
          "base_uri": "https://localhost:8080/"
        },
        "id": "3ckXrsaeKfcg",
        "outputId": "bd9015c8-20c6-4dcd-9037-8f384fe2081d"
      },
      "execution_count": null,
      "outputs": [
        {
          "output_type": "execute_result",
          "data": {
            "text/plain": [
              "CompetitionOpenSinceMonth\n",
              "9.0     364067\n",
              "4.0      72253\n",
              "11.0     70028\n",
              "3.0      52680\n",
              "7.0      49008\n",
              "12.0     47879\n",
              "10.0     46192\n",
              "6.0      37756\n",
              "5.0      32858\n",
              "2.0      31359\n",
              "8.0      29961\n",
              "1.0      10297\n",
              "dtype: int64"
            ]
          },
          "metadata": {},
          "execution_count": 40
        }
      ]
    },
    {
      "cell_type": "code",
      "source": [
        "plt.figure(figsize=(10,10))\n",
        "sns.distplot(Data_df1[\"CompetitionOpenSinceMonth\"])\n",
        "plt.show()"
      ],
      "metadata": {
        "colab": {
          "base_uri": "https://localhost:8080/",
          "height": 606
        },
        "id": "ZWnbRdpVKfZB",
        "outputId": "c49d96d9-9115-4c3b-a617-7cdea903ace9"
      },
      "execution_count": null,
      "outputs": [
        {
          "output_type": "display_data",
          "data": {
            "text/plain": [
              "<Figure size 720x720 with 1 Axes>"
            ],
            "image/png": "[encoded data removed]"
          },
          "metadata": {}
        }
      ]
    },
    {
      "cell_type": "markdown",
      "source": [
        "# Here is competition open since (year/month) is basically (gives the approximate year and month of the time the nearest competitor was opened) is showing for year is 2013 and for 9th month is highest"
      ],
      "metadata": {
        "id": "beWbYISjReLZ"
      }
    },
    {
      "cell_type": "code",
      "source": [
        "Data_df1.value_counts('CompetitionDistance').max()"
      ],
      "metadata": {
        "colab": {
          "base_uri": "https://localhost:8080/"
        },
        "id": "FNUxXH5wAPxF",
        "outputId": "773dca4f-bc96-4da0-a54f-c43ca65c9068"
      },
      "execution_count": null,
      "outputs": [
        {
          "output_type": "execute_result",
          "data": {
            "text/plain": [
              "9210"
            ]
          },
          "metadata": {},
          "execution_count": 42
        }
      ]
    },
    {
      "cell_type": "code",
      "source": [
        "Data_df1.value_counts('CompetitionDistance').min()"
      ],
      "metadata": {
        "colab": {
          "base_uri": "https://localhost:8080/"
        },
        "id": "GjCEJ8ZQALy_",
        "outputId": "6e694f82-8c35-449b-95bb-f9f4baf11a7b"
      },
      "execution_count": null,
      "outputs": [
        {
          "output_type": "execute_result",
          "data": {
            "text/plain": [
              "605"
            ]
          },
          "metadata": {},
          "execution_count": 43
        }
      ]
    },
    {
      "cell_type": "code",
      "source": [
        "Data_df1.value_counts('CompetitionDistance')"
      ],
      "metadata": {
        "colab": {
          "base_uri": "https://localhost:8080/"
        },
        "id": "sR79Y035AHno",
        "outputId": "45a3668a-fdd9-41fb-fdee-7cac4c2e0883"
      },
      "execution_count": null,
      "outputs": [
        {
          "output_type": "execute_result",
          "data": {
            "text/plain": [
              "CompetitionDistance\n",
              "250.0      9210\n",
              "50.0       6249\n",
              "350.0      6239\n",
              "1200.0     6069\n",
              "190.0      6066\n",
              "           ... \n",
              "2340.0      619\n",
              "10170.0     618\n",
              "9670.0      611\n",
              "17930.0     606\n",
              "1370.0      605\n",
              "Length: 655, dtype: int64"
            ]
          },
          "metadata": {},
          "execution_count": 44
        }
      ]
    },
    {
      "cell_type": "code",
      "source": [
        "plt.style.use('fivethirtyeight')\n",
        "plt.figure(figsize=(13,7))\n",
        "sns.distplot(Data_df1['CompetitionDistance'], bins=25)"
      ],
      "metadata": {
        "colab": {
          "base_uri": "https://localhost:8080/",
          "height": 496
        },
        "id": "bFmRdtR-ADWv",
        "outputId": "4eebb085-0351-4fdd-e08d-55b23ded0e63"
      },
      "execution_count": null,
      "outputs": [
        {
          "output_type": "execute_result",
          "data": {
            "text/plain": [
              "<matplotlib.axes._subplots.AxesSubplot at 0x7fadcff473d0>"
            ]
          },
          "metadata": {},
          "execution_count": 45
        },
        {
          "output_type": "display_data",
          "data": {
            "text/plain": [
              "<Figure size 936x504 with 1 Axes>"
            ],
            "image/png": "[encoded data removed]"
          },
          "metadata": {}
        }
      ]
    },
    {
      "cell_type": "markdown",
      "source": [
        "# CompetitionDistance is basically (distance in meters to the nearest competitor store) is showing 9,210 M about less than 1 KM had the highest competions"
      ],
      "metadata": {
        "id": "TM64NHDNSPZT"
      }
    },
    {
      "cell_type": "markdown",
      "source": [
        "# **Categorical Features**"
      ],
      "metadata": {
        "id": "G5I3rUN1u_MR"
      }
    },
    {
      "cell_type": "code",
      "source": [
        "plt.figure(figsize=(10,5))\n",
        "sns.countplot(x='Assortment',data = Data_df1)"
      ],
      "metadata": {
        "colab": {
          "base_uri": "https://localhost:8080/",
          "height": 379
        },
        "id": "8m05UEyGuQl_",
        "outputId": "7118f8c0-f473-4ea7-9236-f8e270330cd3"
      },
      "execution_count": null,
      "outputs": [
        {
          "output_type": "execute_result",
          "data": {
            "text/plain": [
              "<matplotlib.axes._subplots.AxesSubplot at 0x7fadd00a73d0>"
            ]
          },
          "metadata": {},
          "execution_count": 46
        },
        {
          "output_type": "display_data",
          "data": {
            "text/plain": [
              "<Figure size 720x360 with 1 Axes>"
            ],
            "image/png": "[encoded data removed]"
          },
          "metadata": {}
        }
      ]
    },
    {
      "cell_type": "markdown",
      "source": [
        "# Describes an assortment level: (a = basic, b = extra, c = extended) a and c is showing highest Assortment level "
      ],
      "metadata": {
        "id": "AOaYKA-9TgtU"
      }
    },
    {
      "cell_type": "code",
      "source": [
        "Data_df1.value_counts('StateHoliday')"
      ],
      "metadata": {
        "colab": {
          "base_uri": "https://localhost:8080/"
        },
        "id": "W_Rw8f9sHdHn",
        "outputId": "a9835c34-87ff-4bf5-fb20-9f68ae608369"
      },
      "execution_count": null,
      "outputs": [
        {
          "output_type": "execute_result",
          "data": {
            "text/plain": [
              "StateHoliday\n",
              "0    731308\n",
              "0    112120\n",
              "a       694\n",
              "b       145\n",
              "c        71\n",
              "dtype: int64"
            ]
          },
          "metadata": {},
          "execution_count": 47
        }
      ]
    },
    {
      "cell_type": "code",
      "source": [
        "plt.figure(figsize=(10,5))\n",
        "sns.countplot(x='StateHoliday',data = Data_df1)"
      ],
      "metadata": {
        "colab": {
          "base_uri": "https://localhost:8080/",
          "height": 379
        },
        "id": "rF_o9x1zuQjl",
        "outputId": "00ecf418-c022-4e4a-f41b-300bfc8fb87f"
      },
      "execution_count": null,
      "outputs": [
        {
          "output_type": "execute_result",
          "data": {
            "text/plain": [
              "<matplotlib.axes._subplots.AxesSubplot at 0x7fadcff47f50>"
            ]
          },
          "metadata": {},
          "execution_count": 48
        },
        {
          "output_type": "display_data",
          "data": {
            "text/plain": [
              "<Figure size 720x360 with 1 Axes>"
            ],
            "image/png": "[encoded data removed]"
          },
          "metadata": {}
        }
      ]
    },
    {
      "cell_type": "markdown",
      "source": [
        "# (a = public holiday, b = Easter holiday, c = Christmas, 0 = None) There is most of the times no holiday is showing "
      ],
      "metadata": {
        "id": "15c3-dKjT3Yh"
      }
    },
    {
      "cell_type": "code",
      "source": [
        "plt.figure(figsize=(10,5))\n",
        "sns.countplot(x='PromoInterval',data = Data_df1)"
      ],
      "metadata": {
        "colab": {
          "base_uri": "https://localhost:8080/",
          "height": 379
        },
        "id": "oudl6uisuQg9",
        "outputId": "e9a1d14f-92e9-4ca0-bf65-6ff0c3c7a857"
      },
      "execution_count": null,
      "outputs": [
        {
          "output_type": "execute_result",
          "data": {
            "text/plain": [
              "<matplotlib.axes._subplots.AxesSubplot at 0x7fadd00fcc10>"
            ]
          },
          "metadata": {},
          "execution_count": 49
        },
        {
          "output_type": "display_data",
          "data": {
            "text/plain": [
              "<Figure size 720x360 with 1 Axes>"
            ],
            "image/png": "[encoded data removed]"
          },
          "metadata": {}
        }
      ]
    },
    {
      "cell_type": "markdown",
      "source": [
        "# Promointerval is showning that it started running mostly on Jan,Apr,Jul,Aug months"
      ],
      "metadata": {
        "id": "QmJA5TxuWHVo"
      }
    },
    {
      "cell_type": "code",
      "source": [
        "bplt1=Data_df1.groupby(['Assortment'])['Sales'].mean().plot.bar(figsize=(15,5))"
      ],
      "metadata": {
        "colab": {
          "base_uri": "https://localhost:8080/",
          "height": 357
        },
        "id": "m2UvtLYJV0Be",
        "outputId": "f0d0ee8a-ef8a-4f2d-e6b8-7c386ff7ac4d"
      },
      "execution_count": null,
      "outputs": [
        {
          "output_type": "display_data",
          "data": {
            "text/plain": [
              "<Figure size 1080x360 with 1 Axes>"
            ],
            "image/png": "[encoded data removed]"
          },
          "metadata": {}
        }
      ]
    },
    {
      "cell_type": "markdown",
      "source": [
        "# (a = basic, b = extra, c = extended) Assortment level b is doing the highest sales    "
      ],
      "metadata": {
        "id": "l49-vpVEWh23"
      }
    },
    {
      "cell_type": "markdown",
      "source": [
        "# **Lets do some analysis on Store Types**"
      ],
      "metadata": {
        "id": "ga7PC7_tW_Mz"
      }
    },
    {
      "cell_type": "code",
      "source": [
        "plt.figure(figsize=(12,6))\n",
        "sns.lineplot(x='StoreType',y='Sales',data=Data_df1)"
      ],
      "metadata": {
        "colab": {
          "base_uri": "https://localhost:8080/",
          "height": 437
        },
        "id": "zmk8E61A5Lfc",
        "outputId": "1fd16ead-013f-42ec-d9f8-895621963b20"
      },
      "execution_count": null,
      "outputs": [
        {
          "output_type": "execute_result",
          "data": {
            "text/plain": [
              "<matplotlib.axes._subplots.AxesSubplot at 0x7fadd38f55d0>"
            ]
          },
          "metadata": {},
          "execution_count": 51
        },
        {
          "output_type": "display_data",
          "data": {
            "text/plain": [
              "<Figure size 864x432 with 1 Axes>"
            ],
            "image/png": "[encoded data removed]"
          },
          "metadata": {}
        }
      ]
    },
    {
      "cell_type": "markdown",
      "source": [
        "# Store Type (b) have highest sales "
      ],
      "metadata": {
        "id": "y0Wns1N_XF4W"
      }
    },
    {
      "cell_type": "code",
      "source": [
        "sns.countplot(x=Data_df1['StoreType'],hue=Data_df1['Promo2'])\n",
        "plt.rcParams['figure.figsize'] = (18, 5)"
      ],
      "metadata": {
        "colab": {
          "base_uri": "https://localhost:8080/",
          "height": 304
        },
        "id": "znnDFj2hMxA0",
        "outputId": "4e6f73e3-a53b-4d84-9446-1dc8666bac07"
      },
      "execution_count": null,
      "outputs": [
        {
          "output_type": "display_data",
          "data": {
            "text/plain": [
              "<Figure size 432x288 with 1 Axes>"
            ],
            "image/png": "[encoded data removed]"
          },
          "metadata": {}
        }
      ]
    },
    {
      "cell_type": "markdown",
      "source": [
        "# Promo2 is a continuing and consecutive promotion for some stores: 0 = store is not participating, 1 = store is participating \n"
      ],
      "metadata": {
        "id": "Nks4bVa0Xgjn"
      }
    },
    {
      "cell_type": "code",
      "source": [
        "store_df.value_counts('CompetitionOpenSinceMonth')"
      ],
      "metadata": {
        "colab": {
          "base_uri": "https://localhost:8080/"
        },
        "id": "3z0KGaVVKQ-A",
        "outputId": "a36b2ce3-2ef2-4611-db01-9547065d0321"
      },
      "execution_count": null,
      "outputs": [
        {
          "output_type": "execute_result",
          "data": {
            "text/plain": [
              "CompetitionOpenSinceMonth\n",
              "9.0     479\n",
              "4.0      94\n",
              "11.0     92\n",
              "3.0      70\n",
              "7.0      67\n",
              "12.0     64\n",
              "10.0     61\n",
              "6.0      50\n",
              "5.0      44\n",
              "2.0      41\n",
              "8.0      39\n",
              "1.0      14\n",
              "dtype: int64"
            ]
          },
          "metadata": {},
          "execution_count": 53
        }
      ]
    },
    {
      "cell_type": "code",
      "source": [
        "sns.countplot(x=Data_df1['StoreType'],hue=Data_df1['CompetitionOpenSinceMonth'])\n",
        "plt.rcParams['figure.figsize'] = (18, 5)"
      ],
      "metadata": {
        "colab": {
          "base_uri": "https://localhost:8080/",
          "height": 362
        },
        "id": "sMNtw_6Cvko2",
        "outputId": "ba5a3e31-d3b1-417c-8caa-aa57c8a14d35"
      },
      "execution_count": null,
      "outputs": [
        {
          "output_type": "display_data",
          "data": {
            "text/plain": [
              "<Figure size 1296x360 with 1 Axes>"
            ],
            "image/png": "[encoded data removed]"
          },
          "metadata": {}
        }
      ]
    },
    {
      "cell_type": "markdown",
      "source": [
        "# For all the store types competiotionopensinceMonth is highest in 9th month"
      ],
      "metadata": {
        "id": "U8hX0pS-ZPB9"
      }
    },
    {
      "cell_type": "code",
      "source": [
        "sns.countplot(x=Data_df1['StoreType'],hue=Data_df1['CompetitionOpenSinceYear'])\n",
        "plt.rcParams['figure.figsize'] = (18, 5)"
      ],
      "metadata": {
        "colab": {
          "base_uri": "https://localhost:8080/",
          "height": 586
        },
        "id": "bHOsHM_WhXjV",
        "outputId": "2adc065e-7667-4b13-ca5d-a6d39519ddaa"
      },
      "execution_count": null,
      "outputs": [
        {
          "output_type": "display_data",
          "data": {
            "text/plain": [
              "<Figure size 1296x360 with 1 Axes>"
            ],
            "image/png": "[encoded data removed]"
          },
          "metadata": {}
        }
      ]
    },
    {
      "cell_type": "markdown",
      "source": [
        "#For all the store types competiotionopensinceYear is highest in 2013 Year"
      ],
      "metadata": {
        "id": "QQSOEeUyhhim"
      }
    },
    {
      "cell_type": "code",
      "source": [
        "#Droping Date feature\n",
        "Data_df1.drop(['Date'], axis = 1, inplace = True)"
      ],
      "metadata": {
        "id": "4Sx33LfD_uQQ"
      },
      "execution_count": null,
      "outputs": []
    },
    {
      "cell_type": "markdown",
      "source": [
        "# **Counting unique variables in categorical features for encoding**"
      ],
      "metadata": {
        "id": "hQUzUJILcG5B"
      }
    },
    {
      "cell_type": "code",
      "source": [
        "Data_df1['StateHoliday'].unique()"
      ],
      "metadata": {
        "colab": {
          "base_uri": "https://localhost:8080/"
        },
        "id": "vUtMFbxbw8mu",
        "outputId": "68edfdf8-057c-4a0c-c7ff-1e9f7048342d"
      },
      "execution_count": null,
      "outputs": [
        {
          "output_type": "execute_result",
          "data": {
            "text/plain": [
              "array(['0', 0, 'a', 'b', 'c'], dtype=object)"
            ]
          },
          "metadata": {},
          "execution_count": 57
        }
      ]
    },
    {
      "cell_type": "code",
      "source": [
        "Data_df1['Assortment'].unique()"
      ],
      "metadata": {
        "colab": {
          "base_uri": "https://localhost:8080/"
        },
        "id": "_dsHtofBx379",
        "outputId": "db45dd76-98a5-47d1-d694-9e529d7aa0e0"
      },
      "execution_count": null,
      "outputs": [
        {
          "output_type": "execute_result",
          "data": {
            "text/plain": [
              "array(['a', 'c', 'b'], dtype=object)"
            ]
          },
          "metadata": {},
          "execution_count": 58
        }
      ]
    },
    {
      "cell_type": "code",
      "source": [
        "Data_df1['StoreType'].unique()"
      ],
      "metadata": {
        "colab": {
          "base_uri": "https://localhost:8080/"
        },
        "id": "ElsYRU9ax35i",
        "outputId": "84b0c85b-1913-443d-dbfe-7d688836876f"
      },
      "execution_count": null,
      "outputs": [
        {
          "output_type": "execute_result",
          "data": {
            "text/plain": [
              "array(['c', 'a', 'd', 'b'], dtype=object)"
            ]
          },
          "metadata": {},
          "execution_count": 59
        }
      ]
    },
    {
      "cell_type": "code",
      "source": [
        "Data_df1['PromoInterval'].unique()"
      ],
      "metadata": {
        "colab": {
          "base_uri": "https://localhost:8080/"
        },
        "id": "ydF5aEzdx32-",
        "outputId": "a0322931-5b9c-44a5-8ddd-73f67d38700d"
      },
      "execution_count": null,
      "outputs": [
        {
          "output_type": "execute_result",
          "data": {
            "text/plain": [
              "array([0, 'Jan,Apr,Jul,Oct', 'Feb,May,Aug,Nov', 'Mar,Jun,Sept,Dec'],\n",
              "      dtype=object)"
            ]
          },
          "metadata": {},
          "execution_count": 60
        }
      ]
    },
    {
      "cell_type": "markdown",
      "source": [
        "# OneHotEncoding"
      ],
      "metadata": {
        "id": "adgm438QcgN-"
      }
    },
    {
      "cell_type": "code",
      "source": [
        "final_Data = pd.get_dummies(Data_df1,drop_first = True)"
      ],
      "metadata": {
        "id": "L3RXMscZx30T"
      },
      "execution_count": null,
      "outputs": []
    },
    {
      "cell_type": "code",
      "source": [
        "final_Data"
      ],
      "metadata": {
        "colab": {
          "base_uri": "https://localhost:8080/",
          "height": 488
        },
        "id": "L8UeN7dRx3xg",
        "outputId": "494d3502-2228-4047-8b6e-421b3a2a1888"
      },
      "execution_count": null,
      "outputs": [
        {
          "output_type": "execute_result",
          "data": {
            "text/plain": [
              "         Store  DayOfWeek  Sales  Customers  Promo  SchoolHoliday  Year  \\\n",
              "0            1          5   5263        555      1              1  2015   \n",
              "1            1          4   5020        546      1              1  2015   \n",
              "2            1          3   4782        523      1              1  2015   \n",
              "3            1          2   5011        560      1              1  2015   \n",
              "4            1          1   6102        612      1              1  2015   \n",
              "...        ...        ...    ...        ...    ...            ...   ...   \n",
              "1017202   1115          1   6905        471      1              1  2013   \n",
              "1017204   1115          6   4771        339      0              1  2013   \n",
              "1017205   1115          5   4540        326      0              1  2013   \n",
              "1017206   1115          4   4297        300      0              1  2013   \n",
              "1017207   1115          3   3697        305      0              1  2013   \n",
              "\n",
              "         Month  Day  Week  ...  StateHoliday_b  StateHoliday_c  StoreType_b  \\\n",
              "0            7   31     3  ...               0               0            0   \n",
              "1            7   30     3  ...               0               0            0   \n",
              "2            7   29     3  ...               0               0            0   \n",
              "3            7   28     3  ...               0               0            0   \n",
              "4            7   27     3  ...               0               0            0   \n",
              "...        ...  ...   ...  ...             ...             ...          ...   \n",
              "1017202      1    7     2  ...               0               0            0   \n",
              "1017204      1    5     1  ...               0               0            0   \n",
              "1017205      1    4     1  ...               0               0            0   \n",
              "1017206      1    3     1  ...               0               0            0   \n",
              "1017207      1    2     1  ...               0               0            0   \n",
              "\n",
              "         StoreType_c  StoreType_d  Assortment_b  Assortment_c  \\\n",
              "0                  1            0             0             0   \n",
              "1                  1            0             0             0   \n",
              "2                  1            0             0             0   \n",
              "3                  1            0             0             0   \n",
              "4                  1            0             0             0   \n",
              "...              ...          ...           ...           ...   \n",
              "1017202            0            1             0             1   \n",
              "1017204            0            1             0             1   \n",
              "1017205            0            1             0             1   \n",
              "1017206            0            1             0             1   \n",
              "1017207            0            1             0             1   \n",
              "\n",
              "         PromoInterval_Feb,May,Aug,Nov  PromoInterval_Jan,Apr,Jul,Oct  \\\n",
              "0                                    0                              0   \n",
              "1                                    0                              0   \n",
              "2                                    0                              0   \n",
              "3                                    0                              0   \n",
              "4                                    0                              0   \n",
              "...                                ...                            ...   \n",
              "1017202                              0                              0   \n",
              "1017204                              0                              0   \n",
              "1017205                              0                              0   \n",
              "1017206                              0                              0   \n",
              "1017207                              0                              0   \n",
              "\n",
              "         PromoInterval_Mar,Jun,Sept,Dec  \n",
              "0                                     0  \n",
              "1                                     0  \n",
              "2                                     0  \n",
              "3                                     0  \n",
              "4                                     0  \n",
              "...                                 ...  \n",
              "1017202                               1  \n",
              "1017204                               1  \n",
              "1017205                               1  \n",
              "1017206                               1  \n",
              "1017207                               1  \n",
              "\n",
              "[844338 rows x 29 columns]"
            ],
            "text/html": [
              "\n",
              "  <div id=\"df-bbdb10af-a2f3-42be-968c-c19414650415\">\n",
              "    <div class=\"colab-df-container\">\n",
              "      <div>\n",
              "<style scoped>\n",
              "    .dataframe tbody tr th:only-of-type {\n",
              "        vertical-align: middle;\n",
              "    }\n",
              "\n",
              "    .dataframe tbody tr th {\n",
              "        vertical-align: top;\n",
              "    }\n",
              "\n",
              "    .dataframe thead th {\n",
              "        text-align: right;\n",
              "    }\n",
              "</style>\n",
              "<table border=\"1\" class=\"dataframe\">\n",
              "  <thead>\n",
              "    <tr style=\"text-align: right;\">\n",
              "      <th></th>\n",
              "      <th>Store</th>\n",
              "      <th>DayOfWeek</th>\n",
              "      <th>Sales</th>\n",
              "      <th>Customers</th>\n",
              "      <th>Promo</th>\n",
              "      <th>SchoolHoliday</th>\n",
              "      <th>Year</th>\n",
              "      <th>Month</th>\n",
              "      <th>Day</th>\n",
              "      <th>Week</th>\n",
              "      <th>...</th>\n",
              "      <th>StateHoliday_b</th>\n",
              "      <th>StateHoliday_c</th>\n",
              "      <th>StoreType_b</th>\n",
              "      <th>StoreType_c</th>\n",
              "      <th>StoreType_d</th>\n",
              "      <th>Assortment_b</th>\n",
              "      <th>Assortment_c</th>\n",
              "      <th>PromoInterval_Feb,May,Aug,Nov</th>\n",
              "      <th>PromoInterval_Jan,Apr,Jul,Oct</th>\n",
              "      <th>PromoInterval_Mar,Jun,Sept,Dec</th>\n",
              "    </tr>\n",
              "  </thead>\n",
              "  <tbody>\n",
              "    <tr>\n",
              "      <th>0</th>\n",
              "      <td>1</td>\n",
              "      <td>5</td>\n",
              "      <td>5263</td>\n",
              "      <td>555</td>\n",
              "      <td>1</td>\n",
              "      <td>1</td>\n",
              "      <td>2015</td>\n",
              "      <td>7</td>\n",
              "      <td>31</td>\n",
              "      <td>3</td>\n",
              "      <td>...</td>\n",
              "      <td>0</td>\n",
              "      <td>0</td>\n",
              "      <td>0</td>\n",
              "      <td>1</td>\n",
              "      <td>0</td>\n",
              "      <td>0</td>\n",
              "      <td>0</td>\n",
              "      <td>0</td>\n",
              "      <td>0</td>\n",
              "      <td>0</td>\n",
              "    </tr>\n",
              "    <tr>\n",
              "      <th>1</th>\n",
              "      <td>1</td>\n",
              "      <td>4</td>\n",
              "      <td>5020</td>\n",
              "      <td>546</td>\n",
              "      <td>1</td>\n",
              "      <td>1</td>\n",
              "      <td>2015</td>\n",
              "      <td>7</td>\n",
              "      <td>30</td>\n",
              "      <td>3</td>\n",
              "      <td>...</td>\n",
              "      <td>0</td>\n",
              "      <td>0</td>\n",
              "      <td>0</td>\n",
              "      <td>1</td>\n",
              "      <td>0</td>\n",
              "      <td>0</td>\n",
              "      <td>0</td>\n",
              "      <td>0</td>\n",
              "      <td>0</td>\n",
              "      <td>0</td>\n",
              "    </tr>\n",
              "    <tr>\n",
              "      <th>2</th>\n",
              "      <td>1</td>\n",
              "      <td>3</td>\n",
              "      <td>4782</td>\n",
              "      <td>523</td>\n",
              "      <td>1</td>\n",
              "      <td>1</td>\n",
              "      <td>2015</td>\n",
              "      <td>7</td>\n",
              "      <td>29</td>\n",
              "      <td>3</td>\n",
              "      <td>...</td>\n",
              "      <td>0</td>\n",
              "      <td>0</td>\n",
              "      <td>0</td>\n",
              "      <td>1</td>\n",
              "      <td>0</td>\n",
              "      <td>0</td>\n",
              "      <td>0</td>\n",
              "      <td>0</td>\n",
              "      <td>0</td>\n",
              "      <td>0</td>\n",
              "    </tr>\n",
              "    <tr>\n",
              "      <th>3</th>\n",
              "      <td>1</td>\n",
              "      <td>2</td>\n",
              "      <td>5011</td>\n",
              "      <td>560</td>\n",
              "      <td>1</td>\n",
              "      <td>1</td>\n",
              "      <td>2015</td>\n",
              "      <td>7</td>\n",
              "      <td>28</td>\n",
              "      <td>3</td>\n",
              "      <td>...</td>\n",
              "      <td>0</td>\n",
              "      <td>0</td>\n",
              "      <td>0</td>\n",
              "      <td>1</td>\n",
              "      <td>0</td>\n",
              "      <td>0</td>\n",
              "      <td>0</td>\n",
              "      <td>0</td>\n",
              "      <td>0</td>\n",
              "      <td>0</td>\n",
              "    </tr>\n",
              "    <tr>\n",
              "      <th>4</th>\n",
              "      <td>1</td>\n",
              "      <td>1</td>\n",
              "      <td>6102</td>\n",
              "      <td>612</td>\n",
              "      <td>1</td>\n",
              "      <td>1</td>\n",
              "      <td>2015</td>\n",
              "      <td>7</td>\n",
              "      <td>27</td>\n",
              "      <td>3</td>\n",
              "      <td>...</td>\n",
              "      <td>0</td>\n",
              "      <td>0</td>\n",
              "      <td>0</td>\n",
              "      <td>1</td>\n",
              "      <td>0</td>\n",
              "      <td>0</td>\n",
              "      <td>0</td>\n",
              "      <td>0</td>\n",
              "      <td>0</td>\n",
              "      <td>0</td>\n",
              "    </tr>\n",
              "    <tr>\n",
              "      <th>...</th>\n",
              "      <td>...</td>\n",
              "      <td>...</td>\n",
              "      <td>...</td>\n",
              "      <td>...</td>\n",
              "      <td>...</td>\n",
              "      <td>...</td>\n",
              "      <td>...</td>\n",
              "      <td>...</td>\n",
              "      <td>...</td>\n",
              "      <td>...</td>\n",
              "      <td>...</td>\n",
              "      <td>...</td>\n",
              "      <td>...</td>\n",
              "      <td>...</td>\n",
              "      <td>...</td>\n",
              "      <td>...</td>\n",
              "      <td>...</td>\n",
              "      <td>...</td>\n",
              "      <td>...</td>\n",
              "      <td>...</td>\n",
              "      <td>...</td>\n",
              "    </tr>\n",
              "    <tr>\n",
              "      <th>1017202</th>\n",
              "      <td>1115</td>\n",
              "      <td>1</td>\n",
              "      <td>6905</td>\n",
              "      <td>471</td>\n",
              "      <td>1</td>\n",
              "      <td>1</td>\n",
              "      <td>2013</td>\n",
              "      <td>1</td>\n",
              "      <td>7</td>\n",
              "      <td>2</td>\n",
              "      <td>...</td>\n",
              "      <td>0</td>\n",
              "      <td>0</td>\n",
              "      <td>0</td>\n",
              "      <td>0</td>\n",
              "      <td>1</td>\n",
              "      <td>0</td>\n",
              "      <td>1</td>\n",
              "      <td>0</td>\n",
              "      <td>0</td>\n",
              "      <td>1</td>\n",
              "    </tr>\n",
              "    <tr>\n",
              "      <th>1017204</th>\n",
              "      <td>1115</td>\n",
              "      <td>6</td>\n",
              "      <td>4771</td>\n",
              "      <td>339</td>\n",
              "      <td>0</td>\n",
              "      <td>1</td>\n",
              "      <td>2013</td>\n",
              "      <td>1</td>\n",
              "      <td>5</td>\n",
              "      <td>1</td>\n",
              "      <td>...</td>\n",
              "      <td>0</td>\n",
              "      <td>0</td>\n",
              "      <td>0</td>\n",
              "      <td>0</td>\n",
              "      <td>1</td>\n",
              "      <td>0</td>\n",
              "      <td>1</td>\n",
              "      <td>0</td>\n",
              "      <td>0</td>\n",
              "      <td>1</td>\n",
              "    </tr>\n",
              "    <tr>\n",
              "      <th>1017205</th>\n",
              "      <td>1115</td>\n",
              "      <td>5</td>\n",
              "      <td>4540</td>\n",
              "      <td>326</td>\n",
              "      <td>0</td>\n",
              "      <td>1</td>\n",
              "      <td>2013</td>\n",
              "      <td>1</td>\n",
              "      <td>4</td>\n",
              "      <td>1</td>\n",
              "      <td>...</td>\n",
              "      <td>0</td>\n",
              "      <td>0</td>\n",
              "      <td>0</td>\n",
              "      <td>0</td>\n",
              "      <td>1</td>\n",
              "      <td>0</td>\n",
              "      <td>1</td>\n",
              "      <td>0</td>\n",
              "      <td>0</td>\n",
              "      <td>1</td>\n",
              "    </tr>\n",
              "    <tr>\n",
              "      <th>1017206</th>\n",
              "      <td>1115</td>\n",
              "      <td>4</td>\n",
              "      <td>4297</td>\n",
              "      <td>300</td>\n",
              "      <td>0</td>\n",
              "      <td>1</td>\n",
              "      <td>2013</td>\n",
              "      <td>1</td>\n",
              "      <td>3</td>\n",
              "      <td>1</td>\n",
              "      <td>...</td>\n",
              "      <td>0</td>\n",
              "      <td>0</td>\n",
              "      <td>0</td>\n",
              "      <td>0</td>\n",
              "      <td>1</td>\n",
              "      <td>0</td>\n",
              "      <td>1</td>\n",
              "      <td>0</td>\n",
              "      <td>0</td>\n",
              "      <td>1</td>\n",
              "    </tr>\n",
              "    <tr>\n",
              "      <th>1017207</th>\n",
              "      <td>1115</td>\n",
              "      <td>3</td>\n",
              "      <td>3697</td>\n",
              "      <td>305</td>\n",
              "      <td>0</td>\n",
              "      <td>1</td>\n",
              "      <td>2013</td>\n",
              "      <td>1</td>\n",
              "      <td>2</td>\n",
              "      <td>1</td>\n",
              "      <td>...</td>\n",
              "      <td>0</td>\n",
              "      <td>0</td>\n",
              "      <td>0</td>\n",
              "      <td>0</td>\n",
              "      <td>1</td>\n",
              "      <td>0</td>\n",
              "      <td>1</td>\n",
              "      <td>0</td>\n",
              "      <td>0</td>\n",
              "      <td>1</td>\n",
              "    </tr>\n",
              "  </tbody>\n",
              "</table>\n",
              "<p>844338 rows × 29 columns</p>\n",
              "</div>\n",
              "      <button class=\"colab-df-convert\" onclick=\"convertToInteractive('df-bbdb10af-a2f3-42be-968c-c19414650415')\"\n",
              "              title=\"Convert this dataframe to an interactive table.\"\n",
              "              style=\"display:none;\">\n",
              "        \n",
              "  <svg xmlns=\"http://www.w3.org/2000/svg\" height=\"24px\"viewBox=\"0 0 24 24\"\n",
              "       width=\"24px\">\n",
              "    <path d=\"M0 0h24v24H0V0z\" fill=\"none\"/>\n",
              "    <path d=\"M18.56 5.44l.94 2.06.94-2.06 2.06-.94-2.06-.94-.94-2.06-.94 2.06-2.06.94zm-11 1L8.5 8.5l.94-2.06 2.06-.94-2.06-.94L8.5 2.5l-.94 2.06-2.06.94zm10 10l.94 2.06.94-2.06 2.06-.94-2.06-.94-.94-2.06-.94 2.06-2.06.94z\"/><path d=\"M17.41 7.96l-1.37-1.37c-.4-.4-.92-.59-1.43-.59-.52 0-1.04.2-1.43.59L10.3 9.45l-7.72 7.72c-.78.78-.78 2.05 0 2.83L4 21.41c.39.39.9.59 1.41.59.51 0 1.02-.2 1.41-.59l7.78-7.78 2.81-2.81c.8-.78.8-2.07 0-2.86zM5.41 20L4 18.59l7.72-7.72 1.47 1.35L5.41 20z\"/>\n",
              "  </svg>\n",
              "      </button>\n",
              "      \n",
              "  <style>\n",
              "    .colab-df-container {\n",
              "      display:flex;\n",
              "      flex-wrap:wrap;\n",
              "      gap: 12px;\n",
              "    }\n",
              "\n",
              "    .colab-df-convert {\n",
              "      background-color: #E8F0FE;\n",
              "      border: none;\n",
              "      border-radius: 50%;\n",
              "      cursor: pointer;\n",
              "      display: none;\n",
              "      fill: #1967D2;\n",
              "      height: 32px;\n",
              "      padding: 0 0 0 0;\n",
              "      width: 32px;\n",
              "    }\n",
              "\n",
              "    .colab-df-convert:hover {\n",
              "      background-color: #E2EBFA;\n",
              "      box-shadow: 0px 1px 2px rgba(60, 64, 67, 0.3), 0px 1px 3px 1px rgba(60, 64, 67, 0.15);\n",
              "      fill: #174EA6;\n",
              "    }\n",
              "\n",
              "    [theme=dark] .colab-df-convert {\n",
              "      background-color: #3B4455;\n",
              "      fill: #D2E3FC;\n",
              "    }\n",
              "\n",
              "    [theme=dark] .colab-df-convert:hover {\n",
              "      background-color: #434B5C;\n",
              "      box-shadow: 0px 1px 3px 1px rgba(0, 0, 0, 0.15);\n",
              "      filter: drop-shadow(0px 1px 2px rgba(0, 0, 0, 0.3));\n",
              "      fill: #FFFFFF;\n",
              "    }\n",
              "  </style>\n",
              "\n",
              "      <script>\n",
              "        const buttonEl =\n",
              "          document.querySelector('#df-bbdb10af-a2f3-42be-968c-c19414650415 button.colab-df-convert');\n",
              "        buttonEl.style.display =\n",
              "          google.colab.kernel.accessAllowed ? 'block' : 'none';\n",
              "\n",
              "        async function convertToInteractive(key) {\n",
              "          const element = document.querySelector('#df-bbdb10af-a2f3-42be-968c-c19414650415');\n",
              "          const dataTable =\n",
              "            await google.colab.kernel.invokeFunction('convertToInteractive',\n",
              "                                                     [key], {});\n",
              "          if (!dataTable) return;\n",
              "\n",
              "          const docLinkHtml = 'Like what you see? Visit the ' +\n",
              "            '<a target=\"_blank\" href=https://colab.research.google.com/notebooks/data_table.ipynb>data table notebook</a>'\n",
              "            + ' to learn more about interactive tables.';\n",
              "          element.innerHTML = '';\n",
              "          dataTable['output_type'] = 'display_data';\n",
              "          await google.colab.output.renderOutput(dataTable, element);\n",
              "          const docLink = document.createElement('div');\n",
              "          docLink.innerHTML = docLinkHtml;\n",
              "          element.appendChild(docLink);\n",
              "        }\n",
              "      </script>\n",
              "    </div>\n",
              "  </div>\n",
              "  "
            ]
          },
          "metadata": {},
          "execution_count": 62
        }
      ]
    },
    {
      "cell_type": "code",
      "source": [
        "final_Data.corr()"
      ],
      "metadata": {
        "colab": {
          "base_uri": "https://localhost:8080/",
          "height": 1000
        },
        "id": "SoMa2TCLGnQL",
        "outputId": "f7798846-a1e4-4271-98b3-8e2face89147"
      },
      "execution_count": null,
      "outputs": [
        {
          "output_type": "execute_result",
          "data": {
            "text/plain": [
              "                                   Store  DayOfWeek     Sales  Customers  \\\n",
              "Store                           1.000000   0.000343  0.007723   0.033991   \n",
              "DayOfWeek                       0.000343   1.000000 -0.178753  -0.097266   \n",
              "Sales                           0.007723  -0.178753  1.000000   0.823552   \n",
              "Customers                       0.033991  -0.097266  0.823552   1.000000   \n",
              "Promo                          -0.000015  -0.289268  0.368199   0.182859   \n",
              "SchoolHoliday                   0.000526  -0.139319  0.038635   0.024915   \n",
              "Year                            0.000300   0.002099  0.036151  -0.000842   \n",
              "Month                           0.001371  -0.019710  0.073589   0.053843   \n",
              "Day                            -0.000127   0.008525 -0.051865  -0.035416   \n",
              "Week                            0.000014   0.001695  0.029450   0.012658   \n",
              "WeekOfYear                      0.001297  -0.014389  0.074463   0.053763   \n",
              "CompetitionDistance            -0.027080   0.005540 -0.035908  -0.147859   \n",
              "CompetitionOpenSinceMonth      -0.037942   0.000696 -0.036166  -0.034841   \n",
              "CompetitionOpenSinceYear       -0.000788   0.001459  0.010496   0.006942   \n",
              "Promo2                          0.007728  -0.003252 -0.127556  -0.202207   \n",
              "Promo2SinceWeek                 0.010853  -0.002736 -0.058493  -0.130864   \n",
              "Promo2SinceYear                 0.007760  -0.003249 -0.127581  -0.202180   \n",
              "StateHoliday_0                 -0.002048   0.010223  0.029933   0.006950   \n",
              "StateHoliday_a                  0.002692   0.000860  0.014152   0.036917   \n",
              "StateHoliday_b                  0.000315  -0.008676  0.012380   0.030188   \n",
              "StateHoliday_c                  0.000428   0.002702  0.008237   0.018434   \n",
              "StoreType_b                    -0.001061   0.038016  0.144685   0.430137   \n",
              "StoreType_c                     0.060835  -0.003181 -0.002891   0.051685   \n",
              "StoreType_d                    -0.050692  -0.004077 -0.028627  -0.259187   \n",
              "Assortment_b                    0.021376   0.027509  0.053841   0.322247   \n",
              "Assortment_c                    0.003605  -0.001496  0.103257  -0.024493   \n",
              "PromoInterval_Feb,May,Aug,Nov   0.007788  -0.002223 -0.061711  -0.088371   \n",
              "PromoInterval_Jan,Apr,Jul,Oct   0.011676  -0.001177 -0.046940  -0.104929   \n",
              "PromoInterval_Mar,Jun,Sept,Dec -0.013312  -0.001297 -0.077486  -0.086168   \n",
              "\n",
              "                                   Promo  SchoolHoliday      Year     Month  \\\n",
              "Store                          -0.000015       0.000526  0.000300  0.001371   \n",
              "DayOfWeek                      -0.289268      -0.139319  0.002099 -0.019710   \n",
              "Sales                           0.368199       0.038635  0.036151  0.073589   \n",
              "Customers                       0.182859       0.024915 -0.000842  0.053843   \n",
              "Promo                           1.000000       0.028971  0.023990 -0.006412   \n",
              "SchoolHoliday                   0.028971       1.000000 -0.038686  0.118467   \n",
              "Year                            0.023990      -0.038686  1.000000 -0.268835   \n",
              "Month                          -0.006412       0.118467 -0.268835  1.000000   \n",
              "Day                            -0.126442       0.038085  0.008387 -0.006577   \n",
              "Week                            0.065995      -0.021958  0.009977  0.003168   \n",
              "WeekOfYear                      0.006947       0.079584 -0.254433  0.960999   \n",
              "CompetitionDistance            -0.002392      -0.004256  0.000632  0.003882   \n",
              "CompetitionOpenSinceMonth      -0.000396      -0.000386 -0.000574 -0.000894   \n",
              "CompetitionOpenSinceYear       -0.000521       0.000385  0.000839  0.003586   \n",
              "Promo2                         -0.000316      -0.008244 -0.005696 -0.025807   \n",
              "Promo2SinceWeek                -0.000795      -0.008069 -0.006905 -0.031721   \n",
              "Promo2SinceYear                -0.000317      -0.008247 -0.005697 -0.025812   \n",
              "StateHoliday_0                  0.004041      -0.067872 -0.084545  0.084682   \n",
              "StateHoliday_a                  0.006337      -0.003174  0.002586 -0.000484   \n",
              "StateHoliday_b                 -0.002677       0.025377  0.003066 -0.007713   \n",
              "StateHoliday_c                 -0.008234       0.018717 -0.003999  0.016979   \n",
              "StoreType_b                    -0.017843      -0.002988  0.003217  0.004988   \n",
              "StoreType_c                     0.002163       0.002764  0.001203  0.006066   \n",
              "StoreType_d                     0.000989      -0.003301 -0.002376 -0.011006   \n",
              "Assortment_b                   -0.012921      -0.002782  0.001360  0.002143   \n",
              "Assortment_c                    0.000939      -0.002429  0.001892  0.008106   \n",
              "PromoInterval_Feb,May,Aug,Nov   0.000714      -0.001668 -0.000552 -0.000263   \n",
              "PromoInterval_Jan,Apr,Jul,Oct  -0.001239      -0.006087 -0.006426 -0.030130   \n",
              "PromoInterval_Mar,Jun,Sept,Dec  0.000591      -0.002838  0.000802  0.002762   \n",
              "\n",
              "                                     Day      Week  ...  StateHoliday_b  \\\n",
              "Store                          -0.000127  0.000014  ...        0.000315   \n",
              "DayOfWeek                       0.008525  0.001695  ...       -0.008676   \n",
              "Sales                          -0.051865  0.029450  ...        0.012380   \n",
              "Customers                      -0.035416  0.012658  ...        0.030188   \n",
              "Promo                          -0.126442  0.065995  ...       -0.002677   \n",
              "SchoolHoliday                   0.038085 -0.021958  ...        0.025377   \n",
              "Year                            0.008387  0.009977  ...        0.003066   \n",
              "Month                          -0.006577  0.003168  ...       -0.007713   \n",
              "Day                             1.000000 -0.086253  ...       -0.006039   \n",
              "Week                           -0.086253  1.000000  ...        0.001546   \n",
              "WeekOfYear                      0.043696  0.005680  ...       -0.007869   \n",
              "CompetitionDistance            -0.000227  0.000055  ...        0.005839   \n",
              "CompetitionOpenSinceMonth       0.000177  0.000086  ...        0.001221   \n",
              "CompetitionOpenSinceYear       -0.000128 -0.000167  ...        0.002059   \n",
              "Promo2                          0.001355  0.000458  ...       -0.005479   \n",
              "Promo2SinceWeek                 0.001450  0.000548  ...       -0.005110   \n",
              "Promo2SinceYear                 0.001356  0.000458  ...       -0.005474   \n",
              "StateHoliday_0                 -0.007179  0.000189  ...       -0.033336   \n",
              "StateHoliday_a                 -0.009771 -0.003018  ...       -0.000376   \n",
              "StateHoliday_b                 -0.006039  0.001546  ...        1.000000   \n",
              "StateHoliday_c                  0.010244 -0.012533  ...       -0.000120   \n",
              "StoreType_b                    -0.001828 -0.002038  ...        0.065407   \n",
              "StoreType_c                    -0.000250 -0.000054  ...       -0.005151   \n",
              "StoreType_d                     0.000578  0.000148  ...       -0.006948   \n",
              "Assortment_b                   -0.001290 -0.001534  ...        0.048443   \n",
              "Assortment_c                    0.000249 -0.000042  ...       -0.003478   \n",
              "PromoInterval_Feb,May,Aug,Nov   0.000533  0.000229  ...       -0.003056   \n",
              "PromoInterval_Jan,Apr,Jul,Oct   0.000986  0.000387  ...       -0.002922   \n",
              "PromoInterval_Mar,Jun,Sept,Dec  0.000206 -0.000066  ...       -0.001492   \n",
              "\n",
              "                                StateHoliday_c  StoreType_b  StoreType_c  \\\n",
              "Store                                 0.000428    -0.001061     0.060835   \n",
              "DayOfWeek                             0.002702     0.038016    -0.003181   \n",
              "Sales                                 0.008237     0.144685    -0.002891   \n",
              "Customers                             0.018434     0.430137     0.051685   \n",
              "Promo                                -0.008234    -0.017843     0.002163   \n",
              "SchoolHoliday                         0.018717    -0.002988     0.002764   \n",
              "Year                                 -0.003999     0.003217     0.001203   \n",
              "Month                                 0.016979     0.004988     0.006066   \n",
              "Day                                   0.010244    -0.001828    -0.000250   \n",
              "Week                                 -0.012533    -0.002038    -0.000054   \n",
              "WeekOfYear                            0.018069     0.004560     0.005831   \n",
              "CompetitionDistance                  -0.003985    -0.076887    -0.097530   \n",
              "CompetitionOpenSinceMonth            -0.000375     0.000515    -0.028606   \n",
              "CompetitionOpenSinceYear              0.000468     0.004608    -0.022904   \n",
              "Promo2                               -0.003980    -0.057561    -0.000861   \n",
              "Promo2SinceWeek                      -0.003150    -0.045993    -0.023872   \n",
              "Promo2SinceYear                      -0.003977    -0.057520    -0.000903   \n",
              "StateHoliday_0                       -0.023326    -0.012724    -0.003026   \n",
              "StateHoliday_a                       -0.000263     0.083645    -0.003381   \n",
              "StateHoliday_b                       -0.000120     0.065407    -0.005151   \n",
              "StateHoliday_c                        1.000000     0.062126    -0.003604   \n",
              "StoreType_b                           0.062126     1.000000    -0.053851   \n",
              "StoreType_c                          -0.003604    -0.053851     1.000000   \n",
              "StoreType_d                          -0.005816    -0.091086    -0.261261   \n",
              "Assortment_b                          0.043847     0.723141    -0.038942   \n",
              "Assortment_c                         -0.006191    -0.110693     0.014416   \n",
              "PromoInterval_Feb,May,Aug,Nov        -0.001710    -0.024083    -0.010499   \n",
              "PromoInterval_Jan,Apr,Jul,Oct        -0.001822    -0.032137    -0.034939   \n",
              "PromoInterval_Mar,Jun,Sept,Dec       -0.002101    -0.022208     0.063753   \n",
              "\n",
              "                                StoreType_d  Assortment_b  Assortment_c  \\\n",
              "Store                             -0.050692      0.021376      0.003605   \n",
              "DayOfWeek                         -0.004077      0.027509     -0.001496   \n",
              "Sales                             -0.028627      0.053841      0.103257   \n",
              "Customers                         -0.259187      0.322247     -0.024493   \n",
              "Promo                              0.000989     -0.012921      0.000939   \n",
              "SchoolHoliday                     -0.003301     -0.002782     -0.002429   \n",
              "Year                              -0.002376      0.001360      0.001892   \n",
              "Month                             -0.011006      0.002143      0.008106   \n",
              "Day                                0.000578     -0.001290      0.000249   \n",
              "Week                               0.000148     -0.001534     -0.000042   \n",
              "WeekOfYear                        -0.010526      0.001876      0.007857   \n",
              "CompetitionDistance                0.128634     -0.054116      0.154808   \n",
              "CompetitionOpenSinceMonth          0.053797      0.022720      0.034742   \n",
              "CompetitionOpenSinceYear           0.053229     -0.009194      0.093505   \n",
              "Promo2                             0.094112     -0.013147      0.009735   \n",
              "Promo2SinceWeek                    0.075780     -0.018854     -0.028134   \n",
              "Promo2SinceYear                    0.094073     -0.013105      0.009778   \n",
              "StateHoliday_0                     0.008041     -0.008971     -0.004405   \n",
              "StateHoliday_a                    -0.009385      0.069602     -0.007259   \n",
              "StateHoliday_b                    -0.006948      0.048443     -0.003478   \n",
              "StateHoliday_c                    -0.005816      0.043847     -0.006191   \n",
              "StoreType_b                       -0.091086      0.723141     -0.110693   \n",
              "StoreType_c                       -0.261261     -0.038942      0.014416   \n",
              "StoreType_d                        1.000000     -0.065868      0.231697   \n",
              "Assortment_b                      -0.065868      1.000000     -0.092076   \n",
              "Assortment_c                       0.231697     -0.092076      1.000000   \n",
              "PromoInterval_Feb,May,Aug,Nov      0.041530     -0.000858     -0.031736   \n",
              "PromoInterval_Jan,Apr,Jul,Oct      0.054857     -0.012878     -0.020109   \n",
              "PromoInterval_Mar,Jun,Sept,Dec     0.030402     -0.001607      0.082093   \n",
              "\n",
              "                                PromoInterval_Feb,May,Aug,Nov  \\\n",
              "Store                                                0.007788   \n",
              "DayOfWeek                                           -0.002223   \n",
              "Sales                                               -0.061711   \n",
              "Customers                                           -0.088371   \n",
              "Promo                                                0.000714   \n",
              "SchoolHoliday                                       -0.001668   \n",
              "Year                                                -0.000552   \n",
              "Month                                               -0.000263   \n",
              "Day                                                  0.000533   \n",
              "Week                                                 0.000229   \n",
              "WeekOfYear                                          -0.000214   \n",
              "CompetitionDistance                                 -0.051810   \n",
              "CompetitionOpenSinceMonth                            0.074978   \n",
              "CompetitionOpenSinceYear                             0.031659   \n",
              "Promo2                                               0.363325   \n",
              "Promo2SinceWeek                                      0.294180   \n",
              "Promo2SinceYear                                      0.363253   \n",
              "StateHoliday_0                                       0.000574   \n",
              "StateHoliday_a                                      -0.006135   \n",
              "StateHoliday_b                                      -0.003056   \n",
              "StateHoliday_c                                      -0.001710   \n",
              "StoreType_b                                         -0.024083   \n",
              "StoreType_c                                         -0.010499   \n",
              "StoreType_d                                          0.041530   \n",
              "Assortment_b                                        -0.000858   \n",
              "Assortment_c                                        -0.031736   \n",
              "PromoInterval_Feb,May,Aug,Nov                        1.000000   \n",
              "PromoInterval_Jan,Apr,Jul,Oct                       -0.229947   \n",
              "PromoInterval_Mar,Jun,Sept,Dec                      -0.117757   \n",
              "\n",
              "                                PromoInterval_Jan,Apr,Jul,Oct  \\\n",
              "Store                                                0.011676   \n",
              "DayOfWeek                                           -0.001177   \n",
              "Sales                                               -0.046940   \n",
              "Customers                                           -0.104929   \n",
              "Promo                                               -0.001239   \n",
              "SchoolHoliday                                       -0.006087   \n",
              "Year                                                -0.006426   \n",
              "Month                                               -0.030130   \n",
              "Day                                                  0.000986   \n",
              "Week                                                 0.000387   \n",
              "WeekOfYear                                          -0.028929   \n",
              "CompetitionDistance                                 -0.083491   \n",
              "CompetitionOpenSinceMonth                           -0.070769   \n",
              "CompetitionOpenSinceYear                            -0.058811   \n",
              "Promo2                                               0.636271   \n",
              "Promo2SinceWeek                                      0.476236   \n",
              "Promo2SinceYear                                      0.636220   \n",
              "StateHoliday_0                                       0.020591   \n",
              "StateHoliday_a                                      -0.002671   \n",
              "StateHoliday_b                                      -0.002922   \n",
              "StateHoliday_c                                      -0.001822   \n",
              "StoreType_b                                         -0.032137   \n",
              "StoreType_c                                         -0.034939   \n",
              "StoreType_d                                          0.054857   \n",
              "Assortment_b                                        -0.012878   \n",
              "Assortment_c                                        -0.020109   \n",
              "PromoInterval_Feb,May,Aug,Nov                       -0.229947   \n",
              "PromoInterval_Jan,Apr,Jul,Oct                        1.000000   \n",
              "PromoInterval_Mar,Jun,Sept,Dec                      -0.206221   \n",
              "\n",
              "                                PromoInterval_Mar,Jun,Sept,Dec  \n",
              "Store                                                -0.013312  \n",
              "DayOfWeek                                            -0.001297  \n",
              "Sales                                                -0.077486  \n",
              "Customers                                            -0.086168  \n",
              "Promo                                                 0.000591  \n",
              "SchoolHoliday                                        -0.002838  \n",
              "Year                                                  0.000802  \n",
              "Month                                                 0.002762  \n",
              "Day                                                   0.000206  \n",
              "Week                                                 -0.000066  \n",
              "WeekOfYear                                            0.002676  \n",
              "CompetitionDistance                                  -0.055429  \n",
              "CompetitionOpenSinceMonth                             0.062801  \n",
              "CompetitionOpenSinceYear                              0.018595  \n",
              "Promo2                                                0.325839  \n",
              "Promo2SinceWeek                                       0.238458  \n",
              "Promo2SinceYear                                       0.325994  \n",
              "StateHoliday_0                                       -0.001496  \n",
              "StateHoliday_a                                       -0.002853  \n",
              "StateHoliday_b                                       -0.001492  \n",
              "StateHoliday_c                                       -0.002101  \n",
              "StoreType_b                                          -0.022208  \n",
              "StoreType_c                                           0.063753  \n",
              "StoreType_d                                           0.030402  \n",
              "Assortment_b                                         -0.001607  \n",
              "Assortment_c                                          0.082093  \n",
              "PromoInterval_Feb,May,Aug,Nov                        -0.117757  \n",
              "PromoInterval_Jan,Apr,Jul,Oct                        -0.206221  \n",
              "PromoInterval_Mar,Jun,Sept,Dec                        1.000000  \n",
              "\n",
              "[29 rows x 29 columns]"
            ],
            "text/html": [
              "\n",
              "  <div id=\"df-f996da5c-5a5f-4621-9549-3584aa8a4473\">\n",
              "    <div class=\"colab-df-container\">\n",
              "      <div>\n",
              "<style scoped>\n",
              "    .dataframe tbody tr th:only-of-type {\n",
              "        vertical-align: middle;\n",
              "    }\n",
              "\n",
              "    .dataframe tbody tr th {\n",
              "        vertical-align: top;\n",
              "    }\n",
              "\n",
              "    .dataframe thead th {\n",
              "        text-align: right;\n",
              "    }\n",
              "</style>\n",
              "<table border=\"1\" class=\"dataframe\">\n",
              "  <thead>\n",
              "    <tr style=\"text-align: right;\">\n",
              "      <th></th>\n",
              "      <th>Store</th>\n",
              "      <th>DayOfWeek</th>\n",
              "      <th>Sales</th>\n",
              "      <th>Customers</th>\n",
              "      <th>Promo</th>\n",
              "      <th>SchoolHoliday</th>\n",
              "      <th>Year</th>\n",
              "      <th>Month</th>\n",
              "      <th>Day</th>\n",
              "      <th>Week</th>\n",
              "      <th>...</th>\n",
              "      <th>StateHoliday_b</th>\n",
              "      <th>StateHoliday_c</th>\n",
              "      <th>StoreType_b</th>\n",
              "      <th>StoreType_c</th>\n",
              "      <th>StoreType_d</th>\n",
              "      <th>Assortment_b</th>\n",
              "      <th>Assortment_c</th>\n",
              "      <th>PromoInterval_Feb,May,Aug,Nov</th>\n",
              "      <th>PromoInterval_Jan,Apr,Jul,Oct</th>\n",
              "      <th>PromoInterval_Mar,Jun,Sept,Dec</th>\n",
              "    </tr>\n",
              "  </thead>\n",
              "  <tbody>\n",
              "    <tr>\n",
              "      <th>Store</th>\n",
              "      <td>1.000000</td>\n",
              "      <td>0.000343</td>\n",
              "      <td>0.007723</td>\n",
              "      <td>0.033991</td>\n",
              "      <td>-0.000015</td>\n",
              "      <td>0.000526</td>\n",
              "      <td>0.000300</td>\n",
              "      <td>0.001371</td>\n",
              "      <td>-0.000127</td>\n",
              "      <td>0.000014</td>\n",
              "      <td>...</td>\n",
              "      <td>0.000315</td>\n",
              "      <td>0.000428</td>\n",
              "      <td>-0.001061</td>\n",
              "      <td>0.060835</td>\n",
              "      <td>-0.050692</td>\n",
              "      <td>0.021376</td>\n",
              "      <td>0.003605</td>\n",
              "      <td>0.007788</td>\n",
              "      <td>0.011676</td>\n",
              "      <td>-0.013312</td>\n",
              "    </tr>\n",
              "    <tr>\n",
              "      <th>DayOfWeek</th>\n",
              "      <td>0.000343</td>\n",
              "      <td>1.000000</td>\n",
              "      <td>-0.178753</td>\n",
              "      <td>-0.097266</td>\n",
              "      <td>-0.289268</td>\n",
              "      <td>-0.139319</td>\n",
              "      <td>0.002099</td>\n",
              "      <td>-0.019710</td>\n",
              "      <td>0.008525</td>\n",
              "      <td>0.001695</td>\n",
              "      <td>...</td>\n",
              "      <td>-0.008676</td>\n",
              "      <td>0.002702</td>\n",
              "      <td>0.038016</td>\n",
              "      <td>-0.003181</td>\n",
              "      <td>-0.004077</td>\n",
              "      <td>0.027509</td>\n",
              "      <td>-0.001496</td>\n",
              "      <td>-0.002223</td>\n",
              "      <td>-0.001177</td>\n",
              "      <td>-0.001297</td>\n",
              "    </tr>\n",
              "    <tr>\n",
              "      <th>Sales</th>\n",
              "      <td>0.007723</td>\n",
              "      <td>-0.178753</td>\n",
              "      <td>1.000000</td>\n",
              "      <td>0.823552</td>\n",
              "      <td>0.368199</td>\n",
              "      <td>0.038635</td>\n",
              "      <td>0.036151</td>\n",
              "      <td>0.073589</td>\n",
              "      <td>-0.051865</td>\n",
              "      <td>0.029450</td>\n",
              "      <td>...</td>\n",
              "      <td>0.012380</td>\n",
              "      <td>0.008237</td>\n",
              "      <td>0.144685</td>\n",
              "      <td>-0.002891</td>\n",
              "      <td>-0.028627</td>\n",
              "      <td>0.053841</td>\n",
              "      <td>0.103257</td>\n",
              "      <td>-0.061711</td>\n",
              "      <td>-0.046940</td>\n",
              "      <td>-0.077486</td>\n",
              "    </tr>\n",
              "    <tr>\n",
              "      <th>Customers</th>\n",
              "      <td>0.033991</td>\n",
              "      <td>-0.097266</td>\n",
              "      <td>0.823552</td>\n",
              "      <td>1.000000</td>\n",
              "      <td>0.182859</td>\n",
              "      <td>0.024915</td>\n",
              "      <td>-0.000842</td>\n",
              "      <td>0.053843</td>\n",
              "      <td>-0.035416</td>\n",
              "      <td>0.012658</td>\n",
              "      <td>...</td>\n",
              "      <td>0.030188</td>\n",
              "      <td>0.018434</td>\n",
              "      <td>0.430137</td>\n",
              "      <td>0.051685</td>\n",
              "      <td>-0.259187</td>\n",
              "      <td>0.322247</td>\n",
              "      <td>-0.024493</td>\n",
              "      <td>-0.088371</td>\n",
              "      <td>-0.104929</td>\n",
              "      <td>-0.086168</td>\n",
              "    </tr>\n",
              "    <tr>\n",
              "      <th>Promo</th>\n",
              "      <td>-0.000015</td>\n",
              "      <td>-0.289268</td>\n",
              "      <td>0.368199</td>\n",
              "      <td>0.182859</td>\n",
              "      <td>1.000000</td>\n",
              "      <td>0.028971</td>\n",
              "      <td>0.023990</td>\n",
              "      <td>-0.006412</td>\n",
              "      <td>-0.126442</td>\n",
              "      <td>0.065995</td>\n",
              "      <td>...</td>\n",
              "      <td>-0.002677</td>\n",
              "      <td>-0.008234</td>\n",
              "      <td>-0.017843</td>\n",
              "      <td>0.002163</td>\n",
              "      <td>0.000989</td>\n",
              "      <td>-0.012921</td>\n",
              "      <td>0.000939</td>\n",
              "      <td>0.000714</td>\n",
              "      <td>-0.001239</td>\n",
              "      <td>0.000591</td>\n",
              "    </tr>\n",
              "    <tr>\n",
              "      <th>SchoolHoliday</th>\n",
              "      <td>0.000526</td>\n",
              "      <td>-0.139319</td>\n",
              "      <td>0.038635</td>\n",
              "      <td>0.024915</td>\n",
              "      <td>0.028971</td>\n",
              "      <td>1.000000</td>\n",
              "      <td>-0.038686</td>\n",
              "      <td>0.118467</td>\n",
              "      <td>0.038085</td>\n",
              "      <td>-0.021958</td>\n",
              "      <td>...</td>\n",
              "      <td>0.025377</td>\n",
              "      <td>0.018717</td>\n",
              "      <td>-0.002988</td>\n",
              "      <td>0.002764</td>\n",
              "      <td>-0.003301</td>\n",
              "      <td>-0.002782</td>\n",
              "      <td>-0.002429</td>\n",
              "      <td>-0.001668</td>\n",
              "      <td>-0.006087</td>\n",
              "      <td>-0.002838</td>\n",
              "    </tr>\n",
              "    <tr>\n",
              "      <th>Year</th>\n",
              "      <td>0.000300</td>\n",
              "      <td>0.002099</td>\n",
              "      <td>0.036151</td>\n",
              "      <td>-0.000842</td>\n",
              "      <td>0.023990</td>\n",
              "      <td>-0.038686</td>\n",
              "      <td>1.000000</td>\n",
              "      <td>-0.268835</td>\n",
              "      <td>0.008387</td>\n",
              "      <td>0.009977</td>\n",
              "      <td>...</td>\n",
              "      <td>0.003066</td>\n",
              "      <td>-0.003999</td>\n",
              "      <td>0.003217</td>\n",
              "      <td>0.001203</td>\n",
              "      <td>-0.002376</td>\n",
              "      <td>0.001360</td>\n",
              "      <td>0.001892</td>\n",
              "      <td>-0.000552</td>\n",
              "      <td>-0.006426</td>\n",
              "      <td>0.000802</td>\n",
              "    </tr>\n",
              "    <tr>\n",
              "      <th>Month</th>\n",
              "      <td>0.001371</td>\n",
              "      <td>-0.019710</td>\n",
              "      <td>0.073589</td>\n",
              "      <td>0.053843</td>\n",
              "      <td>-0.006412</td>\n",
              "      <td>0.118467</td>\n",
              "      <td>-0.268835</td>\n",
              "      <td>1.000000</td>\n",
              "      <td>-0.006577</td>\n",
              "      <td>0.003168</td>\n",
              "      <td>...</td>\n",
              "      <td>-0.007713</td>\n",
              "      <td>0.016979</td>\n",
              "      <td>0.004988</td>\n",
              "      <td>0.006066</td>\n",
              "      <td>-0.011006</td>\n",
              "      <td>0.002143</td>\n",
              "      <td>0.008106</td>\n",
              "      <td>-0.000263</td>\n",
              "      <td>-0.030130</td>\n",
              "      <td>0.002762</td>\n",
              "    </tr>\n",
              "    <tr>\n",
              "      <th>Day</th>\n",
              "      <td>-0.000127</td>\n",
              "      <td>0.008525</td>\n",
              "      <td>-0.051865</td>\n",
              "      <td>-0.035416</td>\n",
              "      <td>-0.126442</td>\n",
              "      <td>0.038085</td>\n",
              "      <td>0.008387</td>\n",
              "      <td>-0.006577</td>\n",
              "      <td>1.000000</td>\n",
              "      <td>-0.086253</td>\n",
              "      <td>...</td>\n",
              "      <td>-0.006039</td>\n",
              "      <td>0.010244</td>\n",
              "      <td>-0.001828</td>\n",
              "      <td>-0.000250</td>\n",
              "      <td>0.000578</td>\n",
              "      <td>-0.001290</td>\n",
              "      <td>0.000249</td>\n",
              "      <td>0.000533</td>\n",
              "      <td>0.000986</td>\n",
              "      <td>0.000206</td>\n",
              "    </tr>\n",
              "    <tr>\n",
              "      <th>Week</th>\n",
              "      <td>0.000014</td>\n",
              "      <td>0.001695</td>\n",
              "      <td>0.029450</td>\n",
              "      <td>0.012658</td>\n",
              "      <td>0.065995</td>\n",
              "      <td>-0.021958</td>\n",
              "      <td>0.009977</td>\n",
              "      <td>0.003168</td>\n",
              "      <td>-0.086253</td>\n",
              "      <td>1.000000</td>\n",
              "      <td>...</td>\n",
              "      <td>0.001546</td>\n",
              "      <td>-0.012533</td>\n",
              "      <td>-0.002038</td>\n",
              "      <td>-0.000054</td>\n",
              "      <td>0.000148</td>\n",
              "      <td>-0.001534</td>\n",
              "      <td>-0.000042</td>\n",
              "      <td>0.000229</td>\n",
              "      <td>0.000387</td>\n",
              "      <td>-0.000066</td>\n",
              "    </tr>\n",
              "    <tr>\n",
              "      <th>WeekOfYear</th>\n",
              "      <td>0.001297</td>\n",
              "      <td>-0.014389</td>\n",
              "      <td>0.074463</td>\n",
              "      <td>0.053763</td>\n",
              "      <td>0.006947</td>\n",
              "      <td>0.079584</td>\n",
              "      <td>-0.254433</td>\n",
              "      <td>0.960999</td>\n",
              "      <td>0.043696</td>\n",
              "      <td>0.005680</td>\n",
              "      <td>...</td>\n",
              "      <td>-0.007869</td>\n",
              "      <td>0.018069</td>\n",
              "      <td>0.004560</td>\n",
              "      <td>0.005831</td>\n",
              "      <td>-0.010526</td>\n",
              "      <td>0.001876</td>\n",
              "      <td>0.007857</td>\n",
              "      <td>-0.000214</td>\n",
              "      <td>-0.028929</td>\n",
              "      <td>0.002676</td>\n",
              "    </tr>\n",
              "    <tr>\n",
              "      <th>CompetitionDistance</th>\n",
              "      <td>-0.027080</td>\n",
              "      <td>0.005540</td>\n",
              "      <td>-0.035908</td>\n",
              "      <td>-0.147859</td>\n",
              "      <td>-0.002392</td>\n",
              "      <td>-0.004256</td>\n",
              "      <td>0.000632</td>\n",
              "      <td>0.003882</td>\n",
              "      <td>-0.000227</td>\n",
              "      <td>0.000055</td>\n",
              "      <td>...</td>\n",
              "      <td>0.005839</td>\n",
              "      <td>-0.003985</td>\n",
              "      <td>-0.076887</td>\n",
              "      <td>-0.097530</td>\n",
              "      <td>0.128634</td>\n",
              "      <td>-0.054116</td>\n",
              "      <td>0.154808</td>\n",
              "      <td>-0.051810</td>\n",
              "      <td>-0.083491</td>\n",
              "      <td>-0.055429</td>\n",
              "    </tr>\n",
              "    <tr>\n",
              "      <th>CompetitionOpenSinceMonth</th>\n",
              "      <td>-0.037942</td>\n",
              "      <td>0.000696</td>\n",
              "      <td>-0.036166</td>\n",
              "      <td>-0.034841</td>\n",
              "      <td>-0.000396</td>\n",
              "      <td>-0.000386</td>\n",
              "      <td>-0.000574</td>\n",
              "      <td>-0.000894</td>\n",
              "      <td>0.000177</td>\n",
              "      <td>0.000086</td>\n",
              "      <td>...</td>\n",
              "      <td>0.001221</td>\n",
              "      <td>-0.000375</td>\n",
              "      <td>0.000515</td>\n",
              "      <td>-0.028606</td>\n",
              "      <td>0.053797</td>\n",
              "      <td>0.022720</td>\n",
              "      <td>0.034742</td>\n",
              "      <td>0.074978</td>\n",
              "      <td>-0.070769</td>\n",
              "      <td>0.062801</td>\n",
              "    </tr>\n",
              "    <tr>\n",
              "      <th>CompetitionOpenSinceYear</th>\n",
              "      <td>-0.000788</td>\n",
              "      <td>0.001459</td>\n",
              "      <td>0.010496</td>\n",
              "      <td>0.006942</td>\n",
              "      <td>-0.000521</td>\n",
              "      <td>0.000385</td>\n",
              "      <td>0.000839</td>\n",
              "      <td>0.003586</td>\n",
              "      <td>-0.000128</td>\n",
              "      <td>-0.000167</td>\n",
              "      <td>...</td>\n",
              "      <td>0.002059</td>\n",
              "      <td>0.000468</td>\n",
              "      <td>0.004608</td>\n",
              "      <td>-0.022904</td>\n",
              "      <td>0.053229</td>\n",
              "      <td>-0.009194</td>\n",
              "      <td>0.093505</td>\n",
              "      <td>0.031659</td>\n",
              "      <td>-0.058811</td>\n",
              "      <td>0.018595</td>\n",
              "    </tr>\n",
              "    <tr>\n",
              "      <th>Promo2</th>\n",
              "      <td>0.007728</td>\n",
              "      <td>-0.003252</td>\n",
              "      <td>-0.127556</td>\n",
              "      <td>-0.202207</td>\n",
              "      <td>-0.000316</td>\n",
              "      <td>-0.008244</td>\n",
              "      <td>-0.005696</td>\n",
              "      <td>-0.025807</td>\n",
              "      <td>0.001355</td>\n",
              "      <td>0.000458</td>\n",
              "      <td>...</td>\n",
              "      <td>-0.005479</td>\n",
              "      <td>-0.003980</td>\n",
              "      <td>-0.057561</td>\n",
              "      <td>-0.000861</td>\n",
              "      <td>0.094112</td>\n",
              "      <td>-0.013147</td>\n",
              "      <td>0.009735</td>\n",
              "      <td>0.363325</td>\n",
              "      <td>0.636271</td>\n",
              "      <td>0.325839</td>\n",
              "    </tr>\n",
              "    <tr>\n",
              "      <th>Promo2SinceWeek</th>\n",
              "      <td>0.010853</td>\n",
              "      <td>-0.002736</td>\n",
              "      <td>-0.058493</td>\n",
              "      <td>-0.130864</td>\n",
              "      <td>-0.000795</td>\n",
              "      <td>-0.008069</td>\n",
              "      <td>-0.006905</td>\n",
              "      <td>-0.031721</td>\n",
              "      <td>0.001450</td>\n",
              "      <td>0.000548</td>\n",
              "      <td>...</td>\n",
              "      <td>-0.005110</td>\n",
              "      <td>-0.003150</td>\n",
              "      <td>-0.045993</td>\n",
              "      <td>-0.023872</td>\n",
              "      <td>0.075780</td>\n",
              "      <td>-0.018854</td>\n",
              "      <td>-0.028134</td>\n",
              "      <td>0.294180</td>\n",
              "      <td>0.476236</td>\n",
              "      <td>0.238458</td>\n",
              "    </tr>\n",
              "    <tr>\n",
              "      <th>Promo2SinceYear</th>\n",
              "      <td>0.007760</td>\n",
              "      <td>-0.003249</td>\n",
              "      <td>-0.127581</td>\n",
              "      <td>-0.202180</td>\n",
              "      <td>-0.000317</td>\n",
              "      <td>-0.008247</td>\n",
              "      <td>-0.005697</td>\n",
              "      <td>-0.025812</td>\n",
              "      <td>0.001356</td>\n",
              "      <td>0.000458</td>\n",
              "      <td>...</td>\n",
              "      <td>-0.005474</td>\n",
              "      <td>-0.003977</td>\n",
              "      <td>-0.057520</td>\n",
              "      <td>-0.000903</td>\n",
              "      <td>0.094073</td>\n",
              "      <td>-0.013105</td>\n",
              "      <td>0.009778</td>\n",
              "      <td>0.363253</td>\n",
              "      <td>0.636220</td>\n",
              "      <td>0.325994</td>\n",
              "    </tr>\n",
              "    <tr>\n",
              "      <th>StateHoliday_0</th>\n",
              "      <td>-0.002048</td>\n",
              "      <td>0.010223</td>\n",
              "      <td>0.029933</td>\n",
              "      <td>0.006950</td>\n",
              "      <td>0.004041</td>\n",
              "      <td>-0.067872</td>\n",
              "      <td>-0.084545</td>\n",
              "      <td>0.084682</td>\n",
              "      <td>-0.007179</td>\n",
              "      <td>0.000189</td>\n",
              "      <td>...</td>\n",
              "      <td>-0.033336</td>\n",
              "      <td>-0.023326</td>\n",
              "      <td>-0.012724</td>\n",
              "      <td>-0.003026</td>\n",
              "      <td>0.008041</td>\n",
              "      <td>-0.008971</td>\n",
              "      <td>-0.004405</td>\n",
              "      <td>0.000574</td>\n",
              "      <td>0.020591</td>\n",
              "      <td>-0.001496</td>\n",
              "    </tr>\n",
              "    <tr>\n",
              "      <th>StateHoliday_a</th>\n",
              "      <td>0.002692</td>\n",
              "      <td>0.000860</td>\n",
              "      <td>0.014152</td>\n",
              "      <td>0.036917</td>\n",
              "      <td>0.006337</td>\n",
              "      <td>-0.003174</td>\n",
              "      <td>0.002586</td>\n",
              "      <td>-0.000484</td>\n",
              "      <td>-0.009771</td>\n",
              "      <td>-0.003018</td>\n",
              "      <td>...</td>\n",
              "      <td>-0.000376</td>\n",
              "      <td>-0.000263</td>\n",
              "      <td>0.083645</td>\n",
              "      <td>-0.003381</td>\n",
              "      <td>-0.009385</td>\n",
              "      <td>0.069602</td>\n",
              "      <td>-0.007259</td>\n",
              "      <td>-0.006135</td>\n",
              "      <td>-0.002671</td>\n",
              "      <td>-0.002853</td>\n",
              "    </tr>\n",
              "    <tr>\n",
              "      <th>StateHoliday_b</th>\n",
              "      <td>0.000315</td>\n",
              "      <td>-0.008676</td>\n",
              "      <td>0.012380</td>\n",
              "      <td>0.030188</td>\n",
              "      <td>-0.002677</td>\n",
              "      <td>0.025377</td>\n",
              "      <td>0.003066</td>\n",
              "      <td>-0.007713</td>\n",
              "      <td>-0.006039</td>\n",
              "      <td>0.001546</td>\n",
              "      <td>...</td>\n",
              "      <td>1.000000</td>\n",
              "      <td>-0.000120</td>\n",
              "      <td>0.065407</td>\n",
              "      <td>-0.005151</td>\n",
              "      <td>-0.006948</td>\n",
              "      <td>0.048443</td>\n",
              "      <td>-0.003478</td>\n",
              "      <td>-0.003056</td>\n",
              "      <td>-0.002922</td>\n",
              "      <td>-0.001492</td>\n",
              "    </tr>\n",
              "    <tr>\n",
              "      <th>StateHoliday_c</th>\n",
              "      <td>0.000428</td>\n",
              "      <td>0.002702</td>\n",
              "      <td>0.008237</td>\n",
              "      <td>0.018434</td>\n",
              "      <td>-0.008234</td>\n",
              "      <td>0.018717</td>\n",
              "      <td>-0.003999</td>\n",
              "      <td>0.016979</td>\n",
              "      <td>0.010244</td>\n",
              "      <td>-0.012533</td>\n",
              "      <td>...</td>\n",
              "      <td>-0.000120</td>\n",
              "      <td>1.000000</td>\n",
              "      <td>0.062126</td>\n",
              "      <td>-0.003604</td>\n",
              "      <td>-0.005816</td>\n",
              "      <td>0.043847</td>\n",
              "      <td>-0.006191</td>\n",
              "      <td>-0.001710</td>\n",
              "      <td>-0.001822</td>\n",
              "      <td>-0.002101</td>\n",
              "    </tr>\n",
              "    <tr>\n",
              "      <th>StoreType_b</th>\n",
              "      <td>-0.001061</td>\n",
              "      <td>0.038016</td>\n",
              "      <td>0.144685</td>\n",
              "      <td>0.430137</td>\n",
              "      <td>-0.017843</td>\n",
              "      <td>-0.002988</td>\n",
              "      <td>0.003217</td>\n",
              "      <td>0.004988</td>\n",
              "      <td>-0.001828</td>\n",
              "      <td>-0.002038</td>\n",
              "      <td>...</td>\n",
              "      <td>0.065407</td>\n",
              "      <td>0.062126</td>\n",
              "      <td>1.000000</td>\n",
              "      <td>-0.053851</td>\n",
              "      <td>-0.091086</td>\n",
              "      <td>0.723141</td>\n",
              "      <td>-0.110693</td>\n",
              "      <td>-0.024083</td>\n",
              "      <td>-0.032137</td>\n",
              "      <td>-0.022208</td>\n",
              "    </tr>\n",
              "    <tr>\n",
              "      <th>StoreType_c</th>\n",
              "      <td>0.060835</td>\n",
              "      <td>-0.003181</td>\n",
              "      <td>-0.002891</td>\n",
              "      <td>0.051685</td>\n",
              "      <td>0.002163</td>\n",
              "      <td>0.002764</td>\n",
              "      <td>0.001203</td>\n",
              "      <td>0.006066</td>\n",
              "      <td>-0.000250</td>\n",
              "      <td>-0.000054</td>\n",
              "      <td>...</td>\n",
              "      <td>-0.005151</td>\n",
              "      <td>-0.003604</td>\n",
              "      <td>-0.053851</td>\n",
              "      <td>1.000000</td>\n",
              "      <td>-0.261261</td>\n",
              "      <td>-0.038942</td>\n",
              "      <td>0.014416</td>\n",
              "      <td>-0.010499</td>\n",
              "      <td>-0.034939</td>\n",
              "      <td>0.063753</td>\n",
              "    </tr>\n",
              "    <tr>\n",
              "      <th>StoreType_d</th>\n",
              "      <td>-0.050692</td>\n",
              "      <td>-0.004077</td>\n",
              "      <td>-0.028627</td>\n",
              "      <td>-0.259187</td>\n",
              "      <td>0.000989</td>\n",
              "      <td>-0.003301</td>\n",
              "      <td>-0.002376</td>\n",
              "      <td>-0.011006</td>\n",
              "      <td>0.000578</td>\n",
              "      <td>0.000148</td>\n",
              "      <td>...</td>\n",
              "      <td>-0.006948</td>\n",
              "      <td>-0.005816</td>\n",
              "      <td>-0.091086</td>\n",
              "      <td>-0.261261</td>\n",
              "      <td>1.000000</td>\n",
              "      <td>-0.065868</td>\n",
              "      <td>0.231697</td>\n",
              "      <td>0.041530</td>\n",
              "      <td>0.054857</td>\n",
              "      <td>0.030402</td>\n",
              "    </tr>\n",
              "    <tr>\n",
              "      <th>Assortment_b</th>\n",
              "      <td>0.021376</td>\n",
              "      <td>0.027509</td>\n",
              "      <td>0.053841</td>\n",
              "      <td>0.322247</td>\n",
              "      <td>-0.012921</td>\n",
              "      <td>-0.002782</td>\n",
              "      <td>0.001360</td>\n",
              "      <td>0.002143</td>\n",
              "      <td>-0.001290</td>\n",
              "      <td>-0.001534</td>\n",
              "      <td>...</td>\n",
              "      <td>0.048443</td>\n",
              "      <td>0.043847</td>\n",
              "      <td>0.723141</td>\n",
              "      <td>-0.038942</td>\n",
              "      <td>-0.065868</td>\n",
              "      <td>1.000000</td>\n",
              "      <td>-0.092076</td>\n",
              "      <td>-0.000858</td>\n",
              "      <td>-0.012878</td>\n",
              "      <td>-0.001607</td>\n",
              "    </tr>\n",
              "    <tr>\n",
              "      <th>Assortment_c</th>\n",
              "      <td>0.003605</td>\n",
              "      <td>-0.001496</td>\n",
              "      <td>0.103257</td>\n",
              "      <td>-0.024493</td>\n",
              "      <td>0.000939</td>\n",
              "      <td>-0.002429</td>\n",
              "      <td>0.001892</td>\n",
              "      <td>0.008106</td>\n",
              "      <td>0.000249</td>\n",
              "      <td>-0.000042</td>\n",
              "      <td>...</td>\n",
              "      <td>-0.003478</td>\n",
              "      <td>-0.006191</td>\n",
              "      <td>-0.110693</td>\n",
              "      <td>0.014416</td>\n",
              "      <td>0.231697</td>\n",
              "      <td>-0.092076</td>\n",
              "      <td>1.000000</td>\n",
              "      <td>-0.031736</td>\n",
              "      <td>-0.020109</td>\n",
              "      <td>0.082093</td>\n",
              "    </tr>\n",
              "    <tr>\n",
              "      <th>PromoInterval_Feb,May,Aug,Nov</th>\n",
              "      <td>0.007788</td>\n",
              "      <td>-0.002223</td>\n",
              "      <td>-0.061711</td>\n",
              "      <td>-0.088371</td>\n",
              "      <td>0.000714</td>\n",
              "      <td>-0.001668</td>\n",
              "      <td>-0.000552</td>\n",
              "      <td>-0.000263</td>\n",
              "      <td>0.000533</td>\n",
              "      <td>0.000229</td>\n",
              "      <td>...</td>\n",
              "      <td>-0.003056</td>\n",
              "      <td>-0.001710</td>\n",
              "      <td>-0.024083</td>\n",
              "      <td>-0.010499</td>\n",
              "      <td>0.041530</td>\n",
              "      <td>-0.000858</td>\n",
              "      <td>-0.031736</td>\n",
              "      <td>1.000000</td>\n",
              "      <td>-0.229947</td>\n",
              "      <td>-0.117757</td>\n",
              "    </tr>\n",
              "    <tr>\n",
              "      <th>PromoInterval_Jan,Apr,Jul,Oct</th>\n",
              "      <td>0.011676</td>\n",
              "      <td>-0.001177</td>\n",
              "      <td>-0.046940</td>\n",
              "      <td>-0.104929</td>\n",
              "      <td>-0.001239</td>\n",
              "      <td>-0.006087</td>\n",
              "      <td>-0.006426</td>\n",
              "      <td>-0.030130</td>\n",
              "      <td>0.000986</td>\n",
              "      <td>0.000387</td>\n",
              "      <td>...</td>\n",
              "      <td>-0.002922</td>\n",
              "      <td>-0.001822</td>\n",
              "      <td>-0.032137</td>\n",
              "      <td>-0.034939</td>\n",
              "      <td>0.054857</td>\n",
              "      <td>-0.012878</td>\n",
              "      <td>-0.020109</td>\n",
              "      <td>-0.229947</td>\n",
              "      <td>1.000000</td>\n",
              "      <td>-0.206221</td>\n",
              "    </tr>\n",
              "    <tr>\n",
              "      <th>PromoInterval_Mar,Jun,Sept,Dec</th>\n",
              "      <td>-0.013312</td>\n",
              "      <td>-0.001297</td>\n",
              "      <td>-0.077486</td>\n",
              "      <td>-0.086168</td>\n",
              "      <td>0.000591</td>\n",
              "      <td>-0.002838</td>\n",
              "      <td>0.000802</td>\n",
              "      <td>0.002762</td>\n",
              "      <td>0.000206</td>\n",
              "      <td>-0.000066</td>\n",
              "      <td>...</td>\n",
              "      <td>-0.001492</td>\n",
              "      <td>-0.002101</td>\n",
              "      <td>-0.022208</td>\n",
              "      <td>0.063753</td>\n",
              "      <td>0.030402</td>\n",
              "      <td>-0.001607</td>\n",
              "      <td>0.082093</td>\n",
              "      <td>-0.117757</td>\n",
              "      <td>-0.206221</td>\n",
              "      <td>1.000000</td>\n",
              "    </tr>\n",
              "  </tbody>\n",
              "</table>\n",
              "<p>29 rows × 29 columns</p>\n",
              "</div>\n",
              "      <button class=\"colab-df-convert\" onclick=\"convertToInteractive('df-f996da5c-5a5f-4621-9549-3584aa8a4473')\"\n",
              "              title=\"Convert this dataframe to an interactive table.\"\n",
              "              style=\"display:none;\">\n",
              "        \n",
              "  <svg xmlns=\"http://www.w3.org/2000/svg\" height=\"24px\"viewBox=\"0 0 24 24\"\n",
              "       width=\"24px\">\n",
              "    <path d=\"M0 0h24v24H0V0z\" fill=\"none\"/>\n",
              "    <path d=\"M18.56 5.44l.94 2.06.94-2.06 2.06-.94-2.06-.94-.94-2.06-.94 2.06-2.06.94zm-11 1L8.5 8.5l.94-2.06 2.06-.94-2.06-.94L8.5 2.5l-.94 2.06-2.06.94zm10 10l.94 2.06.94-2.06 2.06-.94-2.06-.94-.94-2.06-.94 2.06-2.06.94z\"/><path d=\"M17.41 7.96l-1.37-1.37c-.4-.4-.92-.59-1.43-.59-.52 0-1.04.2-1.43.59L10.3 9.45l-7.72 7.72c-.78.78-.78 2.05 0 2.83L4 21.41c.39.39.9.59 1.41.59.51 0 1.02-.2 1.41-.59l7.78-7.78 2.81-2.81c.8-.78.8-2.07 0-2.86zM5.41 20L4 18.59l7.72-7.72 1.47 1.35L5.41 20z\"/>\n",
              "  </svg>\n",
              "      </button>\n",
              "      \n",
              "  <style>\n",
              "    .colab-df-container {\n",
              "      display:flex;\n",
              "      flex-wrap:wrap;\n",
              "      gap: 12px;\n",
              "    }\n",
              "\n",
              "    .colab-df-convert {\n",
              "      background-color: #E8F0FE;\n",
              "      border: none;\n",
              "      border-radius: 50%;\n",
              "      cursor: pointer;\n",
              "      display: none;\n",
              "      fill: #1967D2;\n",
              "      height: 32px;\n",
              "      padding: 0 0 0 0;\n",
              "      width: 32px;\n",
              "    }\n",
              "\n",
              "    .colab-df-convert:hover {\n",
              "      background-color: #E2EBFA;\n",
              "      box-shadow: 0px 1px 2px rgba(60, 64, 67, 0.3), 0px 1px 3px 1px rgba(60, 64, 67, 0.15);\n",
              "      fill: #174EA6;\n",
              "    }\n",
              "\n",
              "    [theme=dark] .colab-df-convert {\n",
              "      background-color: #3B4455;\n",
              "      fill: #D2E3FC;\n",
              "    }\n",
              "\n",
              "    [theme=dark] .colab-df-convert:hover {\n",
              "      background-color: #434B5C;\n",
              "      box-shadow: 0px 1px 3px 1px rgba(0, 0, 0, 0.15);\n",
              "      filter: drop-shadow(0px 1px 2px rgba(0, 0, 0, 0.3));\n",
              "      fill: #FFFFFF;\n",
              "    }\n",
              "  </style>\n",
              "\n",
              "      <script>\n",
              "        const buttonEl =\n",
              "          document.querySelector('#df-f996da5c-5a5f-4621-9549-3584aa8a4473 button.colab-df-convert');\n",
              "        buttonEl.style.display =\n",
              "          google.colab.kernel.accessAllowed ? 'block' : 'none';\n",
              "\n",
              "        async function convertToInteractive(key) {\n",
              "          const element = document.querySelector('#df-f996da5c-5a5f-4621-9549-3584aa8a4473');\n",
              "          const dataTable =\n",
              "            await google.colab.kernel.invokeFunction('convertToInteractive',\n",
              "                                                     [key], {});\n",
              "          if (!dataTable) return;\n",
              "\n",
              "          const docLinkHtml = 'Like what you see? Visit the ' +\n",
              "            '<a target=\"_blank\" href=https://colab.research.google.com/notebooks/data_table.ipynb>data table notebook</a>'\n",
              "            + ' to learn more about interactive tables.';\n",
              "          element.innerHTML = '';\n",
              "          dataTable['output_type'] = 'display_data';\n",
              "          await google.colab.output.renderOutput(dataTable, element);\n",
              "          const docLink = document.createElement('div');\n",
              "          docLink.innerHTML = docLinkHtml;\n",
              "          element.appendChild(docLink);\n",
              "        }\n",
              "      </script>\n",
              "    </div>\n",
              "  </div>\n",
              "  "
            ]
          },
          "metadata": {},
          "execution_count": 63
        }
      ]
    },
    {
      "cell_type": "code",
      "source": [
        "heatmaps = Data_df1.corr()\n",
        "top_corr_features = heatmaps.index\n",
        "plt.figure(figsize=(30,10))\n",
        "g=sns.heatmap(final_Data[top_corr_features].corr(),annot=True,cmap='RdYlGn')"
      ],
      "metadata": {
        "colab": {
          "base_uri": "https://localhost:8080/",
          "height": 625
        },
        "id": "217YvpJIGrC9",
        "outputId": "9e0c85db-1572-4a37-f29c-d10c57c1a385"
      },
      "execution_count": null,
      "outputs": [
        {
          "output_type": "display_data",
          "data": {
            "text/plain": [
              "<Figure size 2160x720 with 2 Axes>"
            ],
            "image/png": "[encoded data removed]"
          },
          "metadata": {}
        }
      ]
    },
    {
      "cell_type": "markdown",
      "source": [
        "# Linear Regression"
      ],
      "metadata": {
        "id": "tFG-aemtGwEz"
      }
    },
    {
      "cell_type": "code",
      "source": [
        "X = final_Data.drop(columns='Sales',axis=1)\n",
        "Y = final_Data['Sales']"
      ],
      "metadata": {
        "id": "mvgnFSlsGwlG"
      },
      "execution_count": 98,
      "outputs": []
    },
    {
      "cell_type": "code",
      "source": [
        "X_train , X_test ,Y_train , Y_test = train_test_split(X,Y,test_size=0.2,random_state =2)"
      ],
      "metadata": {
        "id": "udeWYnWyGzVo"
      },
      "execution_count": 99,
      "outputs": []
    },
    {
      "cell_type": "code",
      "source": [
        "reg = LinearRegression()\n",
        "reg.fit(X_train,Y_train)"
      ],
      "metadata": {
        "colab": {
          "base_uri": "https://localhost:8080/"
        },
        "id": "eSBP3kYDG1fB",
        "outputId": "a6bbfdab-72d0-4b4e-ccea-93723a99fb93"
      },
      "execution_count": 100,
      "outputs": [
        {
          "output_type": "execute_result",
          "data": {
            "text/plain": [
              "LinearRegression()"
            ]
          },
          "metadata": {},
          "execution_count": 100
        }
      ]
    },
    {
      "cell_type": "code",
      "execution_count": 101,
      "metadata": {
        "id": "MZMYZqXQ8SLw"
      },
      "outputs": [],
      "source": [
        "# definte RMSE function\n",
        "from sklearn.metrics import mean_squared_error\n",
        "from math import sqrt\n",
        "def rmse(x,y):\n",
        "  return sqrt(mean_squared_error(x,y))\n",
        "  "
      ]
    },
    {
      "cell_type": "code",
      "execution_count": 102,
      "metadata": {
        "id": "yHU4djxq9d1z"
      },
      "outputs": [],
      "source": [
        "# definte MAPE function (mean absolute percentage error function)\n",
        "def mape(x, y):\n",
        "  return np.mean(np.abs((x-y)/x))*100"
      ]
    },
    {
      "cell_type": "code",
      "source": [
        "print(\"Regresion Model Score\" , \":\" , reg.score(X_train, Y_train) , \",\" ,\n",
        "      \"Out of Sample Test Score\" ,\":\" , reg.score(X_test, Y_test))\n",
        "\n",
        "Y_pred =reg.predict(X_train)\n",
        "Y_test_pred=reg.predict(X_test)\n",
        "\n",
        "print(\"Training RMSE\", \":\", rmse(Y_train, Y_pred),\n",
        "      \"Testing RMSE\", \":\", rmse(Y_test, Y_test_pred))\n",
        "print(\"Training MAPE\", \":\", mape(Y_train, Y_pred),\n",
        "      \"Testing MAPE\", \":\", mape(Y_test, Y_test_pred))"
      ],
      "metadata": {
        "colab": {
          "base_uri": "https://localhost:8080/"
        },
        "id": "ENeIgXCr2R5j",
        "outputId": "e03f5af1-69c2-43e1-eb8d-7dfa2acd3790"
      },
      "execution_count": 103,
      "outputs": [
        {
          "output_type": "stream",
          "name": "stdout",
          "text": [
            "Regresion Model Score : 0.8274233273011311 , Out of Sample Test Score : 0.8278685886721219\n",
            "Training RMSE : 1290.1473637435934 Testing RMSE : 1284.715533893338\n",
            "Training MAPE : 14.258725372180493 Testing MAPE : 14.237283991498026\n"
          ]
        }
      ]
    },
    {
      "cell_type": "code",
      "source": [
        "from sklearn.metrics import r2_score \n",
        "r2_score(Y_test_pred,Y_test)"
      ],
      "metadata": {
        "id": "1xaHIDSNG6F6",
        "colab": {
          "base_uri": "https://localhost:8080/"
        },
        "outputId": "83271c90-f215-45cb-ca65-7456743bf920"
      },
      "execution_count": 104,
      "outputs": [
        {
          "output_type": "execute_result",
          "data": {
            "text/plain": [
              "0.7925457635775739"
            ]
          },
          "metadata": {},
          "execution_count": 104
        }
      ]
    },
    {
      "cell_type": "code",
      "source": [
        "print(\"Adjusted R2 : \",1-(1-r2_score(Y_test,Y_test_pred))*((X_test.shape[0]-1)/(X_test.shape[0]-X_test.shape[1]-1)))"
      ],
      "metadata": {
        "colab": {
          "base_uri": "https://localhost:8080/"
        },
        "id": "SPu_sU9pzeP1",
        "outputId": "2e16f7fb-314a-43e9-aa6b-1c3b7003d6e2"
      },
      "execution_count": 105,
      "outputs": [
        {
          "output_type": "stream",
          "name": "stdout",
          "text": [
            "Adjusted R2 :  0.8278400426636927\n"
          ]
        }
      ]
    },
    {
      "cell_type": "markdown",
      "source": [
        "from sklearn.ensemble import RandomForestRegressor\n",
        "rdf = RandomForestRegressor(n_estimators=30)\n",
        "rdfreg = rdf.fit(xl_train, yl_train)"
      ],
      "metadata": {
        "id": "w-t9pTo8JVP2"
      }
    },
    {
      "cell_type": "code",
      "source": [],
      "metadata": {
        "id": "nsmZNyCwm59K"
      },
      "execution_count": 105,
      "outputs": []
    },
    {
      "cell_type": "markdown",
      "source": [
        "# XGBooster"
      ],
      "metadata": {
        "id": "Y7ka1C-QH_Zr"
      }
    },
    {
      "cell_type": "code",
      "source": [
        "regressor = XGBRegressor()"
      ],
      "metadata": {
        "id": "9Mi-mg8bH-u0"
      },
      "execution_count": 106,
      "outputs": []
    },
    {
      "cell_type": "code",
      "source": [
        "regressor.fit(X_train , Y_train)"
      ],
      "metadata": {
        "colab": {
          "base_uri": "https://localhost:8080/"
        },
        "id": "_svNxJJlH-mr",
        "outputId": "2fa2305a-144d-47a6-b04d-f1b97501f17f"
      },
      "execution_count": 107,
      "outputs": [
        {
          "output_type": "stream",
          "name": "stdout",
          "text": [
            "[10:38:15] WARNING: /workspace/src/objective/regression_obj.cu:152: reg:linear is now deprecated in favor of reg:squarederror.\n"
          ]
        },
        {
          "output_type": "execute_result",
          "data": {
            "text/plain": [
              "XGBRegressor()"
            ]
          },
          "metadata": {},
          "execution_count": 107
        }
      ]
    },
    {
      "cell_type": "code",
      "source": [
        "print(\"Regresion Model Score\" , \":\" , regressor.score(X_train, Y_train) , \",\" ,\n",
        "      \"Out of Sample Test Score\" ,\":\" , regressor.score(X_test, Y_test))\n",
        "\n",
        "Y_pred =regressor.predict(X_train)\n",
        "Y_test_pred=regressor.predict(X_test)\n",
        "\n",
        "print(\"Regresion Model Score\" , \":\" , regressor.score(X_train, Y_train) , \",\" ,\n",
        "      \"Out of Sample Test Score\" ,\":\" , regressor.score(X_test, Y_test))\n",
        "print(\"Training RMSE\", \":\", rmse(Y_train, Y_pred),\n",
        "      \"Testing RMSE\", \":\", rmse(Y_test, Y_test_pred))\n",
        "print(\"Training MAPE\", \":\", mape(Y_train, Y_pred),\n",
        "      \"Testing MAPE\", \":\", mape(Y_test, Y_test_pred))"
      ],
      "metadata": {
        "colab": {
          "base_uri": "https://localhost:8080/"
        },
        "id": "ArAVz4BIA2CL",
        "outputId": "5132caaf-5f1b-4a0e-b2e2-3439ecb95507"
      },
      "execution_count": 108,
      "outputs": [
        {
          "output_type": "stream",
          "name": "stdout",
          "text": [
            "Regresion Model Score : 0.8909047561741499 , Out of Sample Test Score : 0.8909871927008151\n",
            "Regresion Model Score : 0.8909047561741499 , Out of Sample Test Score : 0.8909871927008151\n",
            "Training RMSE : 1025.7728078374146 Testing RMSE : 1022.3878328126475\n",
            "Training MAPE : 11.533789217811334 Testing MAPE : 11.506147893236458\n"
          ]
        }
      ]
    },
    {
      "cell_type": "code",
      "source": [
        "from sklearn.metrics import r2_score \n",
        "r2_score(Y_test_pred,Y_test)"
      ],
      "metadata": {
        "colab": {
          "base_uri": "https://localhost:8080/"
        },
        "id": "hDF9jPo73Bxx",
        "outputId": "d12b3009-9750-486a-e898-1184899d188b"
      },
      "execution_count": 109,
      "outputs": [
        {
          "output_type": "execute_result",
          "data": {
            "text/plain": [
              "0.8676506481488033"
            ]
          },
          "metadata": {},
          "execution_count": 109
        }
      ]
    },
    {
      "cell_type": "code",
      "source": [
        "print(\"Adjusted R2 : \",1-(1-r2_score(Y_test,Y_test_pred))*((X_test.shape[0]-1)/(X_test.shape[0]-X_test.shape[1]-1)))"
      ],
      "metadata": {
        "colab": {
          "base_uri": "https://localhost:8080/"
        },
        "id": "4t2Mjy3v0PHP",
        "outputId": "a67e0c3b-a8b9-4422-bcaa-719689109704"
      },
      "execution_count": 110,
      "outputs": [
        {
          "output_type": "stream",
          "name": "stdout",
          "text": [
            "Adjusted R2 :  0.8909691141845696\n"
          ]
        }
      ]
    },
    {
      "cell_type": "markdown",
      "source": [
        "# Decision Tree Regressor"
      ],
      "metadata": {
        "id": "83a1zqBpLZ47"
      }
    },
    {
      "cell_type": "code",
      "source": [
        "from sklearn.model_selection import cross_val_score"
      ],
      "metadata": {
        "id": "NPrceZ6YLMNT"
      },
      "execution_count": 111,
      "outputs": []
    },
    {
      "cell_type": "code",
      "source": [
        "des_reg = DecisionTreeRegressor(random_state= 10)\n",
        "cross_val_score(des_reg,X_train,Y_train,cv = 10).mean()"
      ],
      "metadata": {
        "colab": {
          "base_uri": "https://localhost:8080/"
        },
        "id": "5NWdaD83LMKN",
        "outputId": "2f612be9-6b29-43c4-bfff-3cc6abbd8891"
      },
      "execution_count": 112,
      "outputs": [
        {
          "output_type": "execute_result",
          "data": {
            "text/plain": [
              "0.9491060321511645"
            ]
          },
          "metadata": {},
          "execution_count": 112
        }
      ]
    },
    {
      "cell_type": "code",
      "execution_count": 113,
      "metadata": {
        "id": "XcLWF78xkLlR"
      },
      "outputs": [],
      "source": [
        "from sklearn.tree import DecisionTreeRegressor\n",
        "tree = DecisionTreeRegressor(min_samples_leaf=20)\n",
        "treereg = tree.fit(X_train, Y_train)"
      ]
    },
    {
      "cell_type": "code",
      "execution_count": 114,
      "metadata": {
        "id": "sUFu5B_fkIMn",
        "colab": {
          "base_uri": "https://localhost:8080/"
        },
        "outputId": "eb73c66b-4de6-4891-b9eb-d0f509bc242e"
      },
      "outputs": [
        {
          "output_type": "stream",
          "name": "stdout",
          "text": [
            "Regresion Model Score : 0.9651549601419527 , Out of Sample Test Score : 0.9554649337933568\n",
            "Regresion Model Score : 0.9651549601419527 , Out of Sample Test Score : 0.9554649337933568\n",
            "Training RMSE : 579.7206311698563 Testing RMSE : 653.4734716301326\n",
            "Training MAPE : 5.475859104159557 Testing MAPE : 6.187417655672565\n"
          ]
        }
      ],
      "source": [
        "print(\"Regresion Model Score\" , \":\" , treereg.score(X_train, Y_train) , \",\" ,\n",
        "      \"Out of Sample Test Score\" ,\":\" , treereg.score(X_test, Y_test))\n",
        "\n",
        "Y_pred =treereg.predict(X_train)\n",
        "Y_test_pred=treereg.predict(X_test)\n",
        "\n",
        "print(\"Regresion Model Score\" , \":\" , treereg.score(X_train, Y_train) , \",\" ,\n",
        "      \"Out of Sample Test Score\" ,\":\" , treereg.score(X_test, Y_test))\n",
        "print(\"Training RMSE\", \":\", rmse(Y_train, Y_pred),\n",
        "      \"Testing RMSE\", \":\", rmse(Y_test, Y_test_pred))\n",
        "print(\"Training MAPE\", \":\", mape(Y_train, Y_pred),\n",
        "      \"Testing MAPE\", \":\", mape(Y_test, Y_test_pred))"
      ]
    },
    {
      "cell_type": "code",
      "source": [
        "from sklearn.metrics import r2_score \n",
        "r2_score(Y_test_pred,Y_test)"
      ],
      "metadata": {
        "id": "ZF-vS5os30ht",
        "colab": {
          "base_uri": "https://localhost:8080/"
        },
        "outputId": "f18b701b-212b-425b-d2bb-ca38b4a2f762"
      },
      "execution_count": 115,
      "outputs": [
        {
          "output_type": "execute_result",
          "data": {
            "text/plain": [
              "0.9538324965740108"
            ]
          },
          "metadata": {},
          "execution_count": 115
        }
      ]
    },
    {
      "cell_type": "code",
      "source": [
        "print(\"Adjusted R2 : \",1-(1-r2_score(Y_test,Y_test_pred))*((X_test.shape[0]-1)/(X_test.shape[0]-X_test.shape[1]-1)))"
      ],
      "metadata": {
        "colab": {
          "base_uri": "https://localhost:8080/"
        },
        "id": "aMiqhAcP0VYy",
        "outputId": "50abd951-fc17-4ed5-c2db-d05dd6bb10f4"
      },
      "execution_count": 116,
      "outputs": [
        {
          "output_type": "stream",
          "name": "stdout",
          "text": [
            "Adjusted R2 :  0.9554575481664946\n"
          ]
        }
      ]
    },
    {
      "cell_type": "markdown",
      "source": [
        "# Random Forest Regressor"
      ],
      "metadata": {
        "id": "BeRsFZrx3HxN"
      }
    },
    {
      "cell_type": "code",
      "source": [
        "from sklearn.ensemble import RandomForestRegressor\n",
        "\n",
        "rfr = RandomForestRegressor(n_estimators=10 , random_state = 0)\n",
        "\n",
        "rfr.fit(X_train,Y_train)"
      ],
      "metadata": {
        "id": "k9L2ixwHKMDa",
        "colab": {
          "base_uri": "https://localhost:8080/"
        },
        "outputId": "26470d22-d903-4e5f-86f6-e3c81e27de4a"
      },
      "execution_count": 117,
      "outputs": [
        {
          "output_type": "execute_result",
          "data": {
            "text/plain": [
              "RandomForestRegressor(n_estimators=10, random_state=0)"
            ]
          },
          "metadata": {},
          "execution_count": 117
        }
      ]
    },
    {
      "cell_type": "code",
      "source": [
        "y_predict_RFReg =  rfr.predict((X_test))"
      ],
      "metadata": {
        "id": "zjMRuaw8zkDD"
      },
      "execution_count": 118,
      "outputs": []
    },
    {
      "cell_type": "code",
      "source": [
        "r_sq = metrics.r2_score(Y_test,y_predict_RFReg)\n",
        "print('R-Square error associated with Random Forest Regression is:',r_sq)"
      ],
      "metadata": {
        "id": "tTdStArZ0k0C",
        "colab": {
          "base_uri": "https://localhost:8080/"
        },
        "outputId": "f136329f-ea87-40bf-ecd5-35500577f886"
      },
      "execution_count": 119,
      "outputs": [
        {
          "output_type": "stream",
          "name": "stdout",
          "text": [
            "R-Square error associated with Random Forest Regression is: 0.9735620401837538\n"
          ]
        }
      ]
    },
    {
      "cell_type": "code",
      "source": [
        "print(\"Regresion Model Score\" , \":\" , rfr.score(X_train, Y_train) , \",\" ,\n",
        "      \"Out of Sample Test Score\" ,\":\" , rfr.score(X_test, Y_test))\n",
        "\n",
        "Y_pred =rfr.predict(X_train)\n",
        "Y_test_pred=rfr.predict(X_test)\n",
        "\n",
        "print(\"Regresion Model Score\" , \":\" , rfr.score(X_train, Y_train) , \",\" ,\n",
        "      \"Out of Sample Test Score\" ,\":\" , rfr.score(X_test, Y_test))\n",
        "print(\"Training RMSE\", \":\", rmse(Y_train, Y_pred),\n",
        "      \"Testing RMSE\", \":\", rmse(Y_test, Y_test_pred))\n",
        "print(\"Training MAPE\", \":\", mape(Y_train, Y_pred),\n",
        "      \"Testing MAPE\", \":\", mape(Y_test, Y_test_pred))"
      ],
      "metadata": {
        "id": "aFJut24iLCK8",
        "colab": {
          "base_uri": "https://localhost:8080/"
        },
        "outputId": "6b6bcec1-00e8-4476-b937-3e55d2370035"
      },
      "execution_count": 120,
      "outputs": [
        {
          "output_type": "stream",
          "name": "stdout",
          "text": [
            "Regresion Model Score : 0.9950332069277624 , Out of Sample Test Score : 0.9735620401837538\n",
            "Regresion Model Score : 0.9950332069277624 , Out of Sample Test Score : 0.9735620401837538\n",
            "Training RMSE : 218.87003476565175 Testing RMSE : 503.49003515588976\n",
            "Training MAPE : 2.0096992769840645 Testing MAPE : 4.972167897259814\n"
          ]
        }
      ]
    },
    {
      "cell_type": "code",
      "source": [
        "r2_score(Y_test_pred,Y_test)"
      ],
      "metadata": {
        "colab": {
          "base_uri": "https://localhost:8080/"
        },
        "id": "KhmEtm-byQTC",
        "outputId": "8fae852e-462a-4958-ae85-eaecea094733"
      },
      "execution_count": 121,
      "outputs": [
        {
          "output_type": "execute_result",
          "data": {
            "text/plain": [
              "0.9726103086129319"
            ]
          },
          "metadata": {},
          "execution_count": 121
        }
      ]
    },
    {
      "cell_type": "code",
      "source": [
        "print(\"Adjusted R2 : \",1-(1-r2_score(Y_test,Y_test_pred))*((X_test.shape[0]-1)/(X_test.shape[0]-X_test.shape[1]-1)))"
      ],
      "metadata": {
        "colab": {
          "base_uri": "https://localhost:8080/"
        },
        "id": "HWQvaiXO0WxM",
        "outputId": "f40c5a04-5f29-4fe4-f028-7b567d5afd35"
      },
      "execution_count": 122,
      "outputs": [
        {
          "output_type": "stream",
          "name": "stdout",
          "text": [
            "Adjusted R2 :  0.9735576557531729\n"
          ]
        }
      ]
    }
  ]
}