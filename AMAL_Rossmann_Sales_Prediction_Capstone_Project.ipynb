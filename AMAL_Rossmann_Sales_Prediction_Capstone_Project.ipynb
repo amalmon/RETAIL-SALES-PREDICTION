{
  "cells": [
    {
      "cell_type": "markdown",
      "metadata": {
        "id": "view-in-github",
        "colab_type": "text"
      },
      "source": [
        "<a href=\"https://colab.research.google.com/github/amalmon/RETAIL-SALES-PREDICTION/blob/main/AMAL_Rossmann_Sales_Prediction_Capstone_Project.ipynb\" target=\"_parent\"><img src=\"https://colab.research.google.com/assets/colab-badge.svg\" alt=\"Open In Colab\"/></a>"
      ]
    },
    {
      "cell_type": "markdown",
      "metadata": {
        "id": "tOGC-qoyhJeX"
      },
      "source": [
        "# <b><u> Project Title : Sales Prediction : Predicting sales of a major store chain Rossmann</u></b>"
      ]
    },
    {
      "cell_type": "markdown",
      "metadata": {
        "id": "Y06xIdG26kRF"
      },
      "source": [
        "## <b> Problem Description </b>\n",
        "\n",
        "### Rossmann operates over 3,000 drug stores in 7 European countries. Currently, Rossmann store managers are tasked with predicting their daily sales for up to six weeks in advance. Store sales are influenced by many factors, including promotions, competition, school and state holidays, seasonality, and locality. With thousands of individual managers predicting sales based on their unique circumstances, the accuracy of results can be quite varied.\n",
        "\n",
        "### You are provided with historical sales data for 1,115 Rossmann stores. The task is to forecast the \"Sales\" column for the test set. Note that some stores in the dataset were temporarily closed for refurbishment."
      ]
    },
    {
      "cell_type": "markdown",
      "metadata": {
        "id": "WWeU1f9bwqQq"
      },
      "source": [
        "## <b> Data Description </b>\n",
        "\n",
        "### <b>Rossmann Stores Data.csv </b> - historical data including Sales\n",
        "### <b>store.csv </b> - supplemental information about the stores\n",
        "\n",
        "\n",
        "### <b><u>Data fields</u></b>\n",
        "### Most of the fields are self-explanatory. The following are descriptions for those that aren't.\n",
        "\n",
        "* #### Id - an Id that represents a (Store, Date) duple within the test set\n",
        "* #### Store - a unique Id for each store\n",
        "* #### Sales - the turnover for any given day (this is what you are predicting)\n",
        "* #### Customers - the number of customers on a given day\n",
        "* #### Open - an indicator for whether the store was open: 0 = closed, 1 = open\n",
        "* #### StateHoliday - indicates a state holiday. Normally all stores, with few exceptions, are closed on state holidays. Note that all schools are closed on public holidays and weekends. a = public holiday, b = Easter holiday, c = Christmas, 0 = None\n",
        "* #### SchoolHoliday - indicates if the (Store, Date) was affected by the closure of public schools\n",
        "* #### StoreType - differentiates between 4 different store models: a, b, c, d\n",
        "* #### Assortment - describes an assortment level: a = basic, b = extra, c = extended\n",
        "* #### CompetitionDistance - distance in meters to the nearest competitor store\n",
        "* #### CompetitionOpenSince[Month/Year] - gives the approximate year and month of the time the nearest competitor was opened\n",
        "* #### Promo - indicates whether a store is running a promo on that day\n",
        "* #### Promo2 - Promo2 is a continuing and consecutive promotion for some stores: 0 = store is not participating, 1 = store is participating\n",
        "* #### Promo2Since[Year/Week] - describes the year and calendar week when the store started participating in Promo2\n",
        "* #### PromoInterval - describes the consecutive intervals Promo2 is started, naming the months the promotion is started anew. E.g. \"Feb,May,Aug,Nov\" means each round starts in February, May, August, November of any given year for that store"
      ]
    },
    {
      "cell_type": "markdown",
      "metadata": {
        "id": "FMKIkjCap3CJ"
      },
      "source": [
        "##### libraries"
      ]
    },
    {
      "cell_type": "code",
      "execution_count": 404,
      "metadata": {
        "id": "upZo9_IQciB7"
      },
      "outputs": [],
      "source": [
        "import numpy as np\n",
        "import pandas as pd\n",
        "import matplotlib.pyplot as plt\n",
        "%matplotlib inline\n",
        "import seaborn as sns\n",
        "sns.set_style(\"whitegrid\")\n",
        "import plotly\n",
        "import plotly.graph_objs as go\n",
        "#import plotly.plotly as py\n",
        "import sklearn\n",
        "import warnings\n",
        "warnings.filterwarnings('ignore')"
      ]
    },
    {
      "cell_type": "code",
      "source": [
        "from google.colab import drive\n",
        "drive.mount('/content/drive')"
      ],
      "metadata": {
        "colab": {
          "base_uri": "https://localhost:8080/"
        },
        "id": "JXSm-FJtcJMA",
        "outputId": "3efda8c2-28c2-4713-e2ea-0cbb334d00b3"
      },
      "execution_count": 405,
      "outputs": [
        {
          "output_type": "stream",
          "name": "stdout",
          "text": [
            "Drive already mounted at /content/drive; to attempt to forcibly remount, call drive.mount(\"/content/drive\", force_remount=True).\n"
          ]
        }
      ]
    },
    {
      "cell_type": "code",
      "source": [
        "rossmann_stores_data=pd.read_csv('/content/drive/MyDrive/Almabetter/capstone projects/Capstone project 2 ML regression /Rossmann Stores Data.csv',parse_dates=True,index_col = 'Date')"
      ],
      "metadata": {
        "id": "OYaQ2X9McMT8"
      },
      "execution_count": 406,
      "outputs": []
    },
    {
      "cell_type": "code",
      "source": [
        "store_data=pd.read_csv('/content/drive/MyDrive/Almabetter/capstone projects/Capstone project 2 ML regression /store.csv')"
      ],
      "metadata": {
        "id": "Xt1h0QuDdAJU"
      },
      "execution_count": 407,
      "outputs": []
    },
    {
      "cell_type": "code",
      "source": [
        "#have a glance on a datasets\n",
        "print('observations & features',rossmann_stores_data.shape)\n",
        "rossmann_stores_data.head()"
      ],
      "metadata": {
        "colab": {
          "base_uri": "https://localhost:8080/",
          "height": 255
        },
        "id": "eCnCavwHdLZL",
        "outputId": "91a59396-5bf1-449e-d775-418687b0b7f3"
      },
      "execution_count": 408,
      "outputs": [
        {
          "output_type": "stream",
          "name": "stdout",
          "text": [
            "observations & features (1017209, 8)\n"
          ]
        },
        {
          "output_type": "execute_result",
          "data": {
            "text/plain": [
              "            Store  DayOfWeek  Sales  Customers  Open  Promo StateHoliday  \\\n",
              "Date                                                                       \n",
              "2015-07-31      1          5   5263        555     1      1            0   \n",
              "2015-07-31      2          5   6064        625     1      1            0   \n",
              "2015-07-31      3          5   8314        821     1      1            0   \n",
              "2015-07-31      4          5  13995       1498     1      1            0   \n",
              "2015-07-31      5          5   4822        559     1      1            0   \n",
              "\n",
              "            SchoolHoliday  \n",
              "Date                       \n",
              "2015-07-31              1  \n",
              "2015-07-31              1  \n",
              "2015-07-31              1  \n",
              "2015-07-31              1  \n",
              "2015-07-31              1  "
            ],
            "text/html": [
              "\n",
              "  <div id=\"df-07a582f0-4560-4915-942a-147281bc7ff8\">\n",
              "    <div class=\"colab-df-container\">\n",
              "      <div>\n",
              "<style scoped>\n",
              "    .dataframe tbody tr th:only-of-type {\n",
              "        vertical-align: middle;\n",
              "    }\n",
              "\n",
              "    .dataframe tbody tr th {\n",
              "        vertical-align: top;\n",
              "    }\n",
              "\n",
              "    .dataframe thead th {\n",
              "        text-align: right;\n",
              "    }\n",
              "</style>\n",
              "<table border=\"1\" class=\"dataframe\">\n",
              "  <thead>\n",
              "    <tr style=\"text-align: right;\">\n",
              "      <th></th>\n",
              "      <th>Store</th>\n",
              "      <th>DayOfWeek</th>\n",
              "      <th>Sales</th>\n",
              "      <th>Customers</th>\n",
              "      <th>Open</th>\n",
              "      <th>Promo</th>\n",
              "      <th>StateHoliday</th>\n",
              "      <th>SchoolHoliday</th>\n",
              "    </tr>\n",
              "    <tr>\n",
              "      <th>Date</th>\n",
              "      <th></th>\n",
              "      <th></th>\n",
              "      <th></th>\n",
              "      <th></th>\n",
              "      <th></th>\n",
              "      <th></th>\n",
              "      <th></th>\n",
              "      <th></th>\n",
              "    </tr>\n",
              "  </thead>\n",
              "  <tbody>\n",
              "    <tr>\n",
              "      <th>2015-07-31</th>\n",
              "      <td>1</td>\n",
              "      <td>5</td>\n",
              "      <td>5263</td>\n",
              "      <td>555</td>\n",
              "      <td>1</td>\n",
              "      <td>1</td>\n",
              "      <td>0</td>\n",
              "      <td>1</td>\n",
              "    </tr>\n",
              "    <tr>\n",
              "      <th>2015-07-31</th>\n",
              "      <td>2</td>\n",
              "      <td>5</td>\n",
              "      <td>6064</td>\n",
              "      <td>625</td>\n",
              "      <td>1</td>\n",
              "      <td>1</td>\n",
              "      <td>0</td>\n",
              "      <td>1</td>\n",
              "    </tr>\n",
              "    <tr>\n",
              "      <th>2015-07-31</th>\n",
              "      <td>3</td>\n",
              "      <td>5</td>\n",
              "      <td>8314</td>\n",
              "      <td>821</td>\n",
              "      <td>1</td>\n",
              "      <td>1</td>\n",
              "      <td>0</td>\n",
              "      <td>1</td>\n",
              "    </tr>\n",
              "    <tr>\n",
              "      <th>2015-07-31</th>\n",
              "      <td>4</td>\n",
              "      <td>5</td>\n",
              "      <td>13995</td>\n",
              "      <td>1498</td>\n",
              "      <td>1</td>\n",
              "      <td>1</td>\n",
              "      <td>0</td>\n",
              "      <td>1</td>\n",
              "    </tr>\n",
              "    <tr>\n",
              "      <th>2015-07-31</th>\n",
              "      <td>5</td>\n",
              "      <td>5</td>\n",
              "      <td>4822</td>\n",
              "      <td>559</td>\n",
              "      <td>1</td>\n",
              "      <td>1</td>\n",
              "      <td>0</td>\n",
              "      <td>1</td>\n",
              "    </tr>\n",
              "  </tbody>\n",
              "</table>\n",
              "</div>\n",
              "      <button class=\"colab-df-convert\" onclick=\"convertToInteractive('df-07a582f0-4560-4915-942a-147281bc7ff8')\"\n",
              "              title=\"Convert this dataframe to an interactive table.\"\n",
              "              style=\"display:none;\">\n",
              "        \n",
              "  <svg xmlns=\"http://www.w3.org/2000/svg\" height=\"24px\"viewBox=\"0 0 24 24\"\n",
              "       width=\"24px\">\n",
              "    <path d=\"M0 0h24v24H0V0z\" fill=\"none\"/>\n",
              "    <path d=\"M18.56 5.44l.94 2.06.94-2.06 2.06-.94-2.06-.94-.94-2.06-.94 2.06-2.06.94zm-11 1L8.5 8.5l.94-2.06 2.06-.94-2.06-.94L8.5 2.5l-.94 2.06-2.06.94zm10 10l.94 2.06.94-2.06 2.06-.94-2.06-.94-.94-2.06-.94 2.06-2.06.94z\"/><path d=\"M17.41 7.96l-1.37-1.37c-.4-.4-.92-.59-1.43-.59-.52 0-1.04.2-1.43.59L10.3 9.45l-7.72 7.72c-.78.78-.78 2.05 0 2.83L4 21.41c.39.39.9.59 1.41.59.51 0 1.02-.2 1.41-.59l7.78-7.78 2.81-2.81c.8-.78.8-2.07 0-2.86zM5.41 20L4 18.59l7.72-7.72 1.47 1.35L5.41 20z\"/>\n",
              "  </svg>\n",
              "      </button>\n",
              "      \n",
              "  <style>\n",
              "    .colab-df-container {\n",
              "      display:flex;\n",
              "      flex-wrap:wrap;\n",
              "      gap: 12px;\n",
              "    }\n",
              "\n",
              "    .colab-df-convert {\n",
              "      background-color: #E8F0FE;\n",
              "      border: none;\n",
              "      border-radius: 50%;\n",
              "      cursor: pointer;\n",
              "      display: none;\n",
              "      fill: #1967D2;\n",
              "      height: 32px;\n",
              "      padding: 0 0 0 0;\n",
              "      width: 32px;\n",
              "    }\n",
              "\n",
              "    .colab-df-convert:hover {\n",
              "      background-color: #E2EBFA;\n",
              "      box-shadow: 0px 1px 2px rgba(60, 64, 67, 0.3), 0px 1px 3px 1px rgba(60, 64, 67, 0.15);\n",
              "      fill: #174EA6;\n",
              "    }\n",
              "\n",
              "    [theme=dark] .colab-df-convert {\n",
              "      background-color: #3B4455;\n",
              "      fill: #D2E3FC;\n",
              "    }\n",
              "\n",
              "    [theme=dark] .colab-df-convert:hover {\n",
              "      background-color: #434B5C;\n",
              "      box-shadow: 0px 1px 3px 1px rgba(0, 0, 0, 0.15);\n",
              "      filter: drop-shadow(0px 1px 2px rgba(0, 0, 0, 0.3));\n",
              "      fill: #FFFFFF;\n",
              "    }\n",
              "  </style>\n",
              "\n",
              "      <script>\n",
              "        const buttonEl =\n",
              "          document.querySelector('#df-07a582f0-4560-4915-942a-147281bc7ff8 button.colab-df-convert');\n",
              "        buttonEl.style.display =\n",
              "          google.colab.kernel.accessAllowed ? 'block' : 'none';\n",
              "\n",
              "        async function convertToInteractive(key) {\n",
              "          const element = document.querySelector('#df-07a582f0-4560-4915-942a-147281bc7ff8');\n",
              "          const dataTable =\n",
              "            await google.colab.kernel.invokeFunction('convertToInteractive',\n",
              "                                                     [key], {});\n",
              "          if (!dataTable) return;\n",
              "\n",
              "          const docLinkHtml = 'Like what you see? Visit the ' +\n",
              "            '<a target=\"_blank\" href=https://colab.research.google.com/notebooks/data_table.ipynb>data table notebook</a>'\n",
              "            + ' to learn more about interactive tables.';\n",
              "          element.innerHTML = '';\n",
              "          dataTable['output_type'] = 'display_data';\n",
              "          await google.colab.output.renderOutput(dataTable, element);\n",
              "          const docLink = document.createElement('div');\n",
              "          docLink.innerHTML = docLinkHtml;\n",
              "          element.appendChild(docLink);\n",
              "        }\n",
              "      </script>\n",
              "    </div>\n",
              "  </div>\n",
              "  "
            ]
          },
          "metadata": {},
          "execution_count": 408
        }
      ]
    },
    {
      "cell_type": "code",
      "source": [
        "rossmann_stores_data.info()"
      ],
      "metadata": {
        "colab": {
          "base_uri": "https://localhost:8080/"
        },
        "id": "-rIW4jiUffBn",
        "outputId": "e5570362-bb20-4432-ac2a-61728ac207d8"
      },
      "execution_count": 388,
      "outputs": [
        {
          "output_type": "stream",
          "name": "stdout",
          "text": [
            "<class 'pandas.core.frame.DataFrame'>\n",
            "DatetimeIndex: 1017209 entries, 2015-07-31 to 2013-01-01\n",
            "Data columns (total 8 columns):\n",
            " #   Column         Non-Null Count    Dtype \n",
            "---  ------         --------------    ----- \n",
            " 0   Store          1017209 non-null  int64 \n",
            " 1   DayOfWeek      1017209 non-null  int64 \n",
            " 2   Sales          1017209 non-null  int64 \n",
            " 3   Customers      1017209 non-null  int64 \n",
            " 4   Open           1017209 non-null  int64 \n",
            " 5   Promo          1017209 non-null  int64 \n",
            " 6   StateHoliday   1017209 non-null  object\n",
            " 7   SchoolHoliday  1017209 non-null  int64 \n",
            "dtypes: int64(7), object(1)\n",
            "memory usage: 69.8+ MB\n"
          ]
        }
      ]
    },
    {
      "cell_type": "code",
      "source": [
        "print('observations & features',store_data.shape)\n",
        "store_data.head()"
      ],
      "metadata": {
        "colab": {
          "base_uri": "https://localhost:8080/",
          "height": 223
        },
        "id": "-ol6vzZkdUdE",
        "outputId": "e9f54c9e-1fca-49da-b3e1-d917ef4400cf"
      },
      "execution_count": 389,
      "outputs": [
        {
          "output_type": "stream",
          "name": "stdout",
          "text": [
            "observations & features (1115, 10)\n"
          ]
        },
        {
          "output_type": "execute_result",
          "data": {
            "text/plain": [
              "   Store StoreType Assortment  CompetitionDistance  CompetitionOpenSinceMonth  \\\n",
              "0      1         c          a               1270.0                        9.0   \n",
              "1      2         a          a                570.0                       11.0   \n",
              "2      3         a          a              14130.0                       12.0   \n",
              "3      4         c          c                620.0                        9.0   \n",
              "4      5         a          a              29910.0                        4.0   \n",
              "\n",
              "   CompetitionOpenSinceYear  Promo2  Promo2SinceWeek  Promo2SinceYear  \\\n",
              "0                    2008.0       0              NaN              NaN   \n",
              "1                    2007.0       1             13.0           2010.0   \n",
              "2                    2006.0       1             14.0           2011.0   \n",
              "3                    2009.0       0              NaN              NaN   \n",
              "4                    2015.0       0              NaN              NaN   \n",
              "\n",
              "     PromoInterval  \n",
              "0              NaN  \n",
              "1  Jan,Apr,Jul,Oct  \n",
              "2  Jan,Apr,Jul,Oct  \n",
              "3              NaN  \n",
              "4              NaN  "
            ],
            "text/html": [
              "\n",
              "  <div id=\"df-28acb9f7-f1dd-48ab-94cc-ef945aa51a31\">\n",
              "    <div class=\"colab-df-container\">\n",
              "      <div>\n",
              "<style scoped>\n",
              "    .dataframe tbody tr th:only-of-type {\n",
              "        vertical-align: middle;\n",
              "    }\n",
              "\n",
              "    .dataframe tbody tr th {\n",
              "        vertical-align: top;\n",
              "    }\n",
              "\n",
              "    .dataframe thead th {\n",
              "        text-align: right;\n",
              "    }\n",
              "</style>\n",
              "<table border=\"1\" class=\"dataframe\">\n",
              "  <thead>\n",
              "    <tr style=\"text-align: right;\">\n",
              "      <th></th>\n",
              "      <th>Store</th>\n",
              "      <th>StoreType</th>\n",
              "      <th>Assortment</th>\n",
              "      <th>CompetitionDistance</th>\n",
              "      <th>CompetitionOpenSinceMonth</th>\n",
              "      <th>CompetitionOpenSinceYear</th>\n",
              "      <th>Promo2</th>\n",
              "      <th>Promo2SinceWeek</th>\n",
              "      <th>Promo2SinceYear</th>\n",
              "      <th>PromoInterval</th>\n",
              "    </tr>\n",
              "  </thead>\n",
              "  <tbody>\n",
              "    <tr>\n",
              "      <th>0</th>\n",
              "      <td>1</td>\n",
              "      <td>c</td>\n",
              "      <td>a</td>\n",
              "      <td>1270.0</td>\n",
              "      <td>9.0</td>\n",
              "      <td>2008.0</td>\n",
              "      <td>0</td>\n",
              "      <td>NaN</td>\n",
              "      <td>NaN</td>\n",
              "      <td>NaN</td>\n",
              "    </tr>\n",
              "    <tr>\n",
              "      <th>1</th>\n",
              "      <td>2</td>\n",
              "      <td>a</td>\n",
              "      <td>a</td>\n",
              "      <td>570.0</td>\n",
              "      <td>11.0</td>\n",
              "      <td>2007.0</td>\n",
              "      <td>1</td>\n",
              "      <td>13.0</td>\n",
              "      <td>2010.0</td>\n",
              "      <td>Jan,Apr,Jul,Oct</td>\n",
              "    </tr>\n",
              "    <tr>\n",
              "      <th>2</th>\n",
              "      <td>3</td>\n",
              "      <td>a</td>\n",
              "      <td>a</td>\n",
              "      <td>14130.0</td>\n",
              "      <td>12.0</td>\n",
              "      <td>2006.0</td>\n",
              "      <td>1</td>\n",
              "      <td>14.0</td>\n",
              "      <td>2011.0</td>\n",
              "      <td>Jan,Apr,Jul,Oct</td>\n",
              "    </tr>\n",
              "    <tr>\n",
              "      <th>3</th>\n",
              "      <td>4</td>\n",
              "      <td>c</td>\n",
              "      <td>c</td>\n",
              "      <td>620.0</td>\n",
              "      <td>9.0</td>\n",
              "      <td>2009.0</td>\n",
              "      <td>0</td>\n",
              "      <td>NaN</td>\n",
              "      <td>NaN</td>\n",
              "      <td>NaN</td>\n",
              "    </tr>\n",
              "    <tr>\n",
              "      <th>4</th>\n",
              "      <td>5</td>\n",
              "      <td>a</td>\n",
              "      <td>a</td>\n",
              "      <td>29910.0</td>\n",
              "      <td>4.0</td>\n",
              "      <td>2015.0</td>\n",
              "      <td>0</td>\n",
              "      <td>NaN</td>\n",
              "      <td>NaN</td>\n",
              "      <td>NaN</td>\n",
              "    </tr>\n",
              "  </tbody>\n",
              "</table>\n",
              "</div>\n",
              "      <button class=\"colab-df-convert\" onclick=\"convertToInteractive('df-28acb9f7-f1dd-48ab-94cc-ef945aa51a31')\"\n",
              "              title=\"Convert this dataframe to an interactive table.\"\n",
              "              style=\"display:none;\">\n",
              "        \n",
              "  <svg xmlns=\"http://www.w3.org/2000/svg\" height=\"24px\"viewBox=\"0 0 24 24\"\n",
              "       width=\"24px\">\n",
              "    <path d=\"M0 0h24v24H0V0z\" fill=\"none\"/>\n",
              "    <path d=\"M18.56 5.44l.94 2.06.94-2.06 2.06-.94-2.06-.94-.94-2.06-.94 2.06-2.06.94zm-11 1L8.5 8.5l.94-2.06 2.06-.94-2.06-.94L8.5 2.5l-.94 2.06-2.06.94zm10 10l.94 2.06.94-2.06 2.06-.94-2.06-.94-.94-2.06-.94 2.06-2.06.94z\"/><path d=\"M17.41 7.96l-1.37-1.37c-.4-.4-.92-.59-1.43-.59-.52 0-1.04.2-1.43.59L10.3 9.45l-7.72 7.72c-.78.78-.78 2.05 0 2.83L4 21.41c.39.39.9.59 1.41.59.51 0 1.02-.2 1.41-.59l7.78-7.78 2.81-2.81c.8-.78.8-2.07 0-2.86zM5.41 20L4 18.59l7.72-7.72 1.47 1.35L5.41 20z\"/>\n",
              "  </svg>\n",
              "      </button>\n",
              "      \n",
              "  <style>\n",
              "    .colab-df-container {\n",
              "      display:flex;\n",
              "      flex-wrap:wrap;\n",
              "      gap: 12px;\n",
              "    }\n",
              "\n",
              "    .colab-df-convert {\n",
              "      background-color: #E8F0FE;\n",
              "      border: none;\n",
              "      border-radius: 50%;\n",
              "      cursor: pointer;\n",
              "      display: none;\n",
              "      fill: #1967D2;\n",
              "      height: 32px;\n",
              "      padding: 0 0 0 0;\n",
              "      width: 32px;\n",
              "    }\n",
              "\n",
              "    .colab-df-convert:hover {\n",
              "      background-color: #E2EBFA;\n",
              "      box-shadow: 0px 1px 2px rgba(60, 64, 67, 0.3), 0px 1px 3px 1px rgba(60, 64, 67, 0.15);\n",
              "      fill: #174EA6;\n",
              "    }\n",
              "\n",
              "    [theme=dark] .colab-df-convert {\n",
              "      background-color: #3B4455;\n",
              "      fill: #D2E3FC;\n",
              "    }\n",
              "\n",
              "    [theme=dark] .colab-df-convert:hover {\n",
              "      background-color: #434B5C;\n",
              "      box-shadow: 0px 1px 3px 1px rgba(0, 0, 0, 0.15);\n",
              "      filter: drop-shadow(0px 1px 2px rgba(0, 0, 0, 0.3));\n",
              "      fill: #FFFFFF;\n",
              "    }\n",
              "  </style>\n",
              "\n",
              "      <script>\n",
              "        const buttonEl =\n",
              "          document.querySelector('#df-28acb9f7-f1dd-48ab-94cc-ef945aa51a31 button.colab-df-convert');\n",
              "        buttonEl.style.display =\n",
              "          google.colab.kernel.accessAllowed ? 'block' : 'none';\n",
              "\n",
              "        async function convertToInteractive(key) {\n",
              "          const element = document.querySelector('#df-28acb9f7-f1dd-48ab-94cc-ef945aa51a31');\n",
              "          const dataTable =\n",
              "            await google.colab.kernel.invokeFunction('convertToInteractive',\n",
              "                                                     [key], {});\n",
              "          if (!dataTable) return;\n",
              "\n",
              "          const docLinkHtml = 'Like what you see? Visit the ' +\n",
              "            '<a target=\"_blank\" href=https://colab.research.google.com/notebooks/data_table.ipynb>data table notebook</a>'\n",
              "            + ' to learn more about interactive tables.';\n",
              "          element.innerHTML = '';\n",
              "          dataTable['output_type'] = 'display_data';\n",
              "          await google.colab.output.renderOutput(dataTable, element);\n",
              "          const docLink = document.createElement('div');\n",
              "          docLink.innerHTML = docLinkHtml;\n",
              "          element.appendChild(docLink);\n",
              "        }\n",
              "      </script>\n",
              "    </div>\n",
              "  </div>\n",
              "  "
            ]
          },
          "metadata": {},
          "execution_count": 389
        }
      ]
    },
    {
      "cell_type": "markdown",
      "source": [
        "### **check whether any duplicate entries**"
      ],
      "metadata": {
        "id": "P7I4ddMfJJ81"
      }
    },
    {
      "cell_type": "code",
      "source": [
        "#for duplicates\n",
        "rossmann_stores_data.duplicated().sum()"
      ],
      "metadata": {
        "colab": {
          "base_uri": "https://localhost:8080/"
        },
        "id": "sRqg9qvOGsc6",
        "outputId": "b008d961-e518-42b2-b796-ec94e85f59ba"
      },
      "execution_count": 390,
      "outputs": [
        {
          "output_type": "execute_result",
          "data": {
            "text/plain": [
              "152740"
            ]
          },
          "metadata": {},
          "execution_count": 390
        }
      ]
    },
    {
      "cell_type": "code",
      "source": [
        "store_data.duplicated().sum()"
      ],
      "metadata": {
        "colab": {
          "base_uri": "https://localhost:8080/"
        },
        "id": "iY3Kg0IYNjMC",
        "outputId": "08fefe2f-f944-4a10-b6a5-8f3e914795e1"
      },
      "execution_count": 391,
      "outputs": [
        {
          "output_type": "execute_result",
          "data": {
            "text/plain": [
              "0"
            ]
          },
          "metadata": {},
          "execution_count": 391
        }
      ]
    },
    {
      "cell_type": "markdown",
      "source": [
        "# **Dealing With Missing Values**\n",
        "Count missing values in each dataset"
      ],
      "metadata": {
        "id": "19i0kLpFf1fT"
      }
    },
    {
      "cell_type": "code",
      "source": [
        "print('rossmann_stores_data:\\n\\n',rossmann_stores_data.isnull().sum(),\n",
        "      '\\n\\nstore_data:\\n\\n',store_data.isnull().sum())"
      ],
      "metadata": {
        "colab": {
          "base_uri": "https://localhost:8080/"
        },
        "id": "h3OCzRC4gA61",
        "outputId": "c61aabf1-7400-462e-9eab-fb7f4d5f5787"
      },
      "execution_count": 392,
      "outputs": [
        {
          "output_type": "stream",
          "name": "stdout",
          "text": [
            "rossmann_stores_data:\n",
            "\n",
            " Store            0\n",
            "DayOfWeek        0\n",
            "Sales            0\n",
            "Customers        0\n",
            "Open             0\n",
            "Promo            0\n",
            "StateHoliday     0\n",
            "SchoolHoliday    0\n",
            "dtype: int64 \n",
            "\n",
            "store_data:\n",
            "\n",
            " Store                          0\n",
            "StoreType                      0\n",
            "Assortment                     0\n",
            "CompetitionDistance            3\n",
            "CompetitionOpenSinceMonth    354\n",
            "CompetitionOpenSinceYear     354\n",
            "Promo2                         0\n",
            "Promo2SinceWeek              544\n",
            "Promo2SinceYear              544\n",
            "PromoInterval                544\n",
            "dtype: int64\n"
          ]
        }
      ]
    },
    {
      "cell_type": "markdown",
      "source": [
        "### **replacing missing values with appropriate values**"
      ],
      "metadata": {
        "id": "sRp2sdJLKvsd"
      }
    },
    {
      "cell_type": "code",
      "source": [
        "store_data ['CompetitionOpenSinceMonth'].fillna(store_data['CompetitionOpenSinceMonth'].mode()[0],inplace = True)\n",
        "store_data ['CompetitionOpenSinceYear'].fillna(store_data['CompetitionOpenSinceYear'].mode()[0],inplace = True)\n",
        "store_data ['Promo2SinceWeek'].fillna(0, inplace =True)\n",
        "store_data ['Promo2SinceYear'].fillna(0, inplace =True)\n",
        "store_data ['PromoInterval'].fillna(0, inplace =True)"
      ],
      "metadata": {
        "id": "Zad3EWSzJxCS"
      },
      "execution_count": 393,
      "outputs": []
    },
    {
      "cell_type": "code",
      "source": [
        "# CompetitionDistance is distance in meters to the nearest competitor store\n",
        "# let's first have a look at its distribution\n",
        "sns.distplot(store_data.CompetitionDistance.dropna())\n",
        "plt.title(\"distribution of store competition distance\")"
      ],
      "metadata": {
        "colab": {
          "base_uri": "https://localhost:8080/",
          "height": 312
        },
        "id": "Byz0XJcJgfFG",
        "outputId": "46e56241-ade4-45c5-b2f5-2fcab4836d16"
      },
      "execution_count": 394,
      "outputs": [
        {
          "output_type": "execute_result",
          "data": {
            "text/plain": [
              "Text(0.5, 1.0, 'distribution of store competition distance')"
            ]
          },
          "metadata": {},
          "execution_count": 394
        },
        {
          "output_type": "display_data",
          "data": {
            "text/plain": [
              "<Figure size 432x288 with 1 Axes>"
            ],
            "image/png": "[encoded data removed]"
          },
          "metadata": {}
        }
      ]
    },
    {
      "cell_type": "markdown",
      "source": [
        "The distribution is right skewed, so we'll replace missing values with the median."
      ],
      "metadata": {
        "id": "kCOost6Ygzc8"
      }
    },
    {
      "cell_type": "code",
      "source": [
        "# replace missing values in CompetitionDistance with median for the store dataset\n",
        "store_data.CompetitionDistance.fillna(store_data.CompetitionDistance.median(),inplace=True)"
      ],
      "metadata": {
        "id": "El_ARj5cgwf_"
      },
      "execution_count": 395,
      "outputs": []
    },
    {
      "cell_type": "code",
      "source": [
        "sns.distplot(rossmann_stores_data.Customers.dropna())\n",
        "plt.title(\"distribution of Customers\")"
      ],
      "metadata": {
        "colab": {
          "base_uri": "https://localhost:8080/",
          "height": 312
        },
        "id": "ZlQtPwgkAzWJ",
        "outputId": "0dc0ddb9-6bb1-44fe-de3f-69cadc9511c2"
      },
      "execution_count": 448,
      "outputs": [
        {
          "output_type": "execute_result",
          "data": {
            "text/plain": [
              "Text(0.5, 1.0, 'distribution of Customers')"
            ]
          },
          "metadata": {},
          "execution_count": 448
        },
        {
          "output_type": "display_data",
          "data": {
            "text/plain": [
              "<Figure size 432x288 with 1 Axes>"
            ],
            "image/png": "[encoded data removed]"
          },
          "metadata": {}
        }
      ]
    },
    {
      "cell_type": "code",
      "source": [
        "rossmann_stores_data"
      ],
      "metadata": {
        "colab": {
          "base_uri": "https://localhost:8080/",
          "height": 455
        },
        "id": "7tG1IBKcQ44F",
        "outputId": "479adf64-b937-40c7-b75a-d59bbacbb241"
      },
      "execution_count": 396,
      "outputs": [
        {
          "output_type": "execute_result",
          "data": {
            "text/plain": [
              "            Store  DayOfWeek  Sales  Customers  Open  Promo StateHoliday  \\\n",
              "Date                                                                       \n",
              "2015-07-31      1          5   5263        555     1      1            0   \n",
              "2015-07-31      2          5   6064        625     1      1            0   \n",
              "2015-07-31      3          5   8314        821     1      1            0   \n",
              "2015-07-31      4          5  13995       1498     1      1            0   \n",
              "2015-07-31      5          5   4822        559     1      1            0   \n",
              "...           ...        ...    ...        ...   ...    ...          ...   \n",
              "2013-01-01   1111          2      0          0     0      0            a   \n",
              "2013-01-01   1112          2      0          0     0      0            a   \n",
              "2013-01-01   1113          2      0          0     0      0            a   \n",
              "2013-01-01   1114          2      0          0     0      0            a   \n",
              "2013-01-01   1115          2      0          0     0      0            a   \n",
              "\n",
              "            SchoolHoliday  \n",
              "Date                       \n",
              "2015-07-31              1  \n",
              "2015-07-31              1  \n",
              "2015-07-31              1  \n",
              "2015-07-31              1  \n",
              "2015-07-31              1  \n",
              "...                   ...  \n",
              "2013-01-01              1  \n",
              "2013-01-01              1  \n",
              "2013-01-01              1  \n",
              "2013-01-01              1  \n",
              "2013-01-01              1  \n",
              "\n",
              "[1017209 rows x 8 columns]"
            ],
            "text/html": [
              "\n",
              "  <div id=\"df-cdb8ff12-a0dc-495a-95b3-1acb8713bb6d\">\n",
              "    <div class=\"colab-df-container\">\n",
              "      <div>\n",
              "<style scoped>\n",
              "    .dataframe tbody tr th:only-of-type {\n",
              "        vertical-align: middle;\n",
              "    }\n",
              "\n",
              "    .dataframe tbody tr th {\n",
              "        vertical-align: top;\n",
              "    }\n",
              "\n",
              "    .dataframe thead th {\n",
              "        text-align: right;\n",
              "    }\n",
              "</style>\n",
              "<table border=\"1\" class=\"dataframe\">\n",
              "  <thead>\n",
              "    <tr style=\"text-align: right;\">\n",
              "      <th></th>\n",
              "      <th>Store</th>\n",
              "      <th>DayOfWeek</th>\n",
              "      <th>Sales</th>\n",
              "      <th>Customers</th>\n",
              "      <th>Open</th>\n",
              "      <th>Promo</th>\n",
              "      <th>StateHoliday</th>\n",
              "      <th>SchoolHoliday</th>\n",
              "    </tr>\n",
              "    <tr>\n",
              "      <th>Date</th>\n",
              "      <th></th>\n",
              "      <th></th>\n",
              "      <th></th>\n",
              "      <th></th>\n",
              "      <th></th>\n",
              "      <th></th>\n",
              "      <th></th>\n",
              "      <th></th>\n",
              "    </tr>\n",
              "  </thead>\n",
              "  <tbody>\n",
              "    <tr>\n",
              "      <th>2015-07-31</th>\n",
              "      <td>1</td>\n",
              "      <td>5</td>\n",
              "      <td>5263</td>\n",
              "      <td>555</td>\n",
              "      <td>1</td>\n",
              "      <td>1</td>\n",
              "      <td>0</td>\n",
              "      <td>1</td>\n",
              "    </tr>\n",
              "    <tr>\n",
              "      <th>2015-07-31</th>\n",
              "      <td>2</td>\n",
              "      <td>5</td>\n",
              "      <td>6064</td>\n",
              "      <td>625</td>\n",
              "      <td>1</td>\n",
              "      <td>1</td>\n",
              "      <td>0</td>\n",
              "      <td>1</td>\n",
              "    </tr>\n",
              "    <tr>\n",
              "      <th>2015-07-31</th>\n",
              "      <td>3</td>\n",
              "      <td>5</td>\n",
              "      <td>8314</td>\n",
              "      <td>821</td>\n",
              "      <td>1</td>\n",
              "      <td>1</td>\n",
              "      <td>0</td>\n",
              "      <td>1</td>\n",
              "    </tr>\n",
              "    <tr>\n",
              "      <th>2015-07-31</th>\n",
              "      <td>4</td>\n",
              "      <td>5</td>\n",
              "      <td>13995</td>\n",
              "      <td>1498</td>\n",
              "      <td>1</td>\n",
              "      <td>1</td>\n",
              "      <td>0</td>\n",
              "      <td>1</td>\n",
              "    </tr>\n",
              "    <tr>\n",
              "      <th>2015-07-31</th>\n",
              "      <td>5</td>\n",
              "      <td>5</td>\n",
              "      <td>4822</td>\n",
              "      <td>559</td>\n",
              "      <td>1</td>\n",
              "      <td>1</td>\n",
              "      <td>0</td>\n",
              "      <td>1</td>\n",
              "    </tr>\n",
              "    <tr>\n",
              "      <th>...</th>\n",
              "      <td>...</td>\n",
              "      <td>...</td>\n",
              "      <td>...</td>\n",
              "      <td>...</td>\n",
              "      <td>...</td>\n",
              "      <td>...</td>\n",
              "      <td>...</td>\n",
              "      <td>...</td>\n",
              "    </tr>\n",
              "    <tr>\n",
              "      <th>2013-01-01</th>\n",
              "      <td>1111</td>\n",
              "      <td>2</td>\n",
              "      <td>0</td>\n",
              "      <td>0</td>\n",
              "      <td>0</td>\n",
              "      <td>0</td>\n",
              "      <td>a</td>\n",
              "      <td>1</td>\n",
              "    </tr>\n",
              "    <tr>\n",
              "      <th>2013-01-01</th>\n",
              "      <td>1112</td>\n",
              "      <td>2</td>\n",
              "      <td>0</td>\n",
              "      <td>0</td>\n",
              "      <td>0</td>\n",
              "      <td>0</td>\n",
              "      <td>a</td>\n",
              "      <td>1</td>\n",
              "    </tr>\n",
              "    <tr>\n",
              "      <th>2013-01-01</th>\n",
              "      <td>1113</td>\n",
              "      <td>2</td>\n",
              "      <td>0</td>\n",
              "      <td>0</td>\n",
              "      <td>0</td>\n",
              "      <td>0</td>\n",
              "      <td>a</td>\n",
              "      <td>1</td>\n",
              "    </tr>\n",
              "    <tr>\n",
              "      <th>2013-01-01</th>\n",
              "      <td>1114</td>\n",
              "      <td>2</td>\n",
              "      <td>0</td>\n",
              "      <td>0</td>\n",
              "      <td>0</td>\n",
              "      <td>0</td>\n",
              "      <td>a</td>\n",
              "      <td>1</td>\n",
              "    </tr>\n",
              "    <tr>\n",
              "      <th>2013-01-01</th>\n",
              "      <td>1115</td>\n",
              "      <td>2</td>\n",
              "      <td>0</td>\n",
              "      <td>0</td>\n",
              "      <td>0</td>\n",
              "      <td>0</td>\n",
              "      <td>a</td>\n",
              "      <td>1</td>\n",
              "    </tr>\n",
              "  </tbody>\n",
              "</table>\n",
              "<p>1017209 rows × 8 columns</p>\n",
              "</div>\n",
              "      <button class=\"colab-df-convert\" onclick=\"convertToInteractive('df-cdb8ff12-a0dc-495a-95b3-1acb8713bb6d')\"\n",
              "              title=\"Convert this dataframe to an interactive table.\"\n",
              "              style=\"display:none;\">\n",
              "        \n",
              "  <svg xmlns=\"http://www.w3.org/2000/svg\" height=\"24px\"viewBox=\"0 0 24 24\"\n",
              "       width=\"24px\">\n",
              "    <path d=\"M0 0h24v24H0V0z\" fill=\"none\"/>\n",
              "    <path d=\"M18.56 5.44l.94 2.06.94-2.06 2.06-.94-2.06-.94-.94-2.06-.94 2.06-2.06.94zm-11 1L8.5 8.5l.94-2.06 2.06-.94-2.06-.94L8.5 2.5l-.94 2.06-2.06.94zm10 10l.94 2.06.94-2.06 2.06-.94-2.06-.94-.94-2.06-.94 2.06-2.06.94z\"/><path d=\"M17.41 7.96l-1.37-1.37c-.4-.4-.92-.59-1.43-.59-.52 0-1.04.2-1.43.59L10.3 9.45l-7.72 7.72c-.78.78-.78 2.05 0 2.83L4 21.41c.39.39.9.59 1.41.59.51 0 1.02-.2 1.41-.59l7.78-7.78 2.81-2.81c.8-.78.8-2.07 0-2.86zM5.41 20L4 18.59l7.72-7.72 1.47 1.35L5.41 20z\"/>\n",
              "  </svg>\n",
              "      </button>\n",
              "      \n",
              "  <style>\n",
              "    .colab-df-container {\n",
              "      display:flex;\n",
              "      flex-wrap:wrap;\n",
              "      gap: 12px;\n",
              "    }\n",
              "\n",
              "    .colab-df-convert {\n",
              "      background-color: #E8F0FE;\n",
              "      border: none;\n",
              "      border-radius: 50%;\n",
              "      cursor: pointer;\n",
              "      display: none;\n",
              "      fill: #1967D2;\n",
              "      height: 32px;\n",
              "      padding: 0 0 0 0;\n",
              "      width: 32px;\n",
              "    }\n",
              "\n",
              "    .colab-df-convert:hover {\n",
              "      background-color: #E2EBFA;\n",
              "      box-shadow: 0px 1px 2px rgba(60, 64, 67, 0.3), 0px 1px 3px 1px rgba(60, 64, 67, 0.15);\n",
              "      fill: #174EA6;\n",
              "    }\n",
              "\n",
              "    [theme=dark] .colab-df-convert {\n",
              "      background-color: #3B4455;\n",
              "      fill: #D2E3FC;\n",
              "    }\n",
              "\n",
              "    [theme=dark] .colab-df-convert:hover {\n",
              "      background-color: #434B5C;\n",
              "      box-shadow: 0px 1px 3px 1px rgba(0, 0, 0, 0.15);\n",
              "      filter: drop-shadow(0px 1px 2px rgba(0, 0, 0, 0.3));\n",
              "      fill: #FFFFFF;\n",
              "    }\n",
              "  </style>\n",
              "\n",
              "      <script>\n",
              "        const buttonEl =\n",
              "          document.querySelector('#df-cdb8ff12-a0dc-495a-95b3-1acb8713bb6d button.colab-df-convert');\n",
              "        buttonEl.style.display =\n",
              "          google.colab.kernel.accessAllowed ? 'block' : 'none';\n",
              "\n",
              "        async function convertToInteractive(key) {\n",
              "          const element = document.querySelector('#df-cdb8ff12-a0dc-495a-95b3-1acb8713bb6d');\n",
              "          const dataTable =\n",
              "            await google.colab.kernel.invokeFunction('convertToInteractive',\n",
              "                                                     [key], {});\n",
              "          if (!dataTable) return;\n",
              "\n",
              "          const docLinkHtml = 'Like what you see? Visit the ' +\n",
              "            '<a target=\"_blank\" href=https://colab.research.google.com/notebooks/data_table.ipynb>data table notebook</a>'\n",
              "            + ' to learn more about interactive tables.';\n",
              "          element.innerHTML = '';\n",
              "          dataTable['output_type'] = 'display_data';\n",
              "          await google.colab.output.renderOutput(dataTable, element);\n",
              "          const docLink = document.createElement('div');\n",
              "          docLink.innerHTML = docLinkHtml;\n",
              "          element.appendChild(docLink);\n",
              "        }\n",
              "      </script>\n",
              "    </div>\n",
              "  </div>\n",
              "  "
            ]
          },
          "metadata": {},
          "execution_count": 396
        }
      ]
    },
    {
      "cell_type": "markdown",
      "source": [
        "## **2.3 Date Extraction**"
      ],
      "metadata": {
        "id": "uM0L7bpine-m"
      }
    },
    {
      "cell_type": "code",
      "source": [
        "# extract year, month, day and week of year from \"Date\"\n",
        "rossmann_stores_data['year']=rossmann_stores_data.index.year\n",
        "rossmann_stores_data['month']=rossmann_stores_data.index.month\n",
        "rossmann_stores_data['day'] =rossmann_stores_data.index.day\n",
        "rossmann_stores_data['weekofyear']=rossmann_stores_data.index.weekofyear\n",
        "rossmann_stores_data=rossmann_stores_data.reset_index()"
      ],
      "metadata": {
        "id": "fFcCzlMxndH8"
      },
      "execution_count": 397,
      "outputs": []
    },
    {
      "cell_type": "markdown",
      "source": [
        "\n",
        "## **2.4 Joining Tables**"
      ],
      "metadata": {
        "id": "maCG2Wh7slci"
      }
    },
    {
      "cell_type": "code",
      "source": [
        "final_df=pd.merge(rossmann_stores_data,store_data,how='left',on='Store')\n",
        "final_df.head()"
      ],
      "metadata": {
        "colab": {
          "base_uri": "https://localhost:8080/",
          "height": 386
        },
        "id": "coVTXWuMsesO",
        "outputId": "c2e4675f-a16e-4a6c-89d3-b6eeeab15e13"
      },
      "execution_count": 398,
      "outputs": [
        {
          "output_type": "execute_result",
          "data": {
            "text/plain": [
              "        Date  Store  DayOfWeek  Sales  Customers  Open  Promo StateHoliday  \\\n",
              "0 2015-07-31      1          5   5263        555     1      1            0   \n",
              "1 2015-07-31      2          5   6064        625     1      1            0   \n",
              "2 2015-07-31      3          5   8314        821     1      1            0   \n",
              "3 2015-07-31      4          5  13995       1498     1      1            0   \n",
              "4 2015-07-31      5          5   4822        559     1      1            0   \n",
              "\n",
              "   SchoolHoliday  year  ...  weekofyear  StoreType  Assortment  \\\n",
              "0              1  2015  ...          31          c           a   \n",
              "1              1  2015  ...          31          a           a   \n",
              "2              1  2015  ...          31          a           a   \n",
              "3              1  2015  ...          31          c           c   \n",
              "4              1  2015  ...          31          a           a   \n",
              "\n",
              "  CompetitionDistance CompetitionOpenSinceMonth  CompetitionOpenSinceYear  \\\n",
              "0              1270.0                       9.0                    2008.0   \n",
              "1               570.0                      11.0                    2007.0   \n",
              "2             14130.0                      12.0                    2006.0   \n",
              "3               620.0                       9.0                    2009.0   \n",
              "4             29910.0                       4.0                    2015.0   \n",
              "\n",
              "   Promo2  Promo2SinceWeek  Promo2SinceYear    PromoInterval  \n",
              "0       0              0.0              0.0                0  \n",
              "1       1             13.0           2010.0  Jan,Apr,Jul,Oct  \n",
              "2       1             14.0           2011.0  Jan,Apr,Jul,Oct  \n",
              "3       0              0.0              0.0                0  \n",
              "4       0              0.0              0.0                0  \n",
              "\n",
              "[5 rows x 22 columns]"
            ],
            "text/html": [
              "\n",
              "  <div id=\"df-1a03dbae-470c-4671-a8f6-1d15b1711604\">\n",
              "    <div class=\"colab-df-container\">\n",
              "      <div>\n",
              "<style scoped>\n",
              "    .dataframe tbody tr th:only-of-type {\n",
              "        vertical-align: middle;\n",
              "    }\n",
              "\n",
              "    .dataframe tbody tr th {\n",
              "        vertical-align: top;\n",
              "    }\n",
              "\n",
              "    .dataframe thead th {\n",
              "        text-align: right;\n",
              "    }\n",
              "</style>\n",
              "<table border=\"1\" class=\"dataframe\">\n",
              "  <thead>\n",
              "    <tr style=\"text-align: right;\">\n",
              "      <th></th>\n",
              "      <th>Date</th>\n",
              "      <th>Store</th>\n",
              "      <th>DayOfWeek</th>\n",
              "      <th>Sales</th>\n",
              "      <th>Customers</th>\n",
              "      <th>Open</th>\n",
              "      <th>Promo</th>\n",
              "      <th>StateHoliday</th>\n",
              "      <th>SchoolHoliday</th>\n",
              "      <th>year</th>\n",
              "      <th>...</th>\n",
              "      <th>weekofyear</th>\n",
              "      <th>StoreType</th>\n",
              "      <th>Assortment</th>\n",
              "      <th>CompetitionDistance</th>\n",
              "      <th>CompetitionOpenSinceMonth</th>\n",
              "      <th>CompetitionOpenSinceYear</th>\n",
              "      <th>Promo2</th>\n",
              "      <th>Promo2SinceWeek</th>\n",
              "      <th>Promo2SinceYear</th>\n",
              "      <th>PromoInterval</th>\n",
              "    </tr>\n",
              "  </thead>\n",
              "  <tbody>\n",
              "    <tr>\n",
              "      <th>0</th>\n",
              "      <td>2015-07-31</td>\n",
              "      <td>1</td>\n",
              "      <td>5</td>\n",
              "      <td>5263</td>\n",
              "      <td>555</td>\n",
              "      <td>1</td>\n",
              "      <td>1</td>\n",
              "      <td>0</td>\n",
              "      <td>1</td>\n",
              "      <td>2015</td>\n",
              "      <td>...</td>\n",
              "      <td>31</td>\n",
              "      <td>c</td>\n",
              "      <td>a</td>\n",
              "      <td>1270.0</td>\n",
              "      <td>9.0</td>\n",
              "      <td>2008.0</td>\n",
              "      <td>0</td>\n",
              "      <td>0.0</td>\n",
              "      <td>0.0</td>\n",
              "      <td>0</td>\n",
              "    </tr>\n",
              "    <tr>\n",
              "      <th>1</th>\n",
              "      <td>2015-07-31</td>\n",
              "      <td>2</td>\n",
              "      <td>5</td>\n",
              "      <td>6064</td>\n",
              "      <td>625</td>\n",
              "      <td>1</td>\n",
              "      <td>1</td>\n",
              "      <td>0</td>\n",
              "      <td>1</td>\n",
              "      <td>2015</td>\n",
              "      <td>...</td>\n",
              "      <td>31</td>\n",
              "      <td>a</td>\n",
              "      <td>a</td>\n",
              "      <td>570.0</td>\n",
              "      <td>11.0</td>\n",
              "      <td>2007.0</td>\n",
              "      <td>1</td>\n",
              "      <td>13.0</td>\n",
              "      <td>2010.0</td>\n",
              "      <td>Jan,Apr,Jul,Oct</td>\n",
              "    </tr>\n",
              "    <tr>\n",
              "      <th>2</th>\n",
              "      <td>2015-07-31</td>\n",
              "      <td>3</td>\n",
              "      <td>5</td>\n",
              "      <td>8314</td>\n",
              "      <td>821</td>\n",
              "      <td>1</td>\n",
              "      <td>1</td>\n",
              "      <td>0</td>\n",
              "      <td>1</td>\n",
              "      <td>2015</td>\n",
              "      <td>...</td>\n",
              "      <td>31</td>\n",
              "      <td>a</td>\n",
              "      <td>a</td>\n",
              "      <td>14130.0</td>\n",
              "      <td>12.0</td>\n",
              "      <td>2006.0</td>\n",
              "      <td>1</td>\n",
              "      <td>14.0</td>\n",
              "      <td>2011.0</td>\n",
              "      <td>Jan,Apr,Jul,Oct</td>\n",
              "    </tr>\n",
              "    <tr>\n",
              "      <th>3</th>\n",
              "      <td>2015-07-31</td>\n",
              "      <td>4</td>\n",
              "      <td>5</td>\n",
              "      <td>13995</td>\n",
              "      <td>1498</td>\n",
              "      <td>1</td>\n",
              "      <td>1</td>\n",
              "      <td>0</td>\n",
              "      <td>1</td>\n",
              "      <td>2015</td>\n",
              "      <td>...</td>\n",
              "      <td>31</td>\n",
              "      <td>c</td>\n",
              "      <td>c</td>\n",
              "      <td>620.0</td>\n",
              "      <td>9.0</td>\n",
              "      <td>2009.0</td>\n",
              "      <td>0</td>\n",
              "      <td>0.0</td>\n",
              "      <td>0.0</td>\n",
              "      <td>0</td>\n",
              "    </tr>\n",
              "    <tr>\n",
              "      <th>4</th>\n",
              "      <td>2015-07-31</td>\n",
              "      <td>5</td>\n",
              "      <td>5</td>\n",
              "      <td>4822</td>\n",
              "      <td>559</td>\n",
              "      <td>1</td>\n",
              "      <td>1</td>\n",
              "      <td>0</td>\n",
              "      <td>1</td>\n",
              "      <td>2015</td>\n",
              "      <td>...</td>\n",
              "      <td>31</td>\n",
              "      <td>a</td>\n",
              "      <td>a</td>\n",
              "      <td>29910.0</td>\n",
              "      <td>4.0</td>\n",
              "      <td>2015.0</td>\n",
              "      <td>0</td>\n",
              "      <td>0.0</td>\n",
              "      <td>0.0</td>\n",
              "      <td>0</td>\n",
              "    </tr>\n",
              "  </tbody>\n",
              "</table>\n",
              "<p>5 rows × 22 columns</p>\n",
              "</div>\n",
              "      <button class=\"colab-df-convert\" onclick=\"convertToInteractive('df-1a03dbae-470c-4671-a8f6-1d15b1711604')\"\n",
              "              title=\"Convert this dataframe to an interactive table.\"\n",
              "              style=\"display:none;\">\n",
              "        \n",
              "  <svg xmlns=\"http://www.w3.org/2000/svg\" height=\"24px\"viewBox=\"0 0 24 24\"\n",
              "       width=\"24px\">\n",
              "    <path d=\"M0 0h24v24H0V0z\" fill=\"none\"/>\n",
              "    <path d=\"M18.56 5.44l.94 2.06.94-2.06 2.06-.94-2.06-.94-.94-2.06-.94 2.06-2.06.94zm-11 1L8.5 8.5l.94-2.06 2.06-.94-2.06-.94L8.5 2.5l-.94 2.06-2.06.94zm10 10l.94 2.06.94-2.06 2.06-.94-2.06-.94-.94-2.06-.94 2.06-2.06.94z\"/><path d=\"M17.41 7.96l-1.37-1.37c-.4-.4-.92-.59-1.43-.59-.52 0-1.04.2-1.43.59L10.3 9.45l-7.72 7.72c-.78.78-.78 2.05 0 2.83L4 21.41c.39.39.9.59 1.41.59.51 0 1.02-.2 1.41-.59l7.78-7.78 2.81-2.81c.8-.78.8-2.07 0-2.86zM5.41 20L4 18.59l7.72-7.72 1.47 1.35L5.41 20z\"/>\n",
              "  </svg>\n",
              "      </button>\n",
              "      \n",
              "  <style>\n",
              "    .colab-df-container {\n",
              "      display:flex;\n",
              "      flex-wrap:wrap;\n",
              "      gap: 12px;\n",
              "    }\n",
              "\n",
              "    .colab-df-convert {\n",
              "      background-color: #E8F0FE;\n",
              "      border: none;\n",
              "      border-radius: 50%;\n",
              "      cursor: pointer;\n",
              "      display: none;\n",
              "      fill: #1967D2;\n",
              "      height: 32px;\n",
              "      padding: 0 0 0 0;\n",
              "      width: 32px;\n",
              "    }\n",
              "\n",
              "    .colab-df-convert:hover {\n",
              "      background-color: #E2EBFA;\n",
              "      box-shadow: 0px 1px 2px rgba(60, 64, 67, 0.3), 0px 1px 3px 1px rgba(60, 64, 67, 0.15);\n",
              "      fill: #174EA6;\n",
              "    }\n",
              "\n",
              "    [theme=dark] .colab-df-convert {\n",
              "      background-color: #3B4455;\n",
              "      fill: #D2E3FC;\n",
              "    }\n",
              "\n",
              "    [theme=dark] .colab-df-convert:hover {\n",
              "      background-color: #434B5C;\n",
              "      box-shadow: 0px 1px 3px 1px rgba(0, 0, 0, 0.15);\n",
              "      filter: drop-shadow(0px 1px 2px rgba(0, 0, 0, 0.3));\n",
              "      fill: #FFFFFF;\n",
              "    }\n",
              "  </style>\n",
              "\n",
              "      <script>\n",
              "        const buttonEl =\n",
              "          document.querySelector('#df-1a03dbae-470c-4671-a8f6-1d15b1711604 button.colab-df-convert');\n",
              "        buttonEl.style.display =\n",
              "          google.colab.kernel.accessAllowed ? 'block' : 'none';\n",
              "\n",
              "        async function convertToInteractive(key) {\n",
              "          const element = document.querySelector('#df-1a03dbae-470c-4671-a8f6-1d15b1711604');\n",
              "          const dataTable =\n",
              "            await google.colab.kernel.invokeFunction('convertToInteractive',\n",
              "                                                     [key], {});\n",
              "          if (!dataTable) return;\n",
              "\n",
              "          const docLinkHtml = 'Like what you see? Visit the ' +\n",
              "            '<a target=\"_blank\" href=https://colab.research.google.com/notebooks/data_table.ipynb>data table notebook</a>'\n",
              "            + ' to learn more about interactive tables.';\n",
              "          element.innerHTML = '';\n",
              "          dataTable['output_type'] = 'display_data';\n",
              "          await google.colab.output.renderOutput(dataTable, element);\n",
              "          const docLink = document.createElement('div');\n",
              "          docLink.innerHTML = docLinkHtml;\n",
              "          element.appendChild(docLink);\n",
              "        }\n",
              "      </script>\n",
              "    </div>\n",
              "  </div>\n",
              "  "
            ]
          },
          "metadata": {},
          "execution_count": 398
        }
      ]
    },
    {
      "cell_type": "code",
      "source": [
        "len(final_df)"
      ],
      "metadata": {
        "colab": {
          "base_uri": "https://localhost:8080/"
        },
        "id": "uxqmMq2etch7",
        "outputId": "6250a4fe-8a42-4e4a-b4fd-c3acaf810030"
      },
      "execution_count": 399,
      "outputs": [
        {
          "output_type": "execute_result",
          "data": {
            "text/plain": [
              "1017209"
            ]
          },
          "metadata": {},
          "execution_count": 399
        }
      ]
    },
    {
      "cell_type": "code",
      "source": [],
      "metadata": {
        "id": "XAy7IPGvsnm7"
      },
      "execution_count": 399,
      "outputs": []
    },
    {
      "cell_type": "markdown",
      "source": [
        "### **Removing zero sale entries**"
      ],
      "metadata": {
        "id": "jsQuQuuhtoP3"
      }
    },
    {
      "cell_type": "code",
      "source": [
        "# where stores are closed, they won't generate sales, so we will remove this part of the dataset\n",
        "final_df=final_df[final_df.Open!=0]"
      ],
      "metadata": {
        "id": "y99n2cvNti-f"
      },
      "execution_count": 400,
      "outputs": []
    },
    {
      "cell_type": "code",
      "source": [
        "# Open isn't a variable anymore, so we'll drop it\n",
        "#del df['Open']\n",
        "final_df=final_df.drop('Open', axis=1)"
      ],
      "metadata": {
        "id": "xnCh_fp-uZlj"
      },
      "execution_count": 401,
      "outputs": []
    },
    {
      "cell_type": "code",
      "source": [
        "# see if there's any opened store with zero sales\n",
        "final_df[final_df.Sales==0]['Store'].sum()"
      ],
      "metadata": {
        "colab": {
          "base_uri": "https://localhost:8080/"
        },
        "id": "dx-qgpI6vJMb",
        "outputId": "27b5887c-34e2-415c-80ac-e24baebb4c05"
      },
      "execution_count": 402,
      "outputs": [
        {
          "output_type": "execute_result",
          "data": {
            "text/plain": [
              "31460"
            ]
          },
          "metadata": {},
          "execution_count": 402
        }
      ]
    },
    {
      "cell_type": "code",
      "source": [
        "# see the percentage of open stored with zero sales\n",
        "final_df[final_df.Sales==0]['Sales'].sum()/final_df.Sales.sum()"
      ],
      "metadata": {
        "colab": {
          "base_uri": "https://localhost:8080/"
        },
        "id": "QZRG0ReBv-Yr",
        "outputId": "f9cc8767-3567-4c70-bb64-b13576edf555"
      },
      "execution_count": 403,
      "outputs": [
        {
          "output_type": "execute_result",
          "data": {
            "text/plain": [
              "0.0"
            ]
          },
          "metadata": {},
          "execution_count": 403
        }
      ]
    },
    {
      "cell_type": "code",
      "source": [
        "# remove this part of data to avoid bias\n",
        "final_df=final_df[final_df.Sales!=0]"
      ],
      "metadata": {
        "id": "I26sJHcDwmlv"
      },
      "execution_count": 409,
      "outputs": []
    },
    {
      "cell_type": "code",
      "source": [],
      "metadata": {
        "id": "CwHVsNUxdbFl"
      },
      "execution_count": 409,
      "outputs": []
    },
    {
      "cell_type": "markdown",
      "source": [
        "##**EDA**"
      ],
      "metadata": {
        "id": "RFVQkdVak28A"
      }
    },
    {
      "cell_type": "markdown",
      "source": [
        "#### **heat map for correlation**"
      ],
      "metadata": {
        "id": "YATI6MG8dPFa"
      }
    },
    {
      "cell_type": "code",
      "source": [
        "#for correlation matrix\n",
        "plt.figure(figsize=(17,7))\n",
        "sns.heatmap(final_df.corr(),annot=True)"
      ],
      "metadata": {
        "colab": {
          "base_uri": "https://localhost:8080/",
          "height": 585
        },
        "id": "Wlb9WQ5ndKYU",
        "outputId": "fb83c2b4-0319-4d91-8487-ee13a0418711"
      },
      "execution_count": 416,
      "outputs": [
        {
          "output_type": "execute_result",
          "data": {
            "text/plain": [
              "<matplotlib.axes._subplots.AxesSubplot at 0x7f21e82f00d0>"
            ]
          },
          "metadata": {},
          "execution_count": 416
        },
        {
          "output_type": "display_data",
          "data": {
            "text/plain": [
              "<Figure size 1224x504 with 2 Axes>"
            ],
            "image/png": "[encoded data removed]"
          },
          "metadata": {}
        }
      ]
    },
    {
      "cell_type": "code",
      "source": [
        "fig, ax = plt.subplots(figsize=(20, 8));\n",
        "sns.boxplot(data = final_df, x = \"month\", y = \"Sales\", ax=ax)"
      ],
      "metadata": {
        "colab": {
          "base_uri": "https://localhost:8080/",
          "height": 514
        },
        "id": "4YIXv4sXVhta",
        "outputId": "38d4b955-11ff-476b-aec7-cde0e4962c44"
      },
      "execution_count": 411,
      "outputs": [
        {
          "output_type": "execute_result",
          "data": {
            "text/plain": [
              "<matplotlib.axes._subplots.AxesSubplot at 0x7f21e8197950>"
            ]
          },
          "metadata": {},
          "execution_count": 411
        },
        {
          "output_type": "display_data",
          "data": {
            "text/plain": [
              "<Figure size 1440x576 with 1 Axes>"
            ],
            "image/png": "[encoded data removed]"
          },
          "metadata": {}
        }
      ]
    },
    {
      "cell_type": "code",
      "source": [
        "fig, ax = plt.subplots(figsize=(20, 8));\n",
        "sns.barplot(data = final_df, x = \"day\", y = \"Sales\", ax=ax)\n"
      ],
      "metadata": {
        "colab": {
          "base_uri": "https://localhost:8080/",
          "height": 514
        },
        "id": "W2jerV1UWrIg",
        "outputId": "0b095942-4679-4cd8-f360-db437e4c3d73"
      },
      "execution_count": 412,
      "outputs": [
        {
          "output_type": "execute_result",
          "data": {
            "text/plain": [
              "<matplotlib.axes._subplots.AxesSubplot at 0x7f21e7e4de50>"
            ]
          },
          "metadata": {},
          "execution_count": 412
        },
        {
          "output_type": "display_data",
          "data": {
            "text/plain": [
              "<Figure size 1440x576 with 1 Axes>"
            ],
            "image/png": "[encoded data removed]"
          },
          "metadata": {}
        }
      ]
    },
    {
      "cell_type": "code",
      "source": [],
      "metadata": {
        "id": "NYW-1jmca1Xw"
      },
      "execution_count": 412,
      "outputs": []
    },
    {
      "cell_type": "markdown",
      "source": [
        "Day of week v/s sales"
      ],
      "metadata": {
        "id": "3yXXSez1kSuC"
      }
    },
    {
      "cell_type": "code",
      "source": [
        "#catplot\n",
        "sns.catplot(data=final_df,x='DayOfWeek',y='Sales')"
      ],
      "metadata": {
        "id": "9QekpvwbkknR",
        "colab": {
          "base_uri": "https://localhost:8080/",
          "height": 386
        },
        "outputId": "cc86a398-b07c-4b91-8500-46c35524267e"
      },
      "execution_count": 413,
      "outputs": [
        {
          "output_type": "execute_result",
          "data": {
            "text/plain": [
              "<seaborn.axisgrid.FacetGrid at 0x7f21e7f87c50>"
            ]
          },
          "metadata": {},
          "execution_count": 413
        },
        {
          "output_type": "display_data",
          "data": {
            "text/plain": [
              "<Figure size 360x360 with 1 Axes>"
            ],
            "image/png": "[encoded data removed]"
          },
          "metadata": {}
        }
      ]
    },
    {
      "cell_type": "code",
      "source": [
        "# DayOfWeek vs Sales\n",
        "fig, ax = plt.subplots(figsize=(15,10))\n",
        "sns.barplot(x=\"DayOfWeek\", y=\"Sales\", data=final_df)\n",
        "# => Sunday sales is low"
      ],
      "metadata": {
        "colab": {
          "base_uri": "https://localhost:8080/",
          "height": 623
        },
        "id": "76shJzmjc6id",
        "outputId": "c8b73e51-8695-46d4-dde6-4a1f9bc996ea"
      },
      "execution_count": 414,
      "outputs": [
        {
          "output_type": "execute_result",
          "data": {
            "text/plain": [
              "<matplotlib.axes._subplots.AxesSubplot at 0x7f21e8365850>"
            ]
          },
          "metadata": {},
          "execution_count": 414
        },
        {
          "output_type": "display_data",
          "data": {
            "text/plain": [
              "<Figure size 1080x720 with 1 Axes>"
            ],
            "image/png": "[encoded data removed]"
          },
          "metadata": {}
        }
      ]
    },
    {
      "cell_type": "code",
      "source": [],
      "metadata": {
        "id": "oAI3tRyDdoQG"
      },
      "execution_count": 414,
      "outputs": []
    },
    {
      "cell_type": "markdown",
      "metadata": {
        "id": "ZNQX2O7q0_FR"
      },
      "source": [
        "## **visualization**"
      ]
    },
    {
      "cell_type": "code",
      "source": [
        "ax = sns.countplot(final_df['StoreType'])"
      ],
      "metadata": {
        "id": "_nSJijY60xiL",
        "colab": {
          "base_uri": "https://localhost:8080/",
          "height": 279
        },
        "outputId": "77d8fa2c-0a81-43f8-de12-2f75a226b437"
      },
      "execution_count": 314,
      "outputs": [
        {
          "output_type": "display_data",
          "data": {
            "text/plain": [
              "<Figure size 432x288 with 1 Axes>"
            ],
            "image/png": "[encoded data removed]"
          },
          "metadata": {}
        }
      ]
    },
    {
      "cell_type": "code",
      "source": [
        "ax = sns.countplot(final_df['Assortment'])"
      ],
      "metadata": {
        "id": "jPp1HTRq2AEH",
        "colab": {
          "base_uri": "https://localhost:8080/",
          "height": 279
        },
        "outputId": "124ff806-eace-4fcf-e8aa-b66581e8ceb3"
      },
      "execution_count": 315,
      "outputs": [
        {
          "output_type": "display_data",
          "data": {
            "text/plain": [
              "<Figure size 432x288 with 1 Axes>"
            ],
            "image/png": "[encoded data removed]"
          },
          "metadata": {}
        }
      ]
    },
    {
      "cell_type": "code",
      "source": [
        "plt.figure(figsize=(12,6))\n",
        "sns.lineplot(x='StoreType',y='Sales',data=final_df)"
      ],
      "metadata": {
        "id": "O96e_tgc3o6J",
        "colab": {
          "base_uri": "https://localhost:8080/",
          "height": 405
        },
        "outputId": "e6689cc8-4427-4750-ec0e-d89dbe33c021"
      },
      "execution_count": 316,
      "outputs": [
        {
          "output_type": "execute_result",
          "data": {
            "text/plain": [
              "<matplotlib.axes._subplots.AxesSubplot at 0x7f21e9ee2510>"
            ]
          },
          "metadata": {},
          "execution_count": 316
        },
        {
          "output_type": "display_data",
          "data": {
            "text/plain": [
              "<Figure size 864x432 with 1 Axes>"
            ],
            "image/png": "[encoded data removed]"
          },
          "metadata": {}
        }
      ]
    },
    {
      "cell_type": "code",
      "source": [
        "bplt1=final_df.groupby(['Assortment'])['Sales'].mean().plot.bar(figsize=(15,5))"
      ],
      "metadata": {
        "id": "qdfX0Diu4hEC",
        "colab": {
          "base_uri": "https://localhost:8080/",
          "height": 330
        },
        "outputId": "5b480665-f24b-4fb8-a428-e99e294002e0"
      },
      "execution_count": 317,
      "outputs": [
        {
          "output_type": "display_data",
          "data": {
            "text/plain": [
              "<Figure size 1080x360 with 1 Axes>"
            ],
            "image/png": "[encoded data removed]"
          },
          "metadata": {}
        }
      ]
    },
    {
      "cell_type": "code",
      "source": [
        "#Customers vs Sales\n",
        "sns.relplot(data=final_df, x='Customers',y='Sales')"
      ],
      "metadata": {
        "colab": {
          "base_uri": "https://localhost:8080/",
          "height": 386
        },
        "id": "QpiJxMCIcr9N",
        "outputId": "2c47ce11-0ca5-4610-d6c3-56bbba698a52"
      },
      "execution_count": 318,
      "outputs": [
        {
          "output_type": "execute_result",
          "data": {
            "text/plain": [
              "<seaborn.axisgrid.FacetGrid at 0x7f21eab006d0>"
            ]
          },
          "metadata": {},
          "execution_count": 318
        },
        {
          "output_type": "display_data",
          "data": {
            "text/plain": [
              "<Figure size 360x360 with 1 Axes>"
            ],
            "image/png": "[encoded data removed]"
          },
          "metadata": {}
        }
      ]
    },
    {
      "cell_type": "markdown",
      "source": [
        "**disrtibution of sales**"
      ],
      "metadata": {
        "id": "4v5sLrMk3GTg"
      }
    },
    {
      "cell_type": "code",
      "source": [
        "plt.figure(figsize=(7,7))\n",
        "sns.distplot(final_df['Sales'],color=\"y\")"
      ],
      "metadata": {
        "id": "J4KyYTXNehuj",
        "colab": {
          "base_uri": "https://localhost:8080/",
          "height": 459
        },
        "outputId": "07e400ce-5d99-4e5e-8e34-06f245e3fcf3"
      },
      "execution_count": 319,
      "outputs": [
        {
          "output_type": "execute_result",
          "data": {
            "text/plain": [
              "<matplotlib.axes._subplots.AxesSubplot at 0x7f21eb7fb1d0>"
            ]
          },
          "metadata": {},
          "execution_count": 319
        },
        {
          "output_type": "display_data",
          "data": {
            "text/plain": [
              "<Figure size 504x504 with 1 Axes>"
            ],
            "image/png": "[encoded data removed]"
          },
          "metadata": {}
        }
      ]
    },
    {
      "cell_type": "code",
      "source": [],
      "metadata": {
        "id": "a29lD96v-Mhm"
      },
      "execution_count": 319,
      "outputs": []
    },
    {
      "cell_type": "markdown",
      "source": [
        "# **Feature Engineering**"
      ],
      "metadata": {
        "id": "vyLsHJYcxA7Y"
      }
    },
    {
      "cell_type": "code",
      "source": [
        "# make a copy in case I mess up anything \n",
        "df=final_df.copy()"
      ],
      "metadata": {
        "id": "GgpO8s0hBEg4"
      },
      "execution_count": 320,
      "outputs": []
    },
    {
      "cell_type": "code",
      "source": [
        "df.head()"
      ],
      "metadata": {
        "id": "_Rv9jOoeQLII",
        "colab": {
          "base_uri": "https://localhost:8080/",
          "height": 386
        },
        "outputId": "1ab9f587-7fff-4ba8-b026-a3717ef9bc06"
      },
      "execution_count": 321,
      "outputs": [
        {
          "output_type": "execute_result",
          "data": {
            "text/plain": [
              "        Date  Store  DayOfWeek  Sales  Customers  Promo StateHoliday  \\\n",
              "0 2015-07-31      1          5   5263        555      1            0   \n",
              "1 2015-07-31      2          5   6064        625      1            0   \n",
              "2 2015-07-31      3          5   8314        821      1            0   \n",
              "3 2015-07-31      4          5  13995       1498      1            0   \n",
              "4 2015-07-31      5          5   4822        559      1            0   \n",
              "\n",
              "   SchoolHoliday  year  month  ...  weekofyear  StoreType Assortment  \\\n",
              "0              1  2015      7  ...          31          c          a   \n",
              "1              1  2015      7  ...          31          a          a   \n",
              "2              1  2015      7  ...          31          a          a   \n",
              "3              1  2015      7  ...          31          c          c   \n",
              "4              1  2015      7  ...          31          a          a   \n",
              "\n",
              "  CompetitionDistance  CompetitionOpenSinceMonth  CompetitionOpenSinceYear  \\\n",
              "0              1270.0                        9.0                    2008.0   \n",
              "1               570.0                       11.0                    2007.0   \n",
              "2             14130.0                       12.0                    2006.0   \n",
              "3               620.0                        9.0                    2009.0   \n",
              "4             29910.0                        4.0                    2015.0   \n",
              "\n",
              "   Promo2  Promo2SinceWeek  Promo2SinceYear    PromoInterval  \n",
              "0       0              0.0              0.0                0  \n",
              "1       1             13.0           2010.0  Jan,Apr,Jul,Oct  \n",
              "2       1             14.0           2011.0  Jan,Apr,Jul,Oct  \n",
              "3       0              0.0              0.0                0  \n",
              "4       0              0.0              0.0                0  \n",
              "\n",
              "[5 rows x 21 columns]"
            ],
            "text/html": [
              "\n",
              "  <div id=\"df-a570a255-95c8-4cf5-aaa7-77125406b71b\">\n",
              "    <div class=\"colab-df-container\">\n",
              "      <div>\n",
              "<style scoped>\n",
              "    .dataframe tbody tr th:only-of-type {\n",
              "        vertical-align: middle;\n",
              "    }\n",
              "\n",
              "    .dataframe tbody tr th {\n",
              "        vertical-align: top;\n",
              "    }\n",
              "\n",
              "    .dataframe thead th {\n",
              "        text-align: right;\n",
              "    }\n",
              "</style>\n",
              "<table border=\"1\" class=\"dataframe\">\n",
              "  <thead>\n",
              "    <tr style=\"text-align: right;\">\n",
              "      <th></th>\n",
              "      <th>Date</th>\n",
              "      <th>Store</th>\n",
              "      <th>DayOfWeek</th>\n",
              "      <th>Sales</th>\n",
              "      <th>Customers</th>\n",
              "      <th>Promo</th>\n",
              "      <th>StateHoliday</th>\n",
              "      <th>SchoolHoliday</th>\n",
              "      <th>year</th>\n",
              "      <th>month</th>\n",
              "      <th>...</th>\n",
              "      <th>weekofyear</th>\n",
              "      <th>StoreType</th>\n",
              "      <th>Assortment</th>\n",
              "      <th>CompetitionDistance</th>\n",
              "      <th>CompetitionOpenSinceMonth</th>\n",
              "      <th>CompetitionOpenSinceYear</th>\n",
              "      <th>Promo2</th>\n",
              "      <th>Promo2SinceWeek</th>\n",
              "      <th>Promo2SinceYear</th>\n",
              "      <th>PromoInterval</th>\n",
              "    </tr>\n",
              "  </thead>\n",
              "  <tbody>\n",
              "    <tr>\n",
              "      <th>0</th>\n",
              "      <td>2015-07-31</td>\n",
              "      <td>1</td>\n",
              "      <td>5</td>\n",
              "      <td>5263</td>\n",
              "      <td>555</td>\n",
              "      <td>1</td>\n",
              "      <td>0</td>\n",
              "      <td>1</td>\n",
              "      <td>2015</td>\n",
              "      <td>7</td>\n",
              "      <td>...</td>\n",
              "      <td>31</td>\n",
              "      <td>c</td>\n",
              "      <td>a</td>\n",
              "      <td>1270.0</td>\n",
              "      <td>9.0</td>\n",
              "      <td>2008.0</td>\n",
              "      <td>0</td>\n",
              "      <td>0.0</td>\n",
              "      <td>0.0</td>\n",
              "      <td>0</td>\n",
              "    </tr>\n",
              "    <tr>\n",
              "      <th>1</th>\n",
              "      <td>2015-07-31</td>\n",
              "      <td>2</td>\n",
              "      <td>5</td>\n",
              "      <td>6064</td>\n",
              "      <td>625</td>\n",
              "      <td>1</td>\n",
              "      <td>0</td>\n",
              "      <td>1</td>\n",
              "      <td>2015</td>\n",
              "      <td>7</td>\n",
              "      <td>...</td>\n",
              "      <td>31</td>\n",
              "      <td>a</td>\n",
              "      <td>a</td>\n",
              "      <td>570.0</td>\n",
              "      <td>11.0</td>\n",
              "      <td>2007.0</td>\n",
              "      <td>1</td>\n",
              "      <td>13.0</td>\n",
              "      <td>2010.0</td>\n",
              "      <td>Jan,Apr,Jul,Oct</td>\n",
              "    </tr>\n",
              "    <tr>\n",
              "      <th>2</th>\n",
              "      <td>2015-07-31</td>\n",
              "      <td>3</td>\n",
              "      <td>5</td>\n",
              "      <td>8314</td>\n",
              "      <td>821</td>\n",
              "      <td>1</td>\n",
              "      <td>0</td>\n",
              "      <td>1</td>\n",
              "      <td>2015</td>\n",
              "      <td>7</td>\n",
              "      <td>...</td>\n",
              "      <td>31</td>\n",
              "      <td>a</td>\n",
              "      <td>a</td>\n",
              "      <td>14130.0</td>\n",
              "      <td>12.0</td>\n",
              "      <td>2006.0</td>\n",
              "      <td>1</td>\n",
              "      <td>14.0</td>\n",
              "      <td>2011.0</td>\n",
              "      <td>Jan,Apr,Jul,Oct</td>\n",
              "    </tr>\n",
              "    <tr>\n",
              "      <th>3</th>\n",
              "      <td>2015-07-31</td>\n",
              "      <td>4</td>\n",
              "      <td>5</td>\n",
              "      <td>13995</td>\n",
              "      <td>1498</td>\n",
              "      <td>1</td>\n",
              "      <td>0</td>\n",
              "      <td>1</td>\n",
              "      <td>2015</td>\n",
              "      <td>7</td>\n",
              "      <td>...</td>\n",
              "      <td>31</td>\n",
              "      <td>c</td>\n",
              "      <td>c</td>\n",
              "      <td>620.0</td>\n",
              "      <td>9.0</td>\n",
              "      <td>2009.0</td>\n",
              "      <td>0</td>\n",
              "      <td>0.0</td>\n",
              "      <td>0.0</td>\n",
              "      <td>0</td>\n",
              "    </tr>\n",
              "    <tr>\n",
              "      <th>4</th>\n",
              "      <td>2015-07-31</td>\n",
              "      <td>5</td>\n",
              "      <td>5</td>\n",
              "      <td>4822</td>\n",
              "      <td>559</td>\n",
              "      <td>1</td>\n",
              "      <td>0</td>\n",
              "      <td>1</td>\n",
              "      <td>2015</td>\n",
              "      <td>7</td>\n",
              "      <td>...</td>\n",
              "      <td>31</td>\n",
              "      <td>a</td>\n",
              "      <td>a</td>\n",
              "      <td>29910.0</td>\n",
              "      <td>4.0</td>\n",
              "      <td>2015.0</td>\n",
              "      <td>0</td>\n",
              "      <td>0.0</td>\n",
              "      <td>0.0</td>\n",
              "      <td>0</td>\n",
              "    </tr>\n",
              "  </tbody>\n",
              "</table>\n",
              "<p>5 rows × 21 columns</p>\n",
              "</div>\n",
              "      <button class=\"colab-df-convert\" onclick=\"convertToInteractive('df-a570a255-95c8-4cf5-aaa7-77125406b71b')\"\n",
              "              title=\"Convert this dataframe to an interactive table.\"\n",
              "              style=\"display:none;\">\n",
              "        \n",
              "  <svg xmlns=\"http://www.w3.org/2000/svg\" height=\"24px\"viewBox=\"0 0 24 24\"\n",
              "       width=\"24px\">\n",
              "    <path d=\"M0 0h24v24H0V0z\" fill=\"none\"/>\n",
              "    <path d=\"M18.56 5.44l.94 2.06.94-2.06 2.06-.94-2.06-.94-.94-2.06-.94 2.06-2.06.94zm-11 1L8.5 8.5l.94-2.06 2.06-.94-2.06-.94L8.5 2.5l-.94 2.06-2.06.94zm10 10l.94 2.06.94-2.06 2.06-.94-2.06-.94-.94-2.06-.94 2.06-2.06.94z\"/><path d=\"M17.41 7.96l-1.37-1.37c-.4-.4-.92-.59-1.43-.59-.52 0-1.04.2-1.43.59L10.3 9.45l-7.72 7.72c-.78.78-.78 2.05 0 2.83L4 21.41c.39.39.9.59 1.41.59.51 0 1.02-.2 1.41-.59l7.78-7.78 2.81-2.81c.8-.78.8-2.07 0-2.86zM5.41 20L4 18.59l7.72-7.72 1.47 1.35L5.41 20z\"/>\n",
              "  </svg>\n",
              "      </button>\n",
              "      \n",
              "  <style>\n",
              "    .colab-df-container {\n",
              "      display:flex;\n",
              "      flex-wrap:wrap;\n",
              "      gap: 12px;\n",
              "    }\n",
              "\n",
              "    .colab-df-convert {\n",
              "      background-color: #E8F0FE;\n",
              "      border: none;\n",
              "      border-radius: 50%;\n",
              "      cursor: pointer;\n",
              "      display: none;\n",
              "      fill: #1967D2;\n",
              "      height: 32px;\n",
              "      padding: 0 0 0 0;\n",
              "      width: 32px;\n",
              "    }\n",
              "\n",
              "    .colab-df-convert:hover {\n",
              "      background-color: #E2EBFA;\n",
              "      box-shadow: 0px 1px 2px rgba(60, 64, 67, 0.3), 0px 1px 3px 1px rgba(60, 64, 67, 0.15);\n",
              "      fill: #174EA6;\n",
              "    }\n",
              "\n",
              "    [theme=dark] .colab-df-convert {\n",
              "      background-color: #3B4455;\n",
              "      fill: #D2E3FC;\n",
              "    }\n",
              "\n",
              "    [theme=dark] .colab-df-convert:hover {\n",
              "      background-color: #434B5C;\n",
              "      box-shadow: 0px 1px 3px 1px rgba(0, 0, 0, 0.15);\n",
              "      filter: drop-shadow(0px 1px 2px rgba(0, 0, 0, 0.3));\n",
              "      fill: #FFFFFF;\n",
              "    }\n",
              "  </style>\n",
              "\n",
              "      <script>\n",
              "        const buttonEl =\n",
              "          document.querySelector('#df-a570a255-95c8-4cf5-aaa7-77125406b71b button.colab-df-convert');\n",
              "        buttonEl.style.display =\n",
              "          google.colab.kernel.accessAllowed ? 'block' : 'none';\n",
              "\n",
              "        async function convertToInteractive(key) {\n",
              "          const element = document.querySelector('#df-a570a255-95c8-4cf5-aaa7-77125406b71b');\n",
              "          const dataTable =\n",
              "            await google.colab.kernel.invokeFunction('convertToInteractive',\n",
              "                                                     [key], {});\n",
              "          if (!dataTable) return;\n",
              "\n",
              "          const docLinkHtml = 'Like what you see? Visit the ' +\n",
              "            '<a target=\"_blank\" href=https://colab.research.google.com/notebooks/data_table.ipynb>data table notebook</a>'\n",
              "            + ' to learn more about interactive tables.';\n",
              "          element.innerHTML = '';\n",
              "          dataTable['output_type'] = 'display_data';\n",
              "          await google.colab.output.renderOutput(dataTable, element);\n",
              "          const docLink = document.createElement('div');\n",
              "          docLink.innerHTML = docLinkHtml;\n",
              "          element.appendChild(docLink);\n",
              "        }\n",
              "      </script>\n",
              "    </div>\n",
              "  </div>\n",
              "  "
            ]
          },
          "metadata": {},
          "execution_count": 321
        }
      ]
    },
    {
      "cell_type": "code",
      "source": [
        "# see what variable types we have\n",
        "df.info()"
      ],
      "metadata": {
        "colab": {
          "base_uri": "https://localhost:8080/"
        },
        "id": "MfJKP5Nqw6XH",
        "outputId": "4bbb2afd-3490-4a01-e85a-681404ba3757"
      },
      "execution_count": 322,
      "outputs": [
        {
          "output_type": "stream",
          "name": "stdout",
          "text": [
            "<class 'pandas.core.frame.DataFrame'>\n",
            "Int64Index: 844338 entries, 0 to 1017190\n",
            "Data columns (total 21 columns):\n",
            " #   Column                     Non-Null Count   Dtype         \n",
            "---  ------                     --------------   -----         \n",
            " 0   Date                       844338 non-null  datetime64[ns]\n",
            " 1   Store                      844338 non-null  int64         \n",
            " 2   DayOfWeek                  844338 non-null  int64         \n",
            " 3   Sales                      844338 non-null  int64         \n",
            " 4   Customers                  844338 non-null  int64         \n",
            " 5   Promo                      844338 non-null  int64         \n",
            " 6   StateHoliday               844338 non-null  object        \n",
            " 7   SchoolHoliday              844338 non-null  int64         \n",
            " 8   year                       844338 non-null  int64         \n",
            " 9   month                      844338 non-null  int64         \n",
            " 10  day                        844338 non-null  int64         \n",
            " 11  weekofyear                 844338 non-null  int64         \n",
            " 12  StoreType                  844338 non-null  object        \n",
            " 13  Assortment                 844338 non-null  object        \n",
            " 14  CompetitionDistance        844338 non-null  float64       \n",
            " 15  CompetitionOpenSinceMonth  844338 non-null  float64       \n",
            " 16  CompetitionOpenSinceYear   844338 non-null  float64       \n",
            " 17  Promo2                     844338 non-null  int64         \n",
            " 18  Promo2SinceWeek            844338 non-null  float64       \n",
            " 19  Promo2SinceYear            844338 non-null  float64       \n",
            " 20  PromoInterval              844338 non-null  object        \n",
            "dtypes: datetime64[ns](1), float64(5), int64(11), object(4)\n",
            "memory usage: 174.0+ MB\n"
          ]
        }
      ]
    },
    {
      "cell_type": "code",
      "source": [
        "# see what's in nominal varibles \n",
        "set(df.StateHoliday),set(df.StoreType),set(df.Assortment)"
      ],
      "metadata": {
        "colab": {
          "base_uri": "https://localhost:8080/"
        },
        "id": "tv56dp9o2vpT",
        "outputId": "2b881c60-432d-48ff-e108-f0eede19a426"
      },
      "execution_count": 323,
      "outputs": [
        {
          "output_type": "execute_result",
          "data": {
            "text/plain": [
              "({0, '0', 'a', 'b', 'c'}, {'a', 'b', 'c', 'd'}, {'a', 'b', 'c'})"
            ]
          },
          "metadata": {},
          "execution_count": 323
        }
      ]
    },
    {
      "cell_type": "code",
      "source": [
        "# StateHoliday indicates a state holiday - a = public holiday, b = Easter holiday, c = Christmas, 0 = None\n",
        "# convert number 0 to string 0\n",
        "df.loc[df.StateHoliday==0,'StateHoliday']=df.loc[df.StateHoliday==0,'StateHoliday'].astype(str)"
      ],
      "metadata": {
        "id": "PsCykUFC36eW"
      },
      "execution_count": 324,
      "outputs": []
    },
    {
      "cell_type": "markdown",
      "source": [
        "### **2.6.3 Transform Variable \"StateHoliday\"**"
      ],
      "metadata": {
        "id": "kNxvC5A2_5CI"
      }
    },
    {
      "cell_type": "code",
      "source": [
        "# 0 - not a state holiday; 1- is on a state holiday\n",
        "df['StateHoliday']=df.StateHoliday.map({'0':0,'a':1,'b':1,'c':1,})"
      ],
      "metadata": {
        "id": "P1tUEt92_x-h"
      },
      "execution_count": 325,
      "outputs": []
    },
    {
      "cell_type": "code",
      "source": [
        "sns.distplot(df.Customers.dropna())\n",
        "plt.title(\"distribution of Customers\")"
      ],
      "metadata": {
        "colab": {
          "base_uri": "https://localhost:8080/",
          "height": 312
        },
        "id": "bsGxlg4EBRFC",
        "outputId": "a62cc1ef-4714-4385-f41c-ea576f15c285"
      },
      "execution_count": 450,
      "outputs": [
        {
          "output_type": "execute_result",
          "data": {
            "text/plain": [
              "Text(0.5, 1.0, 'distribution of Customers')"
            ]
          },
          "metadata": {},
          "execution_count": 450
        },
        {
          "output_type": "display_data",
          "data": {
            "text/plain": [
              "<Figure size 432x288 with 1 Axes>"
            ],
            "image/png": "[encoded data removed]"
          },
          "metadata": {}
        }
      ]
    },
    {
      "cell_type": "markdown",
      "source": [
        "# STORE SALE PREDICTION"
      ],
      "metadata": {
        "id": "g61JEvfGtQvQ"
      }
    },
    {
      "cell_type": "code",
      "source": [
        "X=df.drop('Sales',axis=1)\n",
        "Y=df.Sales"
      ],
      "metadata": {
        "id": "sfJMDv95tP7Z"
      },
      "execution_count": 326,
      "outputs": []
    },
    {
      "cell_type": "code",
      "source": [
        "# get dummy variables for categorical features for linear regression\n",
        "xd=X.copy()\n",
        "xd=pd.get_dummies(xd)"
      ],
      "metadata": {
        "id": "DP3VETZrB1UP"
      },
      "execution_count": 327,
      "outputs": []
    },
    {
      "cell_type": "code",
      "source": [
        "xd"
      ],
      "metadata": {
        "id": "3RvzQE9eyNiO",
        "colab": {
          "base_uri": "https://localhost:8080/",
          "height": 661
        },
        "outputId": "a5fdaa08-8ba4-4d23-fa51-c90513913bb0"
      },
      "execution_count": 328,
      "outputs": [
        {
          "output_type": "execute_result",
          "data": {
            "text/plain": [
              "              Date  Store  DayOfWeek  Customers  Promo  StateHoliday  \\\n",
              "0       2015-07-31      1          5        555      1             0   \n",
              "1       2015-07-31      2          5        625      1             0   \n",
              "2       2015-07-31      3          5        821      1             0   \n",
              "3       2015-07-31      4          5       1498      1             0   \n",
              "4       2015-07-31      5          5        559      1             0   \n",
              "...            ...    ...        ...        ...    ...           ...   \n",
              "1016776 2013-01-01    682          2        566      0             1   \n",
              "1016827 2013-01-01    733          2       2377      0             1   \n",
              "1016863 2013-01-01    769          2       1248      0             1   \n",
              "1017042 2013-01-01    948          2       1039      0             1   \n",
              "1017190 2013-01-01   1097          2       1405      0             1   \n",
              "\n",
              "         SchoolHoliday  year  month  day  ...  StoreType_b  StoreType_c  \\\n",
              "0                    1  2015      7   31  ...            0            1   \n",
              "1                    1  2015      7   31  ...            0            0   \n",
              "2                    1  2015      7   31  ...            0            0   \n",
              "3                    1  2015      7   31  ...            0            1   \n",
              "4                    1  2015      7   31  ...            0            0   \n",
              "...                ...   ...    ...  ...  ...          ...          ...   \n",
              "1016776              1  2013      1    1  ...            1            0   \n",
              "1016827              1  2013      1    1  ...            1            0   \n",
              "1016863              1  2013      1    1  ...            1            0   \n",
              "1017042              1  2013      1    1  ...            1            0   \n",
              "1017190              1  2013      1    1  ...            1            0   \n",
              "\n",
              "         StoreType_d  Assortment_a  Assortment_b  Assortment_c  \\\n",
              "0                  0             1             0             0   \n",
              "1                  0             1             0             0   \n",
              "2                  0             1             0             0   \n",
              "3                  0             0             0             1   \n",
              "4                  0             1             0             0   \n",
              "...              ...           ...           ...           ...   \n",
              "1016776            0             1             0             0   \n",
              "1016827            0             0             1             0   \n",
              "1016863            0             0             1             0   \n",
              "1017042            0             0             1             0   \n",
              "1017190            0             0             1             0   \n",
              "\n",
              "         PromoInterval_0  PromoInterval_Feb,May,Aug,Nov  \\\n",
              "0                      1                              0   \n",
              "1                      0                              0   \n",
              "2                      0                              0   \n",
              "3                      1                              0   \n",
              "4                      1                              0   \n",
              "...                  ...                            ...   \n",
              "1016776                1                              0   \n",
              "1016827                1                              0   \n",
              "1016863                0                              0   \n",
              "1017042                1                              0   \n",
              "1017190                1                              0   \n",
              "\n",
              "         PromoInterval_Jan,Apr,Jul,Oct  PromoInterval_Mar,Jun,Sept,Dec  \n",
              "0                                    0                               0  \n",
              "1                                    1                               0  \n",
              "2                                    1                               0  \n",
              "3                                    0                               0  \n",
              "4                                    0                               0  \n",
              "...                                ...                             ...  \n",
              "1016776                              0                               0  \n",
              "1016827                              0                               0  \n",
              "1016863                              1                               0  \n",
              "1017042                              0                               0  \n",
              "1017190                              0                               0  \n",
              "\n",
              "[844338 rows x 28 columns]"
            ],
            "text/html": [
              "\n",
              "  <div id=\"df-27ecf1dc-04a9-4c65-9954-69f8321b8050\">\n",
              "    <div class=\"colab-df-container\">\n",
              "      <div>\n",
              "<style scoped>\n",
              "    .dataframe tbody tr th:only-of-type {\n",
              "        vertical-align: middle;\n",
              "    }\n",
              "\n",
              "    .dataframe tbody tr th {\n",
              "        vertical-align: top;\n",
              "    }\n",
              "\n",
              "    .dataframe thead th {\n",
              "        text-align: right;\n",
              "    }\n",
              "</style>\n",
              "<table border=\"1\" class=\"dataframe\">\n",
              "  <thead>\n",
              "    <tr style=\"text-align: right;\">\n",
              "      <th></th>\n",
              "      <th>Date</th>\n",
              "      <th>Store</th>\n",
              "      <th>DayOfWeek</th>\n",
              "      <th>Customers</th>\n",
              "      <th>Promo</th>\n",
              "      <th>StateHoliday</th>\n",
              "      <th>SchoolHoliday</th>\n",
              "      <th>year</th>\n",
              "      <th>month</th>\n",
              "      <th>day</th>\n",
              "      <th>...</th>\n",
              "      <th>StoreType_b</th>\n",
              "      <th>StoreType_c</th>\n",
              "      <th>StoreType_d</th>\n",
              "      <th>Assortment_a</th>\n",
              "      <th>Assortment_b</th>\n",
              "      <th>Assortment_c</th>\n",
              "      <th>PromoInterval_0</th>\n",
              "      <th>PromoInterval_Feb,May,Aug,Nov</th>\n",
              "      <th>PromoInterval_Jan,Apr,Jul,Oct</th>\n",
              "      <th>PromoInterval_Mar,Jun,Sept,Dec</th>\n",
              "    </tr>\n",
              "  </thead>\n",
              "  <tbody>\n",
              "    <tr>\n",
              "      <th>0</th>\n",
              "      <td>2015-07-31</td>\n",
              "      <td>1</td>\n",
              "      <td>5</td>\n",
              "      <td>555</td>\n",
              "      <td>1</td>\n",
              "      <td>0</td>\n",
              "      <td>1</td>\n",
              "      <td>2015</td>\n",
              "      <td>7</td>\n",
              "      <td>31</td>\n",
              "      <td>...</td>\n",
              "      <td>0</td>\n",
              "      <td>1</td>\n",
              "      <td>0</td>\n",
              "      <td>1</td>\n",
              "      <td>0</td>\n",
              "      <td>0</td>\n",
              "      <td>1</td>\n",
              "      <td>0</td>\n",
              "      <td>0</td>\n",
              "      <td>0</td>\n",
              "    </tr>\n",
              "    <tr>\n",
              "      <th>1</th>\n",
              "      <td>2015-07-31</td>\n",
              "      <td>2</td>\n",
              "      <td>5</td>\n",
              "      <td>625</td>\n",
              "      <td>1</td>\n",
              "      <td>0</td>\n",
              "      <td>1</td>\n",
              "      <td>2015</td>\n",
              "      <td>7</td>\n",
              "      <td>31</td>\n",
              "      <td>...</td>\n",
              "      <td>0</td>\n",
              "      <td>0</td>\n",
              "      <td>0</td>\n",
              "      <td>1</td>\n",
              "      <td>0</td>\n",
              "      <td>0</td>\n",
              "      <td>0</td>\n",
              "      <td>0</td>\n",
              "      <td>1</td>\n",
              "      <td>0</td>\n",
              "    </tr>\n",
              "    <tr>\n",
              "      <th>2</th>\n",
              "      <td>2015-07-31</td>\n",
              "      <td>3</td>\n",
              "      <td>5</td>\n",
              "      <td>821</td>\n",
              "      <td>1</td>\n",
              "      <td>0</td>\n",
              "      <td>1</td>\n",
              "      <td>2015</td>\n",
              "      <td>7</td>\n",
              "      <td>31</td>\n",
              "      <td>...</td>\n",
              "      <td>0</td>\n",
              "      <td>0</td>\n",
              "      <td>0</td>\n",
              "      <td>1</td>\n",
              "      <td>0</td>\n",
              "      <td>0</td>\n",
              "      <td>0</td>\n",
              "      <td>0</td>\n",
              "      <td>1</td>\n",
              "      <td>0</td>\n",
              "    </tr>\n",
              "    <tr>\n",
              "      <th>3</th>\n",
              "      <td>2015-07-31</td>\n",
              "      <td>4</td>\n",
              "      <td>5</td>\n",
              "      <td>1498</td>\n",
              "      <td>1</td>\n",
              "      <td>0</td>\n",
              "      <td>1</td>\n",
              "      <td>2015</td>\n",
              "      <td>7</td>\n",
              "      <td>31</td>\n",
              "      <td>...</td>\n",
              "      <td>0</td>\n",
              "      <td>1</td>\n",
              "      <td>0</td>\n",
              "      <td>0</td>\n",
              "      <td>0</td>\n",
              "      <td>1</td>\n",
              "      <td>1</td>\n",
              "      <td>0</td>\n",
              "      <td>0</td>\n",
              "      <td>0</td>\n",
              "    </tr>\n",
              "    <tr>\n",
              "      <th>4</th>\n",
              "      <td>2015-07-31</td>\n",
              "      <td>5</td>\n",
              "      <td>5</td>\n",
              "      <td>559</td>\n",
              "      <td>1</td>\n",
              "      <td>0</td>\n",
              "      <td>1</td>\n",
              "      <td>2015</td>\n",
              "      <td>7</td>\n",
              "      <td>31</td>\n",
              "      <td>...</td>\n",
              "      <td>0</td>\n",
              "      <td>0</td>\n",
              "      <td>0</td>\n",
              "      <td>1</td>\n",
              "      <td>0</td>\n",
              "      <td>0</td>\n",
              "      <td>1</td>\n",
              "      <td>0</td>\n",
              "      <td>0</td>\n",
              "      <td>0</td>\n",
              "    </tr>\n",
              "    <tr>\n",
              "      <th>...</th>\n",
              "      <td>...</td>\n",
              "      <td>...</td>\n",
              "      <td>...</td>\n",
              "      <td>...</td>\n",
              "      <td>...</td>\n",
              "      <td>...</td>\n",
              "      <td>...</td>\n",
              "      <td>...</td>\n",
              "      <td>...</td>\n",
              "      <td>...</td>\n",
              "      <td>...</td>\n",
              "      <td>...</td>\n",
              "      <td>...</td>\n",
              "      <td>...</td>\n",
              "      <td>...</td>\n",
              "      <td>...</td>\n",
              "      <td>...</td>\n",
              "      <td>...</td>\n",
              "      <td>...</td>\n",
              "      <td>...</td>\n",
              "      <td>...</td>\n",
              "    </tr>\n",
              "    <tr>\n",
              "      <th>1016776</th>\n",
              "      <td>2013-01-01</td>\n",
              "      <td>682</td>\n",
              "      <td>2</td>\n",
              "      <td>566</td>\n",
              "      <td>0</td>\n",
              "      <td>1</td>\n",
              "      <td>1</td>\n",
              "      <td>2013</td>\n",
              "      <td>1</td>\n",
              "      <td>1</td>\n",
              "      <td>...</td>\n",
              "      <td>1</td>\n",
              "      <td>0</td>\n",
              "      <td>0</td>\n",
              "      <td>1</td>\n",
              "      <td>0</td>\n",
              "      <td>0</td>\n",
              "      <td>1</td>\n",
              "      <td>0</td>\n",
              "      <td>0</td>\n",
              "      <td>0</td>\n",
              "    </tr>\n",
              "    <tr>\n",
              "      <th>1016827</th>\n",
              "      <td>2013-01-01</td>\n",
              "      <td>733</td>\n",
              "      <td>2</td>\n",
              "      <td>2377</td>\n",
              "      <td>0</td>\n",
              "      <td>1</td>\n",
              "      <td>1</td>\n",
              "      <td>2013</td>\n",
              "      <td>1</td>\n",
              "      <td>1</td>\n",
              "      <td>...</td>\n",
              "      <td>1</td>\n",
              "      <td>0</td>\n",
              "      <td>0</td>\n",
              "      <td>0</td>\n",
              "      <td>1</td>\n",
              "      <td>0</td>\n",
              "      <td>1</td>\n",
              "      <td>0</td>\n",
              "      <td>0</td>\n",
              "      <td>0</td>\n",
              "    </tr>\n",
              "    <tr>\n",
              "      <th>1016863</th>\n",
              "      <td>2013-01-01</td>\n",
              "      <td>769</td>\n",
              "      <td>2</td>\n",
              "      <td>1248</td>\n",
              "      <td>0</td>\n",
              "      <td>1</td>\n",
              "      <td>1</td>\n",
              "      <td>2013</td>\n",
              "      <td>1</td>\n",
              "      <td>1</td>\n",
              "      <td>...</td>\n",
              "      <td>1</td>\n",
              "      <td>0</td>\n",
              "      <td>0</td>\n",
              "      <td>0</td>\n",
              "      <td>1</td>\n",
              "      <td>0</td>\n",
              "      <td>0</td>\n",
              "      <td>0</td>\n",
              "      <td>1</td>\n",
              "      <td>0</td>\n",
              "    </tr>\n",
              "    <tr>\n",
              "      <th>1017042</th>\n",
              "      <td>2013-01-01</td>\n",
              "      <td>948</td>\n",
              "      <td>2</td>\n",
              "      <td>1039</td>\n",
              "      <td>0</td>\n",
              "      <td>1</td>\n",
              "      <td>1</td>\n",
              "      <td>2013</td>\n",
              "      <td>1</td>\n",
              "      <td>1</td>\n",
              "      <td>...</td>\n",
              "      <td>1</td>\n",
              "      <td>0</td>\n",
              "      <td>0</td>\n",
              "      <td>0</td>\n",
              "      <td>1</td>\n",
              "      <td>0</td>\n",
              "      <td>1</td>\n",
              "      <td>0</td>\n",
              "      <td>0</td>\n",
              "      <td>0</td>\n",
              "    </tr>\n",
              "    <tr>\n",
              "      <th>1017190</th>\n",
              "      <td>2013-01-01</td>\n",
              "      <td>1097</td>\n",
              "      <td>2</td>\n",
              "      <td>1405</td>\n",
              "      <td>0</td>\n",
              "      <td>1</td>\n",
              "      <td>1</td>\n",
              "      <td>2013</td>\n",
              "      <td>1</td>\n",
              "      <td>1</td>\n",
              "      <td>...</td>\n",
              "      <td>1</td>\n",
              "      <td>0</td>\n",
              "      <td>0</td>\n",
              "      <td>0</td>\n",
              "      <td>1</td>\n",
              "      <td>0</td>\n",
              "      <td>1</td>\n",
              "      <td>0</td>\n",
              "      <td>0</td>\n",
              "      <td>0</td>\n",
              "    </tr>\n",
              "  </tbody>\n",
              "</table>\n",
              "<p>844338 rows × 28 columns</p>\n",
              "</div>\n",
              "      <button class=\"colab-df-convert\" onclick=\"convertToInteractive('df-27ecf1dc-04a9-4c65-9954-69f8321b8050')\"\n",
              "              title=\"Convert this dataframe to an interactive table.\"\n",
              "              style=\"display:none;\">\n",
              "        \n",
              "  <svg xmlns=\"http://www.w3.org/2000/svg\" height=\"24px\"viewBox=\"0 0 24 24\"\n",
              "       width=\"24px\">\n",
              "    <path d=\"M0 0h24v24H0V0z\" fill=\"none\"/>\n",
              "    <path d=\"M18.56 5.44l.94 2.06.94-2.06 2.06-.94-2.06-.94-.94-2.06-.94 2.06-2.06.94zm-11 1L8.5 8.5l.94-2.06 2.06-.94-2.06-.94L8.5 2.5l-.94 2.06-2.06.94zm10 10l.94 2.06.94-2.06 2.06-.94-2.06-.94-.94-2.06-.94 2.06-2.06.94z\"/><path d=\"M17.41 7.96l-1.37-1.37c-.4-.4-.92-.59-1.43-.59-.52 0-1.04.2-1.43.59L10.3 9.45l-7.72 7.72c-.78.78-.78 2.05 0 2.83L4 21.41c.39.39.9.59 1.41.59.51 0 1.02-.2 1.41-.59l7.78-7.78 2.81-2.81c.8-.78.8-2.07 0-2.86zM5.41 20L4 18.59l7.72-7.72 1.47 1.35L5.41 20z\"/>\n",
              "  </svg>\n",
              "      </button>\n",
              "      \n",
              "  <style>\n",
              "    .colab-df-container {\n",
              "      display:flex;\n",
              "      flex-wrap:wrap;\n",
              "      gap: 12px;\n",
              "    }\n",
              "\n",
              "    .colab-df-convert {\n",
              "      background-color: #E8F0FE;\n",
              "      border: none;\n",
              "      border-radius: 50%;\n",
              "      cursor: pointer;\n",
              "      display: none;\n",
              "      fill: #1967D2;\n",
              "      height: 32px;\n",
              "      padding: 0 0 0 0;\n",
              "      width: 32px;\n",
              "    }\n",
              "\n",
              "    .colab-df-convert:hover {\n",
              "      background-color: #E2EBFA;\n",
              "      box-shadow: 0px 1px 2px rgba(60, 64, 67, 0.3), 0px 1px 3px 1px rgba(60, 64, 67, 0.15);\n",
              "      fill: #174EA6;\n",
              "    }\n",
              "\n",
              "    [theme=dark] .colab-df-convert {\n",
              "      background-color: #3B4455;\n",
              "      fill: #D2E3FC;\n",
              "    }\n",
              "\n",
              "    [theme=dark] .colab-df-convert:hover {\n",
              "      background-color: #434B5C;\n",
              "      box-shadow: 0px 1px 3px 1px rgba(0, 0, 0, 0.15);\n",
              "      filter: drop-shadow(0px 1px 2px rgba(0, 0, 0, 0.3));\n",
              "      fill: #FFFFFF;\n",
              "    }\n",
              "  </style>\n",
              "\n",
              "      <script>\n",
              "        const buttonEl =\n",
              "          document.querySelector('#df-27ecf1dc-04a9-4c65-9954-69f8321b8050 button.colab-df-convert');\n",
              "        buttonEl.style.display =\n",
              "          google.colab.kernel.accessAllowed ? 'block' : 'none';\n",
              "\n",
              "        async function convertToInteractive(key) {\n",
              "          const element = document.querySelector('#df-27ecf1dc-04a9-4c65-9954-69f8321b8050');\n",
              "          const dataTable =\n",
              "            await google.colab.kernel.invokeFunction('convertToInteractive',\n",
              "                                                     [key], {});\n",
              "          if (!dataTable) return;\n",
              "\n",
              "          const docLinkHtml = 'Like what you see? Visit the ' +\n",
              "            '<a target=\"_blank\" href=https://colab.research.google.com/notebooks/data_table.ipynb>data table notebook</a>'\n",
              "            + ' to learn more about interactive tables.';\n",
              "          element.innerHTML = '';\n",
              "          dataTable['output_type'] = 'display_data';\n",
              "          await google.colab.output.renderOutput(dataTable, element);\n",
              "          const docLink = document.createElement('div');\n",
              "          docLink.innerHTML = docLinkHtml;\n",
              "          element.appendChild(docLink);\n",
              "        }\n",
              "      </script>\n",
              "    </div>\n",
              "  </div>\n",
              "  "
            ]
          },
          "metadata": {},
          "execution_count": 328
        }
      ]
    },
    {
      "cell_type": "code",
      "source": [
        "xd.info()"
      ],
      "metadata": {
        "id": "hTUXH-ReEwKz",
        "colab": {
          "base_uri": "https://localhost:8080/"
        },
        "outputId": "894da17a-780e-4ab6-e90c-aebce61a11fe"
      },
      "execution_count": 329,
      "outputs": [
        {
          "output_type": "stream",
          "name": "stdout",
          "text": [
            "<class 'pandas.core.frame.DataFrame'>\n",
            "Int64Index: 844338 entries, 0 to 1017190\n",
            "Data columns (total 28 columns):\n",
            " #   Column                          Non-Null Count   Dtype         \n",
            "---  ------                          --------------   -----         \n",
            " 0   Date                            844338 non-null  datetime64[ns]\n",
            " 1   Store                           844338 non-null  int64         \n",
            " 2   DayOfWeek                       844338 non-null  int64         \n",
            " 3   Customers                       844338 non-null  int64         \n",
            " 4   Promo                           844338 non-null  int64         \n",
            " 5   StateHoliday                    844338 non-null  int64         \n",
            " 6   SchoolHoliday                   844338 non-null  int64         \n",
            " 7   year                            844338 non-null  int64         \n",
            " 8   month                           844338 non-null  int64         \n",
            " 9   day                             844338 non-null  int64         \n",
            " 10  weekofyear                      844338 non-null  int64         \n",
            " 11  CompetitionDistance             844338 non-null  float64       \n",
            " 12  CompetitionOpenSinceMonth       844338 non-null  float64       \n",
            " 13  CompetitionOpenSinceYear        844338 non-null  float64       \n",
            " 14  Promo2                          844338 non-null  int64         \n",
            " 15  Promo2SinceWeek                 844338 non-null  float64       \n",
            " 16  Promo2SinceYear                 844338 non-null  float64       \n",
            " 17  StoreType_a                     844338 non-null  uint8         \n",
            " 18  StoreType_b                     844338 non-null  uint8         \n",
            " 19  StoreType_c                     844338 non-null  uint8         \n",
            " 20  StoreType_d                     844338 non-null  uint8         \n",
            " 21  Assortment_a                    844338 non-null  uint8         \n",
            " 22  Assortment_b                    844338 non-null  uint8         \n",
            " 23  Assortment_c                    844338 non-null  uint8         \n",
            " 24  PromoInterval_0                 844338 non-null  uint8         \n",
            " 25  PromoInterval_Feb,May,Aug,Nov   844338 non-null  uint8         \n",
            " 26  PromoInterval_Jan,Apr,Jul,Oct   844338 non-null  uint8         \n",
            " 27  PromoInterval_Mar,Jun,Sept,Dec  844338 non-null  uint8         \n",
            "dtypes: datetime64[ns](1), float64(5), int64(11), uint8(11)\n",
            "memory usage: 157.1 MB\n"
          ]
        }
      ]
    },
    {
      "cell_type": "code",
      "source": [
        "del xd['Date']\n",
        "del xd['year']\n",
        "del xd['month']\n",
        "del xd['day']\n"
      ],
      "metadata": {
        "id": "GltRFHBkEXWg"
      },
      "execution_count": 330,
      "outputs": []
    },
    {
      "cell_type": "code",
      "source": [
        "del xd['weekofyear']"
      ],
      "metadata": {
        "id": "owM-dpJVIRyK"
      },
      "execution_count": 331,
      "outputs": []
    },
    {
      "cell_type": "code",
      "source": [
        "del xd['DayOfWeek']"
      ],
      "metadata": {
        "id": "5LUeM6e5IJtD"
      },
      "execution_count": 332,
      "outputs": []
    },
    {
      "cell_type": "code",
      "source": [
        "xd.info()"
      ],
      "metadata": {
        "colab": {
          "base_uri": "https://localhost:8080/"
        },
        "id": "CA9CWwrSFbYh",
        "outputId": "cd41f6be-6c0b-428c-d5b7-8e9d01d05c5d"
      },
      "execution_count": 333,
      "outputs": [
        {
          "output_type": "stream",
          "name": "stdout",
          "text": [
            "<class 'pandas.core.frame.DataFrame'>\n",
            "Int64Index: 844338 entries, 0 to 1017190\n",
            "Data columns (total 22 columns):\n",
            " #   Column                          Non-Null Count   Dtype  \n",
            "---  ------                          --------------   -----  \n",
            " 0   Store                           844338 non-null  int64  \n",
            " 1   Customers                       844338 non-null  int64  \n",
            " 2   Promo                           844338 non-null  int64  \n",
            " 3   StateHoliday                    844338 non-null  int64  \n",
            " 4   SchoolHoliday                   844338 non-null  int64  \n",
            " 5   CompetitionDistance             844338 non-null  float64\n",
            " 6   CompetitionOpenSinceMonth       844338 non-null  float64\n",
            " 7   CompetitionOpenSinceYear        844338 non-null  float64\n",
            " 8   Promo2                          844338 non-null  int64  \n",
            " 9   Promo2SinceWeek                 844338 non-null  float64\n",
            " 10  Promo2SinceYear                 844338 non-null  float64\n",
            " 11  StoreType_a                     844338 non-null  uint8  \n",
            " 12  StoreType_b                     844338 non-null  uint8  \n",
            " 13  StoreType_c                     844338 non-null  uint8  \n",
            " 14  StoreType_d                     844338 non-null  uint8  \n",
            " 15  Assortment_a                    844338 non-null  uint8  \n",
            " 16  Assortment_b                    844338 non-null  uint8  \n",
            " 17  Assortment_c                    844338 non-null  uint8  \n",
            " 18  PromoInterval_0                 844338 non-null  uint8  \n",
            " 19  PromoInterval_Feb,May,Aug,Nov   844338 non-null  uint8  \n",
            " 20  PromoInterval_Jan,Apr,Jul,Oct   844338 non-null  uint8  \n",
            " 21  PromoInterval_Mar,Jun,Sept,Dec  844338 non-null  uint8  \n",
            "dtypes: float64(5), int64(6), uint8(11)\n",
            "memory usage: 118.4 MB\n"
          ]
        }
      ]
    },
    {
      "cell_type": "code",
      "source": [
        "xd"
      ],
      "metadata": {
        "colab": {
          "base_uri": "https://localhost:8080/",
          "height": 488
        },
        "id": "JhR_4YzFbZft",
        "outputId": "33cd381c-4c54-4e20-d7da-6b89bd696f41"
      },
      "execution_count": 334,
      "outputs": [
        {
          "output_type": "execute_result",
          "data": {
            "text/plain": [
              "         Store  Customers  Promo  StateHoliday  SchoolHoliday  \\\n",
              "0            1        555      1             0              1   \n",
              "1            2        625      1             0              1   \n",
              "2            3        821      1             0              1   \n",
              "3            4       1498      1             0              1   \n",
              "4            5        559      1             0              1   \n",
              "...        ...        ...    ...           ...            ...   \n",
              "1016776    682        566      0             1              1   \n",
              "1016827    733       2377      0             1              1   \n",
              "1016863    769       1248      0             1              1   \n",
              "1017042    948       1039      0             1              1   \n",
              "1017190   1097       1405      0             1              1   \n",
              "\n",
              "         CompetitionDistance  CompetitionOpenSinceMonth  \\\n",
              "0                     1270.0                        9.0   \n",
              "1                      570.0                       11.0   \n",
              "2                    14130.0                       12.0   \n",
              "3                      620.0                        9.0   \n",
              "4                    29910.0                        4.0   \n",
              "...                      ...                        ...   \n",
              "1016776                150.0                        9.0   \n",
              "1016827                860.0                       10.0   \n",
              "1016863                840.0                        9.0   \n",
              "1017042               1430.0                        9.0   \n",
              "1017190                720.0                        3.0   \n",
              "\n",
              "         CompetitionOpenSinceYear  Promo2  Promo2SinceWeek  ...  StoreType_b  \\\n",
              "0                          2008.0       0              0.0  ...            0   \n",
              "1                          2007.0       1             13.0  ...            0   \n",
              "2                          2006.0       1             14.0  ...            0   \n",
              "3                          2009.0       0              0.0  ...            0   \n",
              "4                          2015.0       0              0.0  ...            0   \n",
              "...                           ...     ...              ...  ...          ...   \n",
              "1016776                    2006.0       0              0.0  ...            1   \n",
              "1016827                    1999.0       0              0.0  ...            1   \n",
              "1016863                    2013.0       1             48.0  ...            1   \n",
              "1017042                    2013.0       0              0.0  ...            1   \n",
              "1017190                    2002.0       0              0.0  ...            1   \n",
              "\n",
              "         StoreType_c  StoreType_d  Assortment_a  Assortment_b  Assortment_c  \\\n",
              "0                  1            0             1             0             0   \n",
              "1                  0            0             1             0             0   \n",
              "2                  0            0             1             0             0   \n",
              "3                  1            0             0             0             1   \n",
              "4                  0            0             1             0             0   \n",
              "...              ...          ...           ...           ...           ...   \n",
              "1016776            0            0             1             0             0   \n",
              "1016827            0            0             0             1             0   \n",
              "1016863            0            0             0             1             0   \n",
              "1017042            0            0             0             1             0   \n",
              "1017190            0            0             0             1             0   \n",
              "\n",
              "         PromoInterval_0  PromoInterval_Feb,May,Aug,Nov  \\\n",
              "0                      1                              0   \n",
              "1                      0                              0   \n",
              "2                      0                              0   \n",
              "3                      1                              0   \n",
              "4                      1                              0   \n",
              "...                  ...                            ...   \n",
              "1016776                1                              0   \n",
              "1016827                1                              0   \n",
              "1016863                0                              0   \n",
              "1017042                1                              0   \n",
              "1017190                1                              0   \n",
              "\n",
              "         PromoInterval_Jan,Apr,Jul,Oct  PromoInterval_Mar,Jun,Sept,Dec  \n",
              "0                                    0                               0  \n",
              "1                                    1                               0  \n",
              "2                                    1                               0  \n",
              "3                                    0                               0  \n",
              "4                                    0                               0  \n",
              "...                                ...                             ...  \n",
              "1016776                              0                               0  \n",
              "1016827                              0                               0  \n",
              "1016863                              1                               0  \n",
              "1017042                              0                               0  \n",
              "1017190                              0                               0  \n",
              "\n",
              "[844338 rows x 22 columns]"
            ],
            "text/html": [
              "\n",
              "  <div id=\"df-08cdeb49-8247-4b23-a699-ba61e6cc469f\">\n",
              "    <div class=\"colab-df-container\">\n",
              "      <div>\n",
              "<style scoped>\n",
              "    .dataframe tbody tr th:only-of-type {\n",
              "        vertical-align: middle;\n",
              "    }\n",
              "\n",
              "    .dataframe tbody tr th {\n",
              "        vertical-align: top;\n",
              "    }\n",
              "\n",
              "    .dataframe thead th {\n",
              "        text-align: right;\n",
              "    }\n",
              "</style>\n",
              "<table border=\"1\" class=\"dataframe\">\n",
              "  <thead>\n",
              "    <tr style=\"text-align: right;\">\n",
              "      <th></th>\n",
              "      <th>Store</th>\n",
              "      <th>Customers</th>\n",
              "      <th>Promo</th>\n",
              "      <th>StateHoliday</th>\n",
              "      <th>SchoolHoliday</th>\n",
              "      <th>CompetitionDistance</th>\n",
              "      <th>CompetitionOpenSinceMonth</th>\n",
              "      <th>CompetitionOpenSinceYear</th>\n",
              "      <th>Promo2</th>\n",
              "      <th>Promo2SinceWeek</th>\n",
              "      <th>...</th>\n",
              "      <th>StoreType_b</th>\n",
              "      <th>StoreType_c</th>\n",
              "      <th>StoreType_d</th>\n",
              "      <th>Assortment_a</th>\n",
              "      <th>Assortment_b</th>\n",
              "      <th>Assortment_c</th>\n",
              "      <th>PromoInterval_0</th>\n",
              "      <th>PromoInterval_Feb,May,Aug,Nov</th>\n",
              "      <th>PromoInterval_Jan,Apr,Jul,Oct</th>\n",
              "      <th>PromoInterval_Mar,Jun,Sept,Dec</th>\n",
              "    </tr>\n",
              "  </thead>\n",
              "  <tbody>\n",
              "    <tr>\n",
              "      <th>0</th>\n",
              "      <td>1</td>\n",
              "      <td>555</td>\n",
              "      <td>1</td>\n",
              "      <td>0</td>\n",
              "      <td>1</td>\n",
              "      <td>1270.0</td>\n",
              "      <td>9.0</td>\n",
              "      <td>2008.0</td>\n",
              "      <td>0</td>\n",
              "      <td>0.0</td>\n",
              "      <td>...</td>\n",
              "      <td>0</td>\n",
              "      <td>1</td>\n",
              "      <td>0</td>\n",
              "      <td>1</td>\n",
              "      <td>0</td>\n",
              "      <td>0</td>\n",
              "      <td>1</td>\n",
              "      <td>0</td>\n",
              "      <td>0</td>\n",
              "      <td>0</td>\n",
              "    </tr>\n",
              "    <tr>\n",
              "      <th>1</th>\n",
              "      <td>2</td>\n",
              "      <td>625</td>\n",
              "      <td>1</td>\n",
              "      <td>0</td>\n",
              "      <td>1</td>\n",
              "      <td>570.0</td>\n",
              "      <td>11.0</td>\n",
              "      <td>2007.0</td>\n",
              "      <td>1</td>\n",
              "      <td>13.0</td>\n",
              "      <td>...</td>\n",
              "      <td>0</td>\n",
              "      <td>0</td>\n",
              "      <td>0</td>\n",
              "      <td>1</td>\n",
              "      <td>0</td>\n",
              "      <td>0</td>\n",
              "      <td>0</td>\n",
              "      <td>0</td>\n",
              "      <td>1</td>\n",
              "      <td>0</td>\n",
              "    </tr>\n",
              "    <tr>\n",
              "      <th>2</th>\n",
              "      <td>3</td>\n",
              "      <td>821</td>\n",
              "      <td>1</td>\n",
              "      <td>0</td>\n",
              "      <td>1</td>\n",
              "      <td>14130.0</td>\n",
              "      <td>12.0</td>\n",
              "      <td>2006.0</td>\n",
              "      <td>1</td>\n",
              "      <td>14.0</td>\n",
              "      <td>...</td>\n",
              "      <td>0</td>\n",
              "      <td>0</td>\n",
              "      <td>0</td>\n",
              "      <td>1</td>\n",
              "      <td>0</td>\n",
              "      <td>0</td>\n",
              "      <td>0</td>\n",
              "      <td>0</td>\n",
              "      <td>1</td>\n",
              "      <td>0</td>\n",
              "    </tr>\n",
              "    <tr>\n",
              "      <th>3</th>\n",
              "      <td>4</td>\n",
              "      <td>1498</td>\n",
              "      <td>1</td>\n",
              "      <td>0</td>\n",
              "      <td>1</td>\n",
              "      <td>620.0</td>\n",
              "      <td>9.0</td>\n",
              "      <td>2009.0</td>\n",
              "      <td>0</td>\n",
              "      <td>0.0</td>\n",
              "      <td>...</td>\n",
              "      <td>0</td>\n",
              "      <td>1</td>\n",
              "      <td>0</td>\n",
              "      <td>0</td>\n",
              "      <td>0</td>\n",
              "      <td>1</td>\n",
              "      <td>1</td>\n",
              "      <td>0</td>\n",
              "      <td>0</td>\n",
              "      <td>0</td>\n",
              "    </tr>\n",
              "    <tr>\n",
              "      <th>4</th>\n",
              "      <td>5</td>\n",
              "      <td>559</td>\n",
              "      <td>1</td>\n",
              "      <td>0</td>\n",
              "      <td>1</td>\n",
              "      <td>29910.0</td>\n",
              "      <td>4.0</td>\n",
              "      <td>2015.0</td>\n",
              "      <td>0</td>\n",
              "      <td>0.0</td>\n",
              "      <td>...</td>\n",
              "      <td>0</td>\n",
              "      <td>0</td>\n",
              "      <td>0</td>\n",
              "      <td>1</td>\n",
              "      <td>0</td>\n",
              "      <td>0</td>\n",
              "      <td>1</td>\n",
              "      <td>0</td>\n",
              "      <td>0</td>\n",
              "      <td>0</td>\n",
              "    </tr>\n",
              "    <tr>\n",
              "      <th>...</th>\n",
              "      <td>...</td>\n",
              "      <td>...</td>\n",
              "      <td>...</td>\n",
              "      <td>...</td>\n",
              "      <td>...</td>\n",
              "      <td>...</td>\n",
              "      <td>...</td>\n",
              "      <td>...</td>\n",
              "      <td>...</td>\n",
              "      <td>...</td>\n",
              "      <td>...</td>\n",
              "      <td>...</td>\n",
              "      <td>...</td>\n",
              "      <td>...</td>\n",
              "      <td>...</td>\n",
              "      <td>...</td>\n",
              "      <td>...</td>\n",
              "      <td>...</td>\n",
              "      <td>...</td>\n",
              "      <td>...</td>\n",
              "      <td>...</td>\n",
              "    </tr>\n",
              "    <tr>\n",
              "      <th>1016776</th>\n",
              "      <td>682</td>\n",
              "      <td>566</td>\n",
              "      <td>0</td>\n",
              "      <td>1</td>\n",
              "      <td>1</td>\n",
              "      <td>150.0</td>\n",
              "      <td>9.0</td>\n",
              "      <td>2006.0</td>\n",
              "      <td>0</td>\n",
              "      <td>0.0</td>\n",
              "      <td>...</td>\n",
              "      <td>1</td>\n",
              "      <td>0</td>\n",
              "      <td>0</td>\n",
              "      <td>1</td>\n",
              "      <td>0</td>\n",
              "      <td>0</td>\n",
              "      <td>1</td>\n",
              "      <td>0</td>\n",
              "      <td>0</td>\n",
              "      <td>0</td>\n",
              "    </tr>\n",
              "    <tr>\n",
              "      <th>1016827</th>\n",
              "      <td>733</td>\n",
              "      <td>2377</td>\n",
              "      <td>0</td>\n",
              "      <td>1</td>\n",
              "      <td>1</td>\n",
              "      <td>860.0</td>\n",
              "      <td>10.0</td>\n",
              "      <td>1999.0</td>\n",
              "      <td>0</td>\n",
              "      <td>0.0</td>\n",
              "      <td>...</td>\n",
              "      <td>1</td>\n",
              "      <td>0</td>\n",
              "      <td>0</td>\n",
              "      <td>0</td>\n",
              "      <td>1</td>\n",
              "      <td>0</td>\n",
              "      <td>1</td>\n",
              "      <td>0</td>\n",
              "      <td>0</td>\n",
              "      <td>0</td>\n",
              "    </tr>\n",
              "    <tr>\n",
              "      <th>1016863</th>\n",
              "      <td>769</td>\n",
              "      <td>1248</td>\n",
              "      <td>0</td>\n",
              "      <td>1</td>\n",
              "      <td>1</td>\n",
              "      <td>840.0</td>\n",
              "      <td>9.0</td>\n",
              "      <td>2013.0</td>\n",
              "      <td>1</td>\n",
              "      <td>48.0</td>\n",
              "      <td>...</td>\n",
              "      <td>1</td>\n",
              "      <td>0</td>\n",
              "      <td>0</td>\n",
              "      <td>0</td>\n",
              "      <td>1</td>\n",
              "      <td>0</td>\n",
              "      <td>0</td>\n",
              "      <td>0</td>\n",
              "      <td>1</td>\n",
              "      <td>0</td>\n",
              "    </tr>\n",
              "    <tr>\n",
              "      <th>1017042</th>\n",
              "      <td>948</td>\n",
              "      <td>1039</td>\n",
              "      <td>0</td>\n",
              "      <td>1</td>\n",
              "      <td>1</td>\n",
              "      <td>1430.0</td>\n",
              "      <td>9.0</td>\n",
              "      <td>2013.0</td>\n",
              "      <td>0</td>\n",
              "      <td>0.0</td>\n",
              "      <td>...</td>\n",
              "      <td>1</td>\n",
              "      <td>0</td>\n",
              "      <td>0</td>\n",
              "      <td>0</td>\n",
              "      <td>1</td>\n",
              "      <td>0</td>\n",
              "      <td>1</td>\n",
              "      <td>0</td>\n",
              "      <td>0</td>\n",
              "      <td>0</td>\n",
              "    </tr>\n",
              "    <tr>\n",
              "      <th>1017190</th>\n",
              "      <td>1097</td>\n",
              "      <td>1405</td>\n",
              "      <td>0</td>\n",
              "      <td>1</td>\n",
              "      <td>1</td>\n",
              "      <td>720.0</td>\n",
              "      <td>3.0</td>\n",
              "      <td>2002.0</td>\n",
              "      <td>0</td>\n",
              "      <td>0.0</td>\n",
              "      <td>...</td>\n",
              "      <td>1</td>\n",
              "      <td>0</td>\n",
              "      <td>0</td>\n",
              "      <td>0</td>\n",
              "      <td>1</td>\n",
              "      <td>0</td>\n",
              "      <td>1</td>\n",
              "      <td>0</td>\n",
              "      <td>0</td>\n",
              "      <td>0</td>\n",
              "    </tr>\n",
              "  </tbody>\n",
              "</table>\n",
              "<p>844338 rows × 22 columns</p>\n",
              "</div>\n",
              "      <button class=\"colab-df-convert\" onclick=\"convertToInteractive('df-08cdeb49-8247-4b23-a699-ba61e6cc469f')\"\n",
              "              title=\"Convert this dataframe to an interactive table.\"\n",
              "              style=\"display:none;\">\n",
              "        \n",
              "  <svg xmlns=\"http://www.w3.org/2000/svg\" height=\"24px\"viewBox=\"0 0 24 24\"\n",
              "       width=\"24px\">\n",
              "    <path d=\"M0 0h24v24H0V0z\" fill=\"none\"/>\n",
              "    <path d=\"M18.56 5.44l.94 2.06.94-2.06 2.06-.94-2.06-.94-.94-2.06-.94 2.06-2.06.94zm-11 1L8.5 8.5l.94-2.06 2.06-.94-2.06-.94L8.5 2.5l-.94 2.06-2.06.94zm10 10l.94 2.06.94-2.06 2.06-.94-2.06-.94-.94-2.06-.94 2.06-2.06.94z\"/><path d=\"M17.41 7.96l-1.37-1.37c-.4-.4-.92-.59-1.43-.59-.52 0-1.04.2-1.43.59L10.3 9.45l-7.72 7.72c-.78.78-.78 2.05 0 2.83L4 21.41c.39.39.9.59 1.41.59.51 0 1.02-.2 1.41-.59l7.78-7.78 2.81-2.81c.8-.78.8-2.07 0-2.86zM5.41 20L4 18.59l7.72-7.72 1.47 1.35L5.41 20z\"/>\n",
              "  </svg>\n",
              "      </button>\n",
              "      \n",
              "  <style>\n",
              "    .colab-df-container {\n",
              "      display:flex;\n",
              "      flex-wrap:wrap;\n",
              "      gap: 12px;\n",
              "    }\n",
              "\n",
              "    .colab-df-convert {\n",
              "      background-color: #E8F0FE;\n",
              "      border: none;\n",
              "      border-radius: 50%;\n",
              "      cursor: pointer;\n",
              "      display: none;\n",
              "      fill: #1967D2;\n",
              "      height: 32px;\n",
              "      padding: 0 0 0 0;\n",
              "      width: 32px;\n",
              "    }\n",
              "\n",
              "    .colab-df-convert:hover {\n",
              "      background-color: #E2EBFA;\n",
              "      box-shadow: 0px 1px 2px rgba(60, 64, 67, 0.3), 0px 1px 3px 1px rgba(60, 64, 67, 0.15);\n",
              "      fill: #174EA6;\n",
              "    }\n",
              "\n",
              "    [theme=dark] .colab-df-convert {\n",
              "      background-color: #3B4455;\n",
              "      fill: #D2E3FC;\n",
              "    }\n",
              "\n",
              "    [theme=dark] .colab-df-convert:hover {\n",
              "      background-color: #434B5C;\n",
              "      box-shadow: 0px 1px 3px 1px rgba(0, 0, 0, 0.15);\n",
              "      filter: drop-shadow(0px 1px 2px rgba(0, 0, 0, 0.3));\n",
              "      fill: #FFFFFF;\n",
              "    }\n",
              "  </style>\n",
              "\n",
              "      <script>\n",
              "        const buttonEl =\n",
              "          document.querySelector('#df-08cdeb49-8247-4b23-a699-ba61e6cc469f button.colab-df-convert');\n",
              "        buttonEl.style.display =\n",
              "          google.colab.kernel.accessAllowed ? 'block' : 'none';\n",
              "\n",
              "        async function convertToInteractive(key) {\n",
              "          const element = document.querySelector('#df-08cdeb49-8247-4b23-a699-ba61e6cc469f');\n",
              "          const dataTable =\n",
              "            await google.colab.kernel.invokeFunction('convertToInteractive',\n",
              "                                                     [key], {});\n",
              "          if (!dataTable) return;\n",
              "\n",
              "          const docLinkHtml = 'Like what you see? Visit the ' +\n",
              "            '<a target=\"_blank\" href=https://colab.research.google.com/notebooks/data_table.ipynb>data table notebook</a>'\n",
              "            + ' to learn more about interactive tables.';\n",
              "          element.innerHTML = '';\n",
              "          dataTable['output_type'] = 'display_data';\n",
              "          await google.colab.output.renderOutput(dataTable, element);\n",
              "          const docLink = document.createElement('div');\n",
              "          docLink.innerHTML = docLinkHtml;\n",
              "          element.appendChild(docLink);\n",
              "        }\n",
              "      </script>\n",
              "    </div>\n",
              "  </div>\n",
              "  "
            ]
          },
          "metadata": {},
          "execution_count": 334
        }
      ]
    },
    {
      "cell_type": "code",
      "source": [
        "# split training and test datasets\n",
        "from sklearn.model_selection import train_test_split\n",
        "\n",
        "xd_test,xd_train,yd_test,yd_train=train_test_split(xd,Y,test_size=0.2,random_state=1)\n",
        "xl_test,xl_train,yl_test,yl_train=train_test_split(xl,Y,test_size=0.2,random_state=1)"
      ],
      "metadata": {
        "id": "RTmPYvIu2HR1"
      },
      "execution_count": 343,
      "outputs": []
    },
    {
      "cell_type": "markdown",
      "source": [
        "# linear regression"
      ],
      "metadata": {
        "id": "Dcu2eBHrR3G7"
      }
    },
    {
      "cell_type": "markdown",
      "source": [
        "# Linear Regression\n",
        "\n",
        "based on the ordinary least squares (OLS) method.\n",
        "\n",
        "it is used to estimate the unknown parameters in amodel.\n",
        "\n",
        "The method relies on minimizing the sum of squared residuals between the actual and predicted values"
      ],
      "metadata": {
        "id": "xpgXnJNV5Etg"
      }
    },
    {
      "cell_type": "code",
      "source": [
        "\n",
        "from sklearn.linear_model import LinearRegression\n",
        "lin=LinearRegression()\n",
        "linreg=lin.fit(xd_train,yd_train)"
      ],
      "metadata": {
        "id": "jipBTbhA3Qy9"
      },
      "execution_count": 344,
      "outputs": []
    },
    {
      "cell_type": "code",
      "source": [
        "# definte RMSE function\n",
        "from sklearn.metrics import mean_squared_error\n",
        "from math import sqrt\n",
        "def rmse(x,y):\n",
        "  return sqrt(mean_squared_error(x,y))\n",
        "  "
      ],
      "metadata": {
        "id": "MZMYZqXQ8SLw"
      },
      "execution_count": 345,
      "outputs": []
    },
    {
      "cell_type": "code",
      "source": [
        "# definte MAPE function (mean absolute percentage error function)\n",
        "def mape(x, y):\n",
        "  return np.mean(np.abs((x-y)/x))*100"
      ],
      "metadata": {
        "id": "yHU4djxq9d1z"
      },
      "execution_count": 346,
      "outputs": []
    },
    {
      "cell_type": "code",
      "source": [
        "# get cross validation scores \n",
        "yd_predicted=linreg.predict(xd_train)\n",
        "yd_test_predicted=linreg.predict(xd_test)"
      ],
      "metadata": {
        "id": "ikWGoW1i-r04"
      },
      "execution_count": 347,
      "outputs": []
    },
    {
      "cell_type": "code",
      "source": [
        "print(\"Regresion Model Score\" , \":\" , linreg.score(xd_train, yd_train) , \",\" ,\n",
        "      \"Out of Sample Test Score\" ,\":\" , linreg.score(xd_test, yd_test))\n",
        "print(\"Training RMSE\", \":\", rmse(yd_train, yd_predicted),\n",
        "      \"Testing RMSE\", \":\", rmse(yd_test, yd_test_predicted))\n",
        "print(\"Training MAPE\", \":\", mape(yd_train, yd_predicted),\n",
        "      \"Testing MAPE\", \":\", mape(yd_test, yd_test_predicted))"
      ],
      "metadata": {
        "id": "AKZvOswS_1i-",
        "colab": {
          "base_uri": "https://localhost:8080/"
        },
        "outputId": "7c0b1ca0-0a3a-450d-fd30-805688361e44"
      },
      "execution_count": 348,
      "outputs": [
        {
          "output_type": "stream",
          "name": "stdout",
          "text": [
            "Regresion Model Score : 0.8239205831037937 , Out of Sample Test Score : 0.824057298037182\n",
            "Training RMSE : 1296.4612841830492 Testing RMSE : 1303.3867024695276\n",
            "Training MAPE : 14.35517189603885 Testing MAPE : 14.318483491619796\n"
          ]
        }
      ]
    },
    {
      "cell_type": "markdown",
      "source": [
        "# **LARS Lasso Regression**"
      ],
      "metadata": {
        "id": "UQ7TX6ewWbah"
      }
    },
    {
      "cell_type": "code",
      "source": [
        "from sklearn.linear_model import LassoLars\n",
        "las = LassoLars(alpha=0.3, fit_intercept=False, normalize=True)\n",
        "lasreg = las.fit(xd_train, yd_train)"
      ],
      "metadata": {
        "id": "R9KI3byJYf3N"
      },
      "execution_count": 349,
      "outputs": []
    },
    {
      "cell_type": "code",
      "source": [
        "print(\"Regresion Model Score\" , \":\" , lasreg.score(xd_train, yd_train) , \",\" ,\n",
        "      \"Out of Sample Test Score\" ,\":\" , lasreg.score(xd_test, yd_test))\n",
        "\n",
        "yd_predicted = lasreg.predict(xd_train)\n",
        "yd_test_predicted = lasreg.predict(xd_test)\n",
        "\n",
        "print(\"Training RMSE\", \":\", rmse(yd_train, yd_predicted),\n",
        "      \"Testing RMSE\", \":\", rmse(yd_test, yd_test_predicted))\n",
        "print(\"Training MAPE\", \":\", mape(yd_train, yd_predicted),\n",
        "      \"Testing MAPE\", \":\", mape(yd_test, yd_test_predicted))"
      ],
      "metadata": {
        "colab": {
          "base_uri": "https://localhost:8080/"
        },
        "id": "T7OW5x7XkEdU",
        "outputId": "02eff9c6-0bc5-456b-ce8a-d86c8210ec21"
      },
      "execution_count": 350,
      "outputs": [
        {
          "output_type": "stream",
          "name": "stdout",
          "text": [
            "Regresion Model Score : 0.8234839848872532 , Out of Sample Test Score : 0.82359159476427\n",
            "Training RMSE : 1298.067611179723 Testing RMSE : 1305.1105316345459\n",
            "Training MAPE : 14.374883518249407 Testing MAPE : 14.34137755543334\n"
          ]
        }
      ]
    },
    {
      "cell_type": "markdown",
      "source": [
        "###**Bayesian Ridge Regression**"
      ],
      "metadata": {
        "id": "A5ejM8WiCoUK"
      }
    },
    {
      "cell_type": "code",
      "source": [
        "from sklearn.linear_model import BayesianRidge\n",
        "rdg = BayesianRidge()\n",
        "rdgreg = rdg.fit(xd_train, yd_train)"
      ],
      "metadata": {
        "id": "rgJFYxo3Ce4X"
      },
      "execution_count": 351,
      "outputs": []
    },
    {
      "cell_type": "code",
      "source": [
        "# validation\n",
        "print(\"Regresion Model Score\" , \":\" ,rdgreg.score(xd_train, yd_train) , \",\" ,\n",
        "      \"Out of Sample Test Score\" ,\":\" , rdgreg.score(xd_test, yd_test))\n",
        "\n",
        "yd_predicted = rdgreg.predict(xd_train)\n",
        "yd_test_predicted = rdgreg.predict(xd_test)\n",
        "\n",
        "print(\"Training RMSE\", \":\", rmse(yd_train, yd_predicted),\n",
        "      \"Testing RMSE\", \":\", rmse(yd_test, yd_test_predicted))\n",
        "print(\"Training MAPE\", \":\", mape(yd_train, yd_predicted),\n",
        "      \"Testing MAPE\", \":\", mape(yd_test, yd_test_predicted))"
      ],
      "metadata": {
        "id": "OFSVZmMAUvy2",
        "colab": {
          "base_uri": "https://localhost:8080/"
        },
        "outputId": "209fb3f9-9ee1-4e43-9b84-0c1784e88e4f"
      },
      "execution_count": 352,
      "outputs": [
        {
          "output_type": "stream",
          "name": "stdout",
          "text": [
            "Regresion Model Score : 0.8239194221176935 , Out of Sample Test Score : 0.8240549092801628\n",
            "Training RMSE : 1296.4655583085425 Testing RMSE : 1303.3955504169892\n",
            "Training MAPE : 14.355484066795935 Testing MAPE : 14.31881802085486\n"
          ]
        }
      ]
    },
    {
      "cell_type": "markdown",
      "source": [
        "## **Decision Tree Regression**"
      ],
      "metadata": {
        "id": "xSe62ks3kMZD"
      }
    },
    {
      "cell_type": "code",
      "source": [
        "from sklearn.tree import DecisionTreeRegressor\n",
        "tree = DecisionTreeRegressor(min_samples_leaf=20)\n",
        "treereg = tree.fit(xd_train, yd_train)"
      ],
      "metadata": {
        "id": "XcLWF78xkLlR"
      },
      "execution_count": 423,
      "outputs": []
    },
    {
      "cell_type": "code",
      "source": [
        "print(\"Regresion Model Score\" , \":\" , treereg.score(xd_train, yd_train) , \",\" ,\n",
        "      \"Out of Sample Test Score\" ,\":\" , treereg.score(xd_test, yd_test))\n",
        "\n",
        "yd_train_predicted = treereg.predict(xd_train)\n",
        "yd_test_predicted = treereg.predict(xd_test)\n",
        "print(\"Training RMSE\", \":\", rmse(yd_train, yd_train_predicted),\n",
        "      \"Testing RMSE\", \":\", rmse(yd_test, yd_test_predicted))\n",
        "print(\"Training MAPE\", \":\", mape(yd_train, yd_train_predicted),\n",
        "      \"Testing MAPE\", \":\", mape(yd_test, yd_test_predicted))"
      ],
      "metadata": {
        "id": "sUFu5B_fkIMn",
        "colab": {
          "base_uri": "https://localhost:8080/"
        },
        "outputId": "24652b87-6d02-4ad1-f2be-7967c1a2108d"
      },
      "execution_count": 442,
      "outputs": [
        {
          "output_type": "stream",
          "name": "stdout",
          "text": [
            "Regresion Model Score : 0.9453541868341278 , Out of Sample Test Score : 0.9307112695113574\n",
            "Training RMSE : 722.2436012748586 Testing RMSE : 817.9353146555306\n",
            "Training MAPE : 7.1193211062111335 Testing MAPE : 7.916909490384429\n"
          ]
        }
      ]
    },
    {
      "cell_type": "markdown",
      "source": [
        "## **Random Forest Regression**"
      ],
      "metadata": {
        "id": "_I96eetImU3x"
      }
    },
    {
      "cell_type": "code",
      "source": [
        "from sklearn.ensemble import RandomForestRegressor\n",
        "rdf = RandomForestRegressor(n_estimators=30)\n",
        "rdfreg = rdf.fit(xd_train, yd_train)"
      ],
      "metadata": {
        "id": "O_-Wk-_AmPEV"
      },
      "execution_count": 427,
      "outputs": []
    },
    {
      "cell_type": "code",
      "source": [
        "print(\"Regresion Model Score\" , \":\" , rdfreg.score(xd_train, yd_train) , \",\" ,\n",
        "      \"Out of Sample Test Score\" ,\":\" , rdfreg.score(xd_test, yd_test))   \n",
        "\n",
        "yd_train_predicted = rdfreg.predict(xd_train)\n",
        "yd_test_predicted = rdfreg.predict(xd_test)\n",
        "\n",
        "print(\"Training RMSE\", \":\", rmse(yd_train, yd_train_predicted),\n",
        "      \"Testing RMSE\", \":\", rmse(yd_test, yd_test_predicted))\n",
        "print(\"Training MAPE\", \":\", mape(yd_train, yd_train_predicted),\n",
        "      \"Testing MAPE\", \":\", mape(yd_test, yd_test_predicted))"
      ],
      "metadata": {
        "id": "iC4wJOg5majs",
        "colab": {
          "base_uri": "https://localhost:8080/"
        },
        "outputId": "6c704e2d-f5b8-489c-fa02-3113ac199317"
      },
      "execution_count": 441,
      "outputs": [
        {
          "output_type": "stream",
          "name": "stdout",
          "text": [
            "Regresion Model Score : 0.9927631947914813 , Out of Sample Test Score : 0.9583053930550967\n",
            "Training RMSE : 262.8322772508609 Testing RMSE : 634.4941164955326\n",
            "Training MAPE : 2.589478975110715 Testing MAPE : 6.238036246705606\n"
          ]
        }
      ]
    },
    {
      "cell_type": "code",
      "source": [
        "features = xd_train.columns\n",
        "importances = rdfreg.feature_importances_\n",
        "indices = np.argsort(importances)\n",
        "plt.figure(figsize=(8,10))\n",
        "plt.title('Feature Importances', fontsize=20)\n",
        "plt.barh(range(len(indices)), importances[indices], color='pink', align='center')\n",
        "plt.yticks(range(len(indices)), features[indices])\n",
        "plt.xlabel('Relative Importance')"
      ],
      "metadata": {
        "colab": {
          "base_uri": "https://localhost:8080/",
          "height": 644
        },
        "id": "hpz6J4Zu-R3s",
        "outputId": "2249e2ce-759f-40f6-a348-5eab04517cb4"
      },
      "execution_count": 446,
      "outputs": [
        {
          "output_type": "execute_result",
          "data": {
            "text/plain": [
              "Text(0.5, 0, 'Relative Importance')"
            ]
          },
          "metadata": {},
          "execution_count": 446
        },
        {
          "output_type": "display_data",
          "data": {
            "text/plain": [
              "<Figure size 576x720 with 1 Axes>"
            ],
            "image/png": "[encoded data removed]"
          },
          "metadata": {}
        }
      ]
    }
  ],
  "metadata": {
    "colab": {
      "collapsed_sections": [],
      "provenance": [],
      "include_colab_link": true
    },
    "kernelspec": {
      "display_name": "Python 3",
      "language": "python",
      "name": "python3"
    },
    "language_info": {
      "codemirror_mode": {
        "name": "ipython",
        "version": 3
      },
      "file_extension": ".py",
      "mimetype": "text/x-python",
      "name": "python",
      "nbconvert_exporter": "python",
      "pygments_lexer": "ipython3",
      "version": "3.6.6"
    }
  },
  "nbformat": 4,
  "nbformat_minor": 0
}